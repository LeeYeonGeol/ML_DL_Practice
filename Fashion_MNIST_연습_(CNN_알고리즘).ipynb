{
  "nbformat": 4,
  "nbformat_minor": 0,
  "metadata": {
    "colab": {
      "name": "Fashion_MNIST_연습_(CNN 알고리즘).ipynb",
      "provenance": [],
      "collapsed_sections": [],
      "authorship_tag": "ABX9TyPZUoqyVkIrGFXCBmpzz7Vg",
      "include_colab_link": true
    },
    "kernelspec": {
      "name": "python3",
      "display_name": "Python 3"
    },
    "language_info": {
      "name": "python"
    },
    "accelerator": "GPU"
  },
  "cells": [
    {
      "cell_type": "markdown",
      "metadata": {
        "id": "view-in-github",
        "colab_type": "text"
      },
      "source": [
        "<a href=\"https://colab.research.google.com/github/LeeYeonGeol/ML_DL_Practice/blob/main/Fashion_MNIST_%EC%97%B0%EC%8A%B5_(CNN_%EC%95%8C%EA%B3%A0%EB%A6%AC%EC%A6%98).ipynb\" target=\"_parent\"><img src=\"https://colab.research.google.com/assets/colab-badge.svg\" alt=\"Open In Colab\"/></a>"
      ]
    },
    {
      "cell_type": "code",
      "metadata": {
        "id": "AVESJf8jNBDC"
      },
      "source": [
        "import numpy as np\n",
        "import pandas as pd\n",
        "import os"
      ],
      "execution_count": 1,
      "outputs": []
    },
    {
      "cell_type": "markdown",
      "metadata": {
        "id": "58qN00HgNVFg"
      },
      "source": [
        "# Conv2D 적용하기"
      ]
    },
    {
      "cell_type": "code",
      "metadata": {
        "colab": {
          "base_uri": "https://localhost:8080/"
        },
        "id": "z8Oyb-r1NSgG",
        "outputId": "afdb57d9-3c2f-4946-8943-bd57bdb7311e"
      },
      "source": [
        "from tensorflow.keras.layers import Input, Conv2D, MaxPooling2D\n",
        "from tensorflow.keras.models import Model\n",
        "\n",
        "input_tensor = Input(shape=(28, 28, 1))\n",
        "x = Conv2D(filters=4, kernel_size=3, strides=1, padding='same', activation='relu')(input_tensor)\n",
        "print('x type:', type(x), 'x:', x)"
      ],
      "execution_count": 2,
      "outputs": [
        {
          "output_type": "stream",
          "text": [
            "x type: <class 'tensorflow.python.keras.engine.keras_tensor.KerasTensor'> x: KerasTensor(type_spec=TensorSpec(shape=(None, 28, 28, 4), dtype=tf.float32, name=None), name='conv2d/Relu:0', description=\"created by layer 'conv2d'\")\n"
          ],
          "name": "stdout"
        }
      ]
    },
    {
      "cell_type": "markdown",
      "metadata": {
        "id": "a5romc1vN-my"
      },
      "source": [
        "# Pooling 적용하기"
      ]
    },
    {
      "cell_type": "code",
      "metadata": {
        "colab": {
          "base_uri": "https://localhost:8080/"
        },
        "id": "GdKZsE8zNtc9",
        "outputId": "50de5b67-e783-4bc9-9847-c0c397e8f42c"
      },
      "source": [
        "input_tensor = Input(shape=(28, 28, 1))\n",
        "x = Conv2D(filters=16, kernel_size=3, strides=1, padding='same', activation='relu')(input_tensor)\n",
        "x = MaxPooling2D(2)(x)\n",
        "print(x)"
      ],
      "execution_count": 3,
      "outputs": [
        {
          "output_type": "stream",
          "text": [
            "KerasTensor(type_spec=TensorSpec(shape=(None, 14, 14, 16), dtype=tf.float32, name=None), name='max_pooling2d/MaxPool:0', description=\"created by layer 'max_pooling2d'\")\n"
          ],
          "name": "stdout"
        }
      ]
    },
    {
      "cell_type": "markdown",
      "metadata": {
        "id": "vLYI5SbrQe6p"
      },
      "source": [
        "# CNN 모델 생성"
      ]
    },
    {
      "cell_type": "code",
      "metadata": {
        "colab": {
          "base_uri": "https://localhost:8080/"
        },
        "id": "27mWpDhTO5_3",
        "outputId": "ea28b992-1b48-49cd-bc66-b2fe5dd1f611"
      },
      "source": [
        "input_tensor = Input(shape=(28, 28, 1))\n",
        "x = Conv2D(filters=32, kernel_size=3, strides=1, padding='same', activation='relu')(input_tensor)\n",
        "x = Conv2D(filters=64, kernel_size=3,activation='relu')(x)\n",
        "x = MaxPooling2D(2)(x)\n",
        "\n",
        "model = Model(inputs=input_tensor, outputs=x)\n",
        "model.summary()"
      ],
      "execution_count": 4,
      "outputs": [
        {
          "output_type": "stream",
          "text": [
            "Model: \"model\"\n",
            "_________________________________________________________________\n",
            "Layer (type)                 Output Shape              Param #   \n",
            "=================================================================\n",
            "input_3 (InputLayer)         [(None, 28, 28, 1)]       0         \n",
            "_________________________________________________________________\n",
            "conv2d_2 (Conv2D)            (None, 28, 28, 32)        320       \n",
            "_________________________________________________________________\n",
            "conv2d_3 (Conv2D)            (None, 26, 26, 64)        18496     \n",
            "_________________________________________________________________\n",
            "max_pooling2d_1 (MaxPooling2 (None, 13, 13, 64)        0         \n",
            "=================================================================\n",
            "Total params: 18,816\n",
            "Trainable params: 18,816\n",
            "Non-trainable params: 0\n",
            "_________________________________________________________________\n"
          ],
          "name": "stdout"
        }
      ]
    },
    {
      "cell_type": "code",
      "metadata": {
        "colab": {
          "base_uri": "https://localhost:8080/"
        },
        "id": "c5jgXgO0QxXy",
        "outputId": "46c5cf83-516b-4277-9d63-aa12f629fef5"
      },
      "source": [
        "from tensorflow.keras.layers import Dense, Flatten\n",
        "input_tensor = Input(shape=(28, 28, 1))\n",
        "x = Conv2D(filters=32, kernel_size=3, strides=1, padding='same', activation='relu')(input_tensor)\n",
        "x = Conv2D(filters=64, kernel_size=3,activation='relu')(x)\n",
        "x = MaxPooling2D(2)(x)\n",
        "\n",
        "# 3차원으로 되어있는 Feature map 결과를 Fully Connected 연결하기 위해서는 Flatten()을 적용해야 한다.\n",
        "x = Flatten()(x)\n",
        "x = Dense(100, activation='relu')(x)\n",
        "output = Dense(10, activation='softmax')(x)\n",
        "model = Model(inputs=input_tensor, outputs=output)\n",
        "model.summary()"
      ],
      "execution_count": 5,
      "outputs": [
        {
          "output_type": "stream",
          "text": [
            "Model: \"model_1\"\n",
            "_________________________________________________________________\n",
            "Layer (type)                 Output Shape              Param #   \n",
            "=================================================================\n",
            "input_4 (InputLayer)         [(None, 28, 28, 1)]       0         \n",
            "_________________________________________________________________\n",
            "conv2d_4 (Conv2D)            (None, 28, 28, 32)        320       \n",
            "_________________________________________________________________\n",
            "conv2d_5 (Conv2D)            (None, 26, 26, 64)        18496     \n",
            "_________________________________________________________________\n",
            "max_pooling2d_2 (MaxPooling2 (None, 13, 13, 64)        0         \n",
            "_________________________________________________________________\n",
            "flatten (Flatten)            (None, 10816)             0         \n",
            "_________________________________________________________________\n",
            "dense (Dense)                (None, 100)               1081700   \n",
            "_________________________________________________________________\n",
            "dense_1 (Dense)              (None, 10)                1010      \n",
            "=================================================================\n",
            "Total params: 1,101,526\n",
            "Trainable params: 1,101,526\n",
            "Non-trainable params: 0\n",
            "_________________________________________________________________\n"
          ],
          "name": "stdout"
        }
      ]
    },
    {
      "cell_type": "markdown",
      "metadata": {
        "id": "121ma6cFUZDp"
      },
      "source": [
        "# Fashion MNIST 데이터 전처리후 모델 학습"
      ]
    },
    {
      "cell_type": "code",
      "metadata": {
        "id": "qFIPugcuT1Ue"
      },
      "source": [
        "from tensorflow.keras.datasets import fashion_mnist\n",
        "from tensorflow.keras.utils import to_categorical\n",
        "from sklearn.model_selection import train_test_split\n",
        "\n",
        "(train_images, train_labels), (test_images, test_labels) = fashion_mnist.load_data()\n",
        "\n",
        "def get_preprocessed_data(images, labels):\n",
        "  images = np.array(images/255.0, dtype=np.float32)\n",
        "  labels = np.array(labels, dtype= np.float32)\n",
        "\n",
        "  return images, labels\n",
        "\n",
        "def get_preprocessed_ohe(images, labels):\n",
        "  images, labels = get_preprocessed_data(images, labels)\n",
        "  # OHE 적용\n",
        "  oh_labels = to_categorical(labels)\n",
        "  return images, oh_labels\n",
        "\n",
        "def get_train_valid_test_set(train_images, train_labels, test_images, test_labels, valid_size=0.15, random_state=2021):\n",
        "  train_images, train_oh_labels = get_preprocessed_ohe(train_images, train_labels)\n",
        "  test_images, test_oh_labels = get_preprocessed_ohe(test_images, test_labels)\n",
        "\n",
        "  tr_images, val_images, tr_oh_labels, val_oh_labels = train_test_split(train_images, train_oh_labels, test_size=valid_size, random_state=random_state)\n",
        "\n",
        "  return (tr_images, tr_oh_labels), (val_images, val_oh_labels), (test_images, test_oh_labels)\n",
        "\n",
        "(tr_images, tr_oh_labels), (val_images, val_oh_labels), (test_images, test_oh_labels) = \\\n",
        "    get_train_valid_test_set(train_images, train_labels, test_images, test_labels, valid_size=0.15, random_state=2021)"
      ],
      "execution_count": 6,
      "outputs": []
    },
    {
      "cell_type": "code",
      "metadata": {
        "id": "Q-YBKUoRWHnO"
      },
      "source": [
        "from tensorflow.keras.optimizers import Adam\n",
        "from tensorflow.keras.losses import CategoricalCrossentropy\n",
        "from tensorflow.keras.metrics import Accuracy\n",
        "\n",
        "model.compile(optimizer=Adam(0.001), loss='categorical_crossentropy', metrics=['accuracy'])"
      ],
      "execution_count": 7,
      "outputs": []
    },
    {
      "cell_type": "code",
      "metadata": {
        "colab": {
          "base_uri": "https://localhost:8080/"
        },
        "id": "AmfuhE3mWvjJ",
        "outputId": "4e9a3beb-bb9c-459c-d18f-5fff49a81340"
      },
      "source": [
        "history = model.fit(x=tr_images, y=tr_oh_labels, batch_size=128, epochs=30, validation_data=(val_images, val_oh_labels))"
      ],
      "execution_count": 8,
      "outputs": [
        {
          "output_type": "stream",
          "text": [
            "Epoch 1/30\n",
            "399/399 [==============================] - 7s 10ms/step - loss: 0.6340 - accuracy: 0.7813 - val_loss: 0.3232 - val_accuracy: 0.8872\n",
            "Epoch 2/30\n",
            "399/399 [==============================] - 4s 9ms/step - loss: 0.2797 - accuracy: 0.8985 - val_loss: 0.2605 - val_accuracy: 0.9072\n",
            "Epoch 3/30\n",
            "399/399 [==============================] - 4s 9ms/step - loss: 0.2226 - accuracy: 0.9195 - val_loss: 0.2319 - val_accuracy: 0.9156\n",
            "Epoch 4/30\n",
            "399/399 [==============================] - 4s 9ms/step - loss: 0.1837 - accuracy: 0.9325 - val_loss: 0.2222 - val_accuracy: 0.9189\n",
            "Epoch 5/30\n",
            "399/399 [==============================] - 4s 9ms/step - loss: 0.1497 - accuracy: 0.9467 - val_loss: 0.2275 - val_accuracy: 0.9190\n",
            "Epoch 6/30\n",
            "399/399 [==============================] - 4s 9ms/step - loss: 0.1241 - accuracy: 0.9567 - val_loss: 0.2298 - val_accuracy: 0.9213\n",
            "Epoch 7/30\n",
            "399/399 [==============================] - 4s 9ms/step - loss: 0.1000 - accuracy: 0.9641 - val_loss: 0.2352 - val_accuracy: 0.9217\n",
            "Epoch 8/30\n",
            "399/399 [==============================] - 4s 9ms/step - loss: 0.0778 - accuracy: 0.9722 - val_loss: 0.2516 - val_accuracy: 0.9209\n",
            "Epoch 9/30\n",
            "399/399 [==============================] - 4s 9ms/step - loss: 0.0583 - accuracy: 0.9798 - val_loss: 0.2547 - val_accuracy: 0.9260\n",
            "Epoch 10/30\n",
            "399/399 [==============================] - 4s 9ms/step - loss: 0.0480 - accuracy: 0.9833 - val_loss: 0.2815 - val_accuracy: 0.9250\n",
            "Epoch 11/30\n",
            "399/399 [==============================] - 4s 9ms/step - loss: 0.0356 - accuracy: 0.9880 - val_loss: 0.3093 - val_accuracy: 0.9236\n",
            "Epoch 12/30\n",
            "399/399 [==============================] - 4s 9ms/step - loss: 0.0277 - accuracy: 0.9913 - val_loss: 0.3340 - val_accuracy: 0.9210\n",
            "Epoch 13/30\n",
            "399/399 [==============================] - 4s 9ms/step - loss: 0.0207 - accuracy: 0.9930 - val_loss: 0.3289 - val_accuracy: 0.9236\n",
            "Epoch 14/30\n",
            "399/399 [==============================] - 4s 9ms/step - loss: 0.0205 - accuracy: 0.9929 - val_loss: 0.3565 - val_accuracy: 0.9248\n",
            "Epoch 15/30\n",
            "399/399 [==============================] - 4s 9ms/step - loss: 0.0112 - accuracy: 0.9970 - val_loss: 0.4185 - val_accuracy: 0.9219\n",
            "Epoch 16/30\n",
            "399/399 [==============================] - 4s 9ms/step - loss: 0.0159 - accuracy: 0.9944 - val_loss: 0.4551 - val_accuracy: 0.9181\n",
            "Epoch 17/30\n",
            "399/399 [==============================] - 4s 9ms/step - loss: 0.0232 - accuracy: 0.9918 - val_loss: 0.3903 - val_accuracy: 0.9209\n",
            "Epoch 18/30\n",
            "399/399 [==============================] - 4s 9ms/step - loss: 0.0145 - accuracy: 0.9951 - val_loss: 0.4264 - val_accuracy: 0.9248\n",
            "Epoch 19/30\n",
            "399/399 [==============================] - 4s 9ms/step - loss: 0.0060 - accuracy: 0.9987 - val_loss: 0.4885 - val_accuracy: 0.9202\n",
            "Epoch 20/30\n",
            "399/399 [==============================] - 4s 9ms/step - loss: 0.0081 - accuracy: 0.9975 - val_loss: 0.4590 - val_accuracy: 0.9261\n",
            "Epoch 21/30\n",
            "399/399 [==============================] - 4s 9ms/step - loss: 0.0028 - accuracy: 0.9993 - val_loss: 0.5384 - val_accuracy: 0.9128\n",
            "Epoch 22/30\n",
            "399/399 [==============================] - 4s 9ms/step - loss: 0.0211 - accuracy: 0.9925 - val_loss: 0.4552 - val_accuracy: 0.9211\n",
            "Epoch 23/30\n",
            "399/399 [==============================] - 4s 9ms/step - loss: 0.0110 - accuracy: 0.9967 - val_loss: 0.4717 - val_accuracy: 0.9208\n",
            "Epoch 24/30\n",
            "399/399 [==============================] - 4s 9ms/step - loss: 0.0077 - accuracy: 0.9980 - val_loss: 0.5124 - val_accuracy: 0.9242\n",
            "Epoch 25/30\n",
            "399/399 [==============================] - 4s 9ms/step - loss: 0.0051 - accuracy: 0.9988 - val_loss: 0.4993 - val_accuracy: 0.9237\n",
            "Epoch 26/30\n",
            "399/399 [==============================] - 4s 9ms/step - loss: 0.0113 - accuracy: 0.9964 - val_loss: 0.4962 - val_accuracy: 0.9263\n",
            "Epoch 27/30\n",
            "399/399 [==============================] - 4s 9ms/step - loss: 0.0096 - accuracy: 0.9970 - val_loss: 0.5365 - val_accuracy: 0.9244\n",
            "Epoch 28/30\n",
            "399/399 [==============================] - 4s 9ms/step - loss: 0.0035 - accuracy: 0.9988 - val_loss: 0.5398 - val_accuracy: 0.9236\n",
            "Epoch 29/30\n",
            "399/399 [==============================] - 4s 9ms/step - loss: 0.0022 - accuracy: 0.9993 - val_loss: 0.5836 - val_accuracy: 0.9211\n",
            "Epoch 30/30\n",
            "399/399 [==============================] - 4s 9ms/step - loss: 0.0087 - accuracy: 0.9972 - val_loss: 0.5729 - val_accuracy: 0.9226\n"
          ],
          "name": "stdout"
        }
      ]
    },
    {
      "cell_type": "markdown",
      "metadata": {
        "id": "9oC0eEThYKKo"
      },
      "source": [
        "# 모델 성능 평가"
      ]
    },
    {
      "cell_type": "code",
      "metadata": {
        "colab": {
          "base_uri": "https://localhost:8080/",
          "height": 265
        },
        "id": "_dRCVbQBXZjr",
        "outputId": "39e01cd7-7fd0-44b0-d210-5b3f749ff23a"
      },
      "source": [
        "import matplotlib.pyplot as plt\n",
        "%matplotlib inline\n",
        "\n",
        "def show_history(history):\n",
        "  plt.plot(history.history['accuracy'], label='train')\n",
        "  plt.plot(history.history['val_accuracy'], label='valid')\n",
        "  plt.legend()\n",
        "\n",
        "show_history(history)"
      ],
      "execution_count": 9,
      "outputs": [
        {
          "output_type": "display_data",
          "data": {
            "image/png": "[encoded data removed]",
            "text/plain": [
              "<Figure size 432x288 with 1 Axes>"
            ]
          },
          "metadata": {
            "tags": [],
            "needs_background": "light"
          }
        }
      ]
    },
    {
      "cell_type": "code",
      "metadata": {
        "colab": {
          "base_uri": "https://localhost:8080/"
        },
        "id": "a18bpyJBYhgS",
        "outputId": "5933d5e7-3f76-4940-c8ff-535e7842a643"
      },
      "source": [
        "# 테스트 데이터 세트로 모델 성능 검증\n",
        "model.evaluate(test_images, test_oh_labels, batch_size=256, verbose=1)"
      ],
      "execution_count": 10,
      "outputs": [
        {
          "output_type": "stream",
          "text": [
            "40/40 [==============================] - 0s 6ms/step - loss: 0.5666 - accuracy: 0.9277\n"
          ],
          "name": "stdout"
        },
        {
          "output_type": "execute_result",
          "data": {
            "text/plain": [
              "[0.5665686130523682, 0.9276999831199646]"
            ]
          },
          "metadata": {
            "tags": []
          },
          "execution_count": 10
        }
      ]
    },
    {
      "cell_type": "markdown",
      "metadata": {
        "id": "X_uDf6VbY3s-"
      },
      "source": [
        "# Droptout을 적용하여 Fully Connected Layer의 오버피팅 조정"
      ]
    },
    {
      "cell_type": "code",
      "metadata": {
        "colab": {
          "base_uri": "https://localhost:8080/"
        },
        "id": "HYRZgCi5Yuys",
        "outputId": "81976bc5-9446-474d-f7a8-b0cfc91959e7"
      },
      "source": [
        "from tensorflow.keras.layers import Dense, Flatten, Dropout\n",
        "input_tensor = Input(shape=(28, 28, 1))\n",
        "x = Conv2D(filters=32, kernel_size=3, strides=1, padding='same', activation='relu')(input_tensor)\n",
        "x = Conv2D(filters=64, kernel_size=3,activation='relu')(x)\n",
        "x = MaxPooling2D(2)(x)\n",
        "\n",
        "# 3차원으로 되어있는 Feature map 결과를 Fully Connected 연결하기 위해서는 Flatten()을 적용해야 한다.\n",
        "x = Flatten()(x)\n",
        "x = Dropout(rate=0.5)(x)\n",
        "x = Dense(100, activation='relu')(x)\n",
        "output = Dense(10, activation='softmax')(x)\n",
        "model = Model(inputs=input_tensor, outputs=output)\n",
        "model.summary()"
      ],
      "execution_count": 11,
      "outputs": [
        {
          "output_type": "stream",
          "text": [
            "Model: \"model_2\"\n",
            "_________________________________________________________________\n",
            "Layer (type)                 Output Shape              Param #   \n",
            "=================================================================\n",
            "input_5 (InputLayer)         [(None, 28, 28, 1)]       0         \n",
            "_________________________________________________________________\n",
            "conv2d_6 (Conv2D)            (None, 28, 28, 32)        320       \n",
            "_________________________________________________________________\n",
            "conv2d_7 (Conv2D)            (None, 26, 26, 64)        18496     \n",
            "_________________________________________________________________\n",
            "max_pooling2d_3 (MaxPooling2 (None, 13, 13, 64)        0         \n",
            "_________________________________________________________________\n",
            "flatten_1 (Flatten)          (None, 10816)             0         \n",
            "_________________________________________________________________\n",
            "dropout (Dropout)            (None, 10816)             0         \n",
            "_________________________________________________________________\n",
            "dense_2 (Dense)              (None, 100)               1081700   \n",
            "_________________________________________________________________\n",
            "dense_3 (Dense)              (None, 10)                1010      \n",
            "=================================================================\n",
            "Total params: 1,101,526\n",
            "Trainable params: 1,101,526\n",
            "Non-trainable params: 0\n",
            "_________________________________________________________________\n"
          ],
          "name": "stdout"
        }
      ]
    },
    {
      "cell_type": "code",
      "metadata": {
        "colab": {
          "base_uri": "https://localhost:8080/"
        },
        "id": "QT6g9iFAZtBB",
        "outputId": "0882ef1a-e634-480c-d6f7-41648902e3ed"
      },
      "source": [
        "model.compile(optimizer=Adam(0.001), loss='categorical_crossentropy', metrics=['accuracy'])\n",
        "history = model.fit(x=tr_images, y=tr_oh_labels, batch_size=128, epochs=30, validation_data=(val_images, val_oh_labels))"
      ],
      "execution_count": 12,
      "outputs": [
        {
          "output_type": "stream",
          "text": [
            "Epoch 1/30\n",
            "399/399 [==============================] - 4s 10ms/step - loss: 0.6299 - accuracy: 0.7805 - val_loss: 0.3194 - val_accuracy: 0.8862\n",
            "Epoch 2/30\n",
            "399/399 [==============================] - 4s 9ms/step - loss: 0.3142 - accuracy: 0.8872 - val_loss: 0.2644 - val_accuracy: 0.9011\n",
            "Epoch 3/30\n",
            "399/399 [==============================] - 4s 9ms/step - loss: 0.2533 - accuracy: 0.9060 - val_loss: 0.2355 - val_accuracy: 0.9118\n",
            "Epoch 4/30\n",
            "399/399 [==============================] - 4s 9ms/step - loss: 0.2166 - accuracy: 0.9192 - val_loss: 0.2321 - val_accuracy: 0.9149\n",
            "Epoch 5/30\n",
            "399/399 [==============================] - 4s 9ms/step - loss: 0.1962 - accuracy: 0.9266 - val_loss: 0.2383 - val_accuracy: 0.9096\n",
            "Epoch 6/30\n",
            "399/399 [==============================] - 4s 9ms/step - loss: 0.1747 - accuracy: 0.9343 - val_loss: 0.2137 - val_accuracy: 0.9230\n",
            "Epoch 7/30\n",
            "399/399 [==============================] - 4s 9ms/step - loss: 0.1538 - accuracy: 0.9426 - val_loss: 0.2149 - val_accuracy: 0.9212\n",
            "Epoch 8/30\n",
            "399/399 [==============================] - 4s 9ms/step - loss: 0.1427 - accuracy: 0.9474 - val_loss: 0.2192 - val_accuracy: 0.9257\n",
            "Epoch 9/30\n",
            "399/399 [==============================] - 4s 9ms/step - loss: 0.1244 - accuracy: 0.9536 - val_loss: 0.2069 - val_accuracy: 0.9268\n",
            "Epoch 10/30\n",
            "399/399 [==============================] - 4s 9ms/step - loss: 0.1134 - accuracy: 0.9578 - val_loss: 0.2157 - val_accuracy: 0.9251\n",
            "Epoch 11/30\n",
            "399/399 [==============================] - 4s 9ms/step - loss: 0.1021 - accuracy: 0.9626 - val_loss: 0.2158 - val_accuracy: 0.9284\n",
            "Epoch 12/30\n",
            "399/399 [==============================] - 4s 9ms/step - loss: 0.0936 - accuracy: 0.9646 - val_loss: 0.2185 - val_accuracy: 0.9303\n",
            "Epoch 13/30\n",
            "399/399 [==============================] - 4s 9ms/step - loss: 0.0807 - accuracy: 0.9702 - val_loss: 0.2274 - val_accuracy: 0.9279\n",
            "Epoch 14/30\n",
            "399/399 [==============================] - 4s 9ms/step - loss: 0.0771 - accuracy: 0.9703 - val_loss: 0.2374 - val_accuracy: 0.9300\n",
            "Epoch 15/30\n",
            "399/399 [==============================] - 4s 9ms/step - loss: 0.0678 - accuracy: 0.9748 - val_loss: 0.2347 - val_accuracy: 0.9306\n",
            "Epoch 16/30\n",
            "399/399 [==============================] - 4s 9ms/step - loss: 0.0647 - accuracy: 0.9756 - val_loss: 0.2450 - val_accuracy: 0.9287\n",
            "Epoch 17/30\n",
            "399/399 [==============================] - 4s 9ms/step - loss: 0.0539 - accuracy: 0.9808 - val_loss: 0.2437 - val_accuracy: 0.9309\n",
            "Epoch 18/30\n",
            "399/399 [==============================] - 4s 9ms/step - loss: 0.0518 - accuracy: 0.9806 - val_loss: 0.2765 - val_accuracy: 0.9264\n",
            "Epoch 19/30\n",
            "399/399 [==============================] - 4s 9ms/step - loss: 0.0561 - accuracy: 0.9790 - val_loss: 0.2523 - val_accuracy: 0.9292\n",
            "Epoch 20/30\n",
            "399/399 [==============================] - 4s 9ms/step - loss: 0.0463 - accuracy: 0.9825 - val_loss: 0.2773 - val_accuracy: 0.9288\n",
            "Epoch 21/30\n",
            "399/399 [==============================] - 4s 9ms/step - loss: 0.0418 - accuracy: 0.9839 - val_loss: 0.2731 - val_accuracy: 0.9294\n",
            "Epoch 22/30\n",
            "399/399 [==============================] - 4s 9ms/step - loss: 0.0412 - accuracy: 0.9847 - val_loss: 0.2589 - val_accuracy: 0.9333\n",
            "Epoch 23/30\n",
            "399/399 [==============================] - 4s 9ms/step - loss: 0.0385 - accuracy: 0.9856 - val_loss: 0.2834 - val_accuracy: 0.9308\n",
            "Epoch 24/30\n",
            "399/399 [==============================] - 4s 9ms/step - loss: 0.0363 - accuracy: 0.9873 - val_loss: 0.2934 - val_accuracy: 0.9287\n",
            "Epoch 25/30\n",
            "399/399 [==============================] - 4s 9ms/step - loss: 0.0359 - accuracy: 0.9862 - val_loss: 0.3127 - val_accuracy: 0.9288\n",
            "Epoch 26/30\n",
            "399/399 [==============================] - 4s 9ms/step - loss: 0.0305 - accuracy: 0.9894 - val_loss: 0.2974 - val_accuracy: 0.9290\n",
            "Epoch 27/30\n",
            "399/399 [==============================] - 4s 9ms/step - loss: 0.0304 - accuracy: 0.9886 - val_loss: 0.3093 - val_accuracy: 0.9296\n",
            "Epoch 28/30\n",
            "399/399 [==============================] - 4s 9ms/step - loss: 0.0301 - accuracy: 0.9889 - val_loss: 0.3140 - val_accuracy: 0.9292\n",
            "Epoch 29/30\n",
            "399/399 [==============================] - 4s 9ms/step - loss: 0.0335 - accuracy: 0.9876 - val_loss: 0.3045 - val_accuracy: 0.9336\n",
            "Epoch 30/30\n",
            "399/399 [==============================] - 4s 9ms/step - loss: 0.0297 - accuracy: 0.9894 - val_loss: 0.3102 - val_accuracy: 0.9321\n"
          ],
          "name": "stdout"
        }
      ]
    },
    {
      "cell_type": "code",
      "metadata": {
        "colab": {
          "base_uri": "https://localhost:8080/",
          "height": 300
        },
        "id": "wrpl_TO0amSr",
        "outputId": "25e20127-47e9-4b9d-f0d5-81c5ee534326"
      },
      "source": [
        "show_history(history)\n",
        "model.evaluate(test_images, test_oh_labels, batch_size=256, verbose=1)"
      ],
      "execution_count": 13,
      "outputs": [
        {
          "output_type": "stream",
          "text": [
            "40/40 [==============================] - 0s 5ms/step - loss: 0.3308 - accuracy: 0.9299\n"
          ],
          "name": "stdout"
        },
        {
          "output_type": "execute_result",
          "data": {
            "text/plain": [
              "[0.33078840374946594, 0.9298999905586243]"
            ]
          },
          "metadata": {
            "tags": []
          },
          "execution_count": 13
        },
        {
          "output_type": "display_data",
          "data": {
            "image/png": "[encoded data removed]",
            "text/plain": [
              "<Figure size 432x288 with 1 Axes>"
            ]
          },
          "metadata": {
            "tags": [],
            "needs_background": "light"
          }
        }
      ]
    },
    {
      "cell_type": "markdown",
      "metadata": {
        "id": "qE0W4xpUc6sp"
      },
      "source": [
        "# Dropout 적극적으로 활용하기"
      ]
    },
    {
      "cell_type": "code",
      "metadata": {
        "colab": {
          "base_uri": "https://localhost:8080/"
        },
        "id": "afNgEYwHciYO",
        "outputId": "94d66d14-e4fe-4505-e416-a0442b96a3e6"
      },
      "source": [
        "from tensorflow.keras.layers import Dense, Flatten, Dropout, GlobalAveragePooling2D\n",
        "\n",
        "def create_model():\n",
        "  input_tensor = Input(shape = (28, 28, 1))\n",
        "  x = Conv2D(filters=32, kernel_size=3, strides=1, padding='same', activation='relu')(input_tensor)\n",
        "  x = Conv2D(filters=64, kernel_size=3, activation='relu')(x)\n",
        "  x = MaxPooling2D(2)(x)\n",
        "\n",
        "  x = Flatten()(x)\n",
        "  x = Dropout(rate=0.5)(x)\n",
        "  x = Dense(200, activation='relu')(x)\n",
        "  x = Dropout(rate=0.2)(x)\n",
        "  output = Dense(10, activation='softmax')(x)\n",
        "  model = Model(inputs=input_tensor, outputs=output)\n",
        "  model.summary()\n",
        "\n",
        "  return model\n",
        "\n",
        "model = create_model()"
      ],
      "execution_count": 15,
      "outputs": [
        {
          "output_type": "stream",
          "text": [
            "Model: \"model_3\"\n",
            "_________________________________________________________________\n",
            "Layer (type)                 Output Shape              Param #   \n",
            "=================================================================\n",
            "input_6 (InputLayer)         [(None, 28, 28, 1)]       0         \n",
            "_________________________________________________________________\n",
            "conv2d_8 (Conv2D)            (None, 28, 28, 32)        320       \n",
            "_________________________________________________________________\n",
            "conv2d_9 (Conv2D)            (None, 26, 26, 64)        18496     \n",
            "_________________________________________________________________\n",
            "max_pooling2d_4 (MaxPooling2 (None, 13, 13, 64)        0         \n",
            "_________________________________________________________________\n",
            "flatten_2 (Flatten)          (None, 10816)             0         \n",
            "_________________________________________________________________\n",
            "dropout_1 (Dropout)          (None, 10816)             0         \n",
            "_________________________________________________________________\n",
            "dense_4 (Dense)              (None, 200)               2163400   \n",
            "_________________________________________________________________\n",
            "dropout_2 (Dropout)          (None, 200)               0         \n",
            "_________________________________________________________________\n",
            "dense_5 (Dense)              (None, 10)                2010      \n",
            "=================================================================\n",
            "Total params: 2,184,226\n",
            "Trainable params: 2,184,226\n",
            "Non-trainable params: 0\n",
            "_________________________________________________________________\n"
          ],
          "name": "stdout"
        }
      ]
    },
    {
      "cell_type": "code",
      "metadata": {
        "colab": {
          "base_uri": "https://localhost:8080/"
        },
        "id": "U5phQ9GtduLT",
        "outputId": "021ac1ba-bdbf-49aa-fbef-23d9215bd6c7"
      },
      "source": [
        "model.compile(optimizer=Adam(0.001), loss='categorical_crossentropy', metrics=['accuracy'])\n",
        "history = model.fit(x=tr_images, y=tr_oh_labels, batch_size=128, epochs=30, validation_data=(val_images, val_oh_labels))"
      ],
      "execution_count": 16,
      "outputs": [
        {
          "output_type": "stream",
          "text": [
            "Epoch 1/30\n",
            "399/399 [==============================] - 4s 10ms/step - loss: 0.6289 - accuracy: 0.7761 - val_loss: 0.3166 - val_accuracy: 0.8867\n",
            "Epoch 2/30\n",
            "399/399 [==============================] - 4s 10ms/step - loss: 0.2967 - accuracy: 0.8917 - val_loss: 0.2632 - val_accuracy: 0.9062\n",
            "Epoch 3/30\n",
            "399/399 [==============================] - 4s 10ms/step - loss: 0.2429 - accuracy: 0.9114 - val_loss: 0.2368 - val_accuracy: 0.9136\n",
            "Epoch 4/30\n",
            "399/399 [==============================] - 4s 10ms/step - loss: 0.2127 - accuracy: 0.9211 - val_loss: 0.2269 - val_accuracy: 0.9157\n",
            "Epoch 5/30\n",
            "399/399 [==============================] - 4s 10ms/step - loss: 0.1868 - accuracy: 0.9317 - val_loss: 0.2244 - val_accuracy: 0.9162\n",
            "Epoch 6/30\n",
            "399/399 [==============================] - 4s 10ms/step - loss: 0.1673 - accuracy: 0.9382 - val_loss: 0.2077 - val_accuracy: 0.9260\n",
            "Epoch 7/30\n",
            "399/399 [==============================] - 4s 10ms/step - loss: 0.1505 - accuracy: 0.9434 - val_loss: 0.1946 - val_accuracy: 0.9317\n",
            "Epoch 8/30\n",
            "399/399 [==============================] - 4s 10ms/step - loss: 0.1328 - accuracy: 0.9504 - val_loss: 0.2139 - val_accuracy: 0.9281\n",
            "Epoch 9/30\n",
            "399/399 [==============================] - 4s 10ms/step - loss: 0.1164 - accuracy: 0.9553 - val_loss: 0.2054 - val_accuracy: 0.9296\n",
            "Epoch 10/30\n",
            "399/399 [==============================] - 4s 10ms/step - loss: 0.1078 - accuracy: 0.9598 - val_loss: 0.2106 - val_accuracy: 0.9297\n",
            "Epoch 11/30\n",
            "399/399 [==============================] - 4s 10ms/step - loss: 0.0976 - accuracy: 0.9634 - val_loss: 0.2101 - val_accuracy: 0.9319\n",
            "Epoch 12/30\n",
            "399/399 [==============================] - 4s 10ms/step - loss: 0.0890 - accuracy: 0.9670 - val_loss: 0.2117 - val_accuracy: 0.9334\n",
            "Epoch 13/30\n",
            "399/399 [==============================] - 4s 10ms/step - loss: 0.0847 - accuracy: 0.9687 - val_loss: 0.2217 - val_accuracy: 0.9321\n",
            "Epoch 14/30\n",
            "399/399 [==============================] - 4s 10ms/step - loss: 0.0712 - accuracy: 0.9742 - val_loss: 0.2359 - val_accuracy: 0.9307\n",
            "Epoch 15/30\n",
            "399/399 [==============================] - 4s 10ms/step - loss: 0.0699 - accuracy: 0.9734 - val_loss: 0.2222 - val_accuracy: 0.9344\n",
            "Epoch 16/30\n",
            "399/399 [==============================] - 4s 10ms/step - loss: 0.0629 - accuracy: 0.9760 - val_loss: 0.2330 - val_accuracy: 0.9378\n",
            "Epoch 17/30\n",
            "399/399 [==============================] - 4s 10ms/step - loss: 0.0606 - accuracy: 0.9774 - val_loss: 0.2377 - val_accuracy: 0.9351\n",
            "Epoch 18/30\n",
            "399/399 [==============================] - 4s 10ms/step - loss: 0.0557 - accuracy: 0.9797 - val_loss: 0.2567 - val_accuracy: 0.9304\n",
            "Epoch 19/30\n",
            "399/399 [==============================] - 4s 10ms/step - loss: 0.0548 - accuracy: 0.9796 - val_loss: 0.2618 - val_accuracy: 0.9329\n",
            "Epoch 20/30\n",
            "399/399 [==============================] - 4s 10ms/step - loss: 0.0528 - accuracy: 0.9793 - val_loss: 0.2436 - val_accuracy: 0.9349\n",
            "Epoch 21/30\n",
            "399/399 [==============================] - 4s 10ms/step - loss: 0.0456 - accuracy: 0.9830 - val_loss: 0.2510 - val_accuracy: 0.9332\n",
            "Epoch 22/30\n",
            "399/399 [==============================] - 4s 10ms/step - loss: 0.0432 - accuracy: 0.9843 - val_loss: 0.2509 - val_accuracy: 0.9346\n",
            "Epoch 23/30\n",
            "399/399 [==============================] - 4s 10ms/step - loss: 0.0426 - accuracy: 0.9841 - val_loss: 0.2481 - val_accuracy: 0.9339\n",
            "Epoch 24/30\n",
            "399/399 [==============================] - 4s 10ms/step - loss: 0.0411 - accuracy: 0.9843 - val_loss: 0.2523 - val_accuracy: 0.9352\n",
            "Epoch 25/30\n",
            "399/399 [==============================] - 4s 10ms/step - loss: 0.0366 - accuracy: 0.9869 - val_loss: 0.2693 - val_accuracy: 0.9380\n",
            "Epoch 26/30\n",
            "399/399 [==============================] - 4s 10ms/step - loss: 0.0363 - accuracy: 0.9870 - val_loss: 0.2957 - val_accuracy: 0.9310\n",
            "Epoch 27/30\n",
            "399/399 [==============================] - 4s 10ms/step - loss: 0.0419 - accuracy: 0.9853 - val_loss: 0.2687 - val_accuracy: 0.9349\n",
            "Epoch 28/30\n",
            "399/399 [==============================] - 4s 9ms/step - loss: 0.0390 - accuracy: 0.9851 - val_loss: 0.2828 - val_accuracy: 0.9346\n",
            "Epoch 29/30\n",
            "399/399 [==============================] - 4s 10ms/step - loss: 0.0322 - accuracy: 0.9882 - val_loss: 0.2877 - val_accuracy: 0.9327\n",
            "Epoch 30/30\n",
            "399/399 [==============================] - 4s 10ms/step - loss: 0.0345 - accuracy: 0.9872 - val_loss: 0.2855 - val_accuracy: 0.9343\n"
          ],
          "name": "stdout"
        }
      ]
    },
    {
      "cell_type": "code",
      "metadata": {
        "colab": {
          "base_uri": "https://localhost:8080/",
          "height": 300
        },
        "id": "iiuEfogueVle",
        "outputId": "5c147839-fbd1-4635-bf8f-546e2ec3479e"
      },
      "source": [
        "show_history(history)\n",
        "model.evaluate(test_images, test_oh_labels, batch_size=256, verbose=1)"
      ],
      "execution_count": 17,
      "outputs": [
        {
          "output_type": "stream",
          "text": [
            "40/40 [==============================] - 0s 7ms/step - loss: 0.3050 - accuracy: 0.9314\n"
          ],
          "name": "stdout"
        },
        {
          "output_type": "execute_result",
          "data": {
            "text/plain": [
              "[0.30503690242767334, 0.9314000010490417]"
            ]
          },
          "metadata": {
            "tags": []
          },
          "execution_count": 17
        },
        {
          "output_type": "display_data",
          "data": {
            "image/png": "[encoded data removed]",
            "text/plain": [
              "<Figure size 432x288 with 1 Axes>"
            ]
          },
          "metadata": {
            "tags": [],
            "needs_background": "light"
          }
        }
      ]
    }
  ]
}