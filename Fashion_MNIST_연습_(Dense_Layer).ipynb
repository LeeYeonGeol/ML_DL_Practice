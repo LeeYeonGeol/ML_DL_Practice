{
  "nbformat": 4,
  "nbformat_minor": 0,
  "metadata": {
    "colab": {
      "name": "Fashion MNIST 연습 (Dense Layer).ipynb",
      "provenance": [],
      "collapsed_sections": [],
      "toc_visible": true,
      "authorship_tag": "ABX9TyPQ9sPSPZLyekXKj0ekbFPY",
      "include_colab_link": true
    },
    "kernelspec": {
      "name": "python3",
      "display_name": "Python 3"
    },
    "language_info": {
      "name": "python"
    },
    "accelerator": "GPU"
  },
  "cells": [
    {
      "cell_type": "markdown",
      "metadata": {
        "id": "view-in-github",
        "colab_type": "text"
      },
      "source": [
        "<a href=\"https://colab.research.google.com/github/LeeYeonGeol/ML_DL_Practice/blob/main/Fashion_MNIST_%EC%97%B0%EC%8A%B5_(Dense_Layer).ipynb\" target=\"_parent\"><img src=\"https://colab.research.google.com/assets/colab-badge.svg\" alt=\"Open In Colab\"/></a>"
      ]
    },
    {
      "cell_type": "markdown",
      "metadata": {
        "id": "6Zc-h8yOCq1Y"
      },
      "source": [
        "# Load Data\n"
      ]
    },
    {
      "cell_type": "code",
      "metadata": {
        "colab": {
          "base_uri": "https://localhost:8080/"
        },
        "id": "r5oj-356CMKu",
        "outputId": "d7ef78e6-a0d5-4fe6-ab0f-c57c9fd1e79d"
      },
      "source": [
        "import numpy as np\n",
        "import pandas as pd\n",
        "from tensorflow.keras.datasets import fashion_mnist\n",
        "\n",
        "(train_images, train_labels), (test_images, test_labels) = fashion_mnist.load_data()\n",
        "print(\"train dataset shape: \", train_images.shape, train_labels.shape)\n",
        "print(\"test dataset shape:\", test_images.shape, test_labels.shape)\n"
      ],
      "execution_count": 22,
      "outputs": [
        {
          "output_type": "stream",
          "text": [
            "train dataset shape:  (60000, 28, 28) (60000,)\n",
            "test dataset shape: (10000, 28, 28) (10000,)\n"
          ],
          "name": "stdout"
        }
      ]
    },
    {
      "cell_type": "markdown",
      "metadata": {
        "id": "zhZTG4msEBbt"
      },
      "source": [
        "## MNIST image array 시각화"
      ]
    },
    {
      "cell_type": "code",
      "metadata": {
        "colab": {
          "base_uri": "https://localhost:8080/",
          "height": 298
        },
        "id": "SaPUumqYDKVC",
        "outputId": "7d25fc09-4a99-4d4d-ba5b-b3413d2d4043"
      },
      "source": [
        "import matplotlib.pyplot as plt\n",
        "%matplotlib inline\n",
        "\n",
        "plt.imshow(train_images[0], cmap='gray')\n",
        "plt.title(train_labels[0])"
      ],
      "execution_count": 23,
      "outputs": [
        {
          "output_type": "execute_result",
          "data": {
            "text/plain": [
              "Text(0.5, 1.0, '9')"
            ]
          },
          "metadata": {
            "tags": []
          },
          "execution_count": 23
        },
        {
          "output_type": "display_data",
          "data": {
            "image/png": "[encoded data removed]",
            "text/plain": [
              "<Figure size 432x288 with 1 Axes>"
            ]
          },
          "metadata": {
            "tags": [],
            "needs_background": "light"
          }
        }
      ]
    },
    {
      "cell_type": "code",
      "metadata": {
        "colab": {
          "base_uri": "https://localhost:8080/"
        },
        "id": "mhjuV157EQ8r",
        "outputId": "3991c565-1474-49c0-f63c-426e6d6fe9a6"
      },
      "source": [
        "train_images[0, :, :], train_labels[0]"
      ],
      "execution_count": 24,
      "outputs": [
        {
          "output_type": "execute_result",
          "data": {
            "text/plain": [
              "(array([[  0,   0,   0,   0,   0,   0,   0,   0,   0,   0,   0,   0,   0,\n",
              "           0,   0,   0,   0,   0,   0,   0,   0,   0,   0,   0,   0,   0,\n",
              "           0,   0],\n",
              "        [  0,   0,   0,   0,   0,   0,   0,   0,   0,   0,   0,   0,   0,\n",
              "           0,   0,   0,   0,   0,   0,   0,   0,   0,   0,   0,   0,   0,\n",
              "           0,   0],\n",
              "        [  0,   0,   0,   0,   0,   0,   0,   0,   0,   0,   0,   0,   0,\n",
              "           0,   0,   0,   0,   0,   0,   0,   0,   0,   0,   0,   0,   0,\n",
              "           0,   0],\n",
              "        [  0,   0,   0,   0,   0,   0,   0,   0,   0,   0,   0,   0,   1,\n",
              "           0,   0,  13,  73,   0,   0,   1,   4,   0,   0,   0,   0,   1,\n",
              "           1,   0],\n",
              "        [  0,   0,   0,   0,   0,   0,   0,   0,   0,   0,   0,   0,   3,\n",
              "           0,  36, 136, 127,  62,  54,   0,   0,   0,   1,   3,   4,   0,\n",
              "           0,   3],\n",
              "        [  0,   0,   0,   0,   0,   0,   0,   0,   0,   0,   0,   0,   6,\n",
              "           0, 102, 204, 176, 134, 144, 123,  23,   0,   0,   0,   0,  12,\n",
              "          10,   0],\n",
              "        [  0,   0,   0,   0,   0,   0,   0,   0,   0,   0,   0,   0,   0,\n",
              "           0, 155, 236, 207, 178, 107, 156, 161, 109,  64,  23,  77, 130,\n",
              "          72,  15],\n",
              "        [  0,   0,   0,   0,   0,   0,   0,   0,   0,   0,   0,   1,   0,\n",
              "          69, 207, 223, 218, 216, 216, 163, 127, 121, 122, 146, 141,  88,\n",
              "         172,  66],\n",
              "        [  0,   0,   0,   0,   0,   0,   0,   0,   0,   1,   1,   1,   0,\n",
              "         200, 232, 232, 233, 229, 223, 223, 215, 213, 164, 127, 123, 196,\n",
              "         229,   0],\n",
              "        [  0,   0,   0,   0,   0,   0,   0,   0,   0,   0,   0,   0,   0,\n",
              "         183, 225, 216, 223, 228, 235, 227, 224, 222, 224, 221, 223, 245,\n",
              "         173,   0],\n",
              "        [  0,   0,   0,   0,   0,   0,   0,   0,   0,   0,   0,   0,   0,\n",
              "         193, 228, 218, 213, 198, 180, 212, 210, 211, 213, 223, 220, 243,\n",
              "         202,   0],\n",
              "        [  0,   0,   0,   0,   0,   0,   0,   0,   0,   1,   3,   0,  12,\n",
              "         219, 220, 212, 218, 192, 169, 227, 208, 218, 224, 212, 226, 197,\n",
              "         209,  52],\n",
              "        [  0,   0,   0,   0,   0,   0,   0,   0,   0,   0,   6,   0,  99,\n",
              "         244, 222, 220, 218, 203, 198, 221, 215, 213, 222, 220, 245, 119,\n",
              "         167,  56],\n",
              "        [  0,   0,   0,   0,   0,   0,   0,   0,   0,   4,   0,   0,  55,\n",
              "         236, 228, 230, 228, 240, 232, 213, 218, 223, 234, 217, 217, 209,\n",
              "          92,   0],\n",
              "        [  0,   0,   1,   4,   6,   7,   2,   0,   0,   0,   0,   0, 237,\n",
              "         226, 217, 223, 222, 219, 222, 221, 216, 223, 229, 215, 218, 255,\n",
              "          77,   0],\n",
              "        [  0,   3,   0,   0,   0,   0,   0,   0,   0,  62, 145, 204, 228,\n",
              "         207, 213, 221, 218, 208, 211, 218, 224, 223, 219, 215, 224, 244,\n",
              "         159,   0],\n",
              "        [  0,   0,   0,   0,  18,  44,  82, 107, 189, 228, 220, 222, 217,\n",
              "         226, 200, 205, 211, 230, 224, 234, 176, 188, 250, 248, 233, 238,\n",
              "         215,   0],\n",
              "        [  0,  57, 187, 208, 224, 221, 224, 208, 204, 214, 208, 209, 200,\n",
              "         159, 245, 193, 206, 223, 255, 255, 221, 234, 221, 211, 220, 232,\n",
              "         246,   0],\n",
              "        [  3, 202, 228, 224, 221, 211, 211, 214, 205, 205, 205, 220, 240,\n",
              "          80, 150, 255, 229, 221, 188, 154, 191, 210, 204, 209, 222, 228,\n",
              "         225,   0],\n",
              "        [ 98, 233, 198, 210, 222, 229, 229, 234, 249, 220, 194, 215, 217,\n",
              "         241,  65,  73, 106, 117, 168, 219, 221, 215, 217, 223, 223, 224,\n",
              "         229,  29],\n",
              "        [ 75, 204, 212, 204, 193, 205, 211, 225, 216, 185, 197, 206, 198,\n",
              "         213, 240, 195, 227, 245, 239, 223, 218, 212, 209, 222, 220, 221,\n",
              "         230,  67],\n",
              "        [ 48, 203, 183, 194, 213, 197, 185, 190, 194, 192, 202, 214, 219,\n",
              "         221, 220, 236, 225, 216, 199, 206, 186, 181, 177, 172, 181, 205,\n",
              "         206, 115],\n",
              "        [  0, 122, 219, 193, 179, 171, 183, 196, 204, 210, 213, 207, 211,\n",
              "         210, 200, 196, 194, 191, 195, 191, 198, 192, 176, 156, 167, 177,\n",
              "         210,  92],\n",
              "        [  0,   0,  74, 189, 212, 191, 175, 172, 175, 181, 185, 188, 189,\n",
              "         188, 193, 198, 204, 209, 210, 210, 211, 188, 188, 194, 192, 216,\n",
              "         170,   0],\n",
              "        [  2,   0,   0,   0,  66, 200, 222, 237, 239, 242, 246, 243, 244,\n",
              "         221, 220, 193, 191, 179, 182, 182, 181, 176, 166, 168,  99,  58,\n",
              "           0,   0],\n",
              "        [  0,   0,   0,   0,   0,   0,   0,  40,  61,  44,  72,  41,  35,\n",
              "           0,   0,   0,   0,   0,   0,   0,   0,   0,   0,   0,   0,   0,\n",
              "           0,   0],\n",
              "        [  0,   0,   0,   0,   0,   0,   0,   0,   0,   0,   0,   0,   0,\n",
              "           0,   0,   0,   0,   0,   0,   0,   0,   0,   0,   0,   0,   0,\n",
              "           0,   0],\n",
              "        [  0,   0,   0,   0,   0,   0,   0,   0,   0,   0,   0,   0,   0,\n",
              "           0,   0,   0,   0,   0,   0,   0,   0,   0,   0,   0,   0,   0,\n",
              "           0,   0]], dtype=uint8), 9)"
            ]
          },
          "metadata": {
            "tags": []
          },
          "execution_count": 24
        }
      ]
    },
    {
      "cell_type": "code",
      "metadata": {
        "colab": {
          "base_uri": "https://localhost:8080/",
          "height": 330
        },
        "id": "NSfoGon2EY5P",
        "outputId": "1877c436-aae8-493e-89ef-d0f729e31006"
      },
      "source": [
        "class_names = ['T-shirt/top', 'Trouser', 'Pullover', 'Dress', 'Coat', 'Sandal', 'Shirt', 'Sneaker',' Bag', 'Ankle boot']\n",
        "\n",
        "def show_images(images, labels, ncols=8):\n",
        "  figure, axs = plt.subplots(figsize=(22, 6), nrows= 1, ncols=ncols)\n",
        "  for i in range(ncols):\n",
        "    axs[i].imshow(images[i], cmap='gray')\n",
        "    axs[i].set_title(class_names[labels[i]])\n",
        "\n",
        "show_images(train_images[:8], train_labels[:8], ncols=8)\n",
        "show_images(train_images[8:16], train_labels[8:16], ncols=8)"
      ],
      "execution_count": 25,
      "outputs": [
        {
          "output_type": "display_data",
          "data": {
            "image/png": "[encoded data removed]",
            "text/plain": [
              "<Figure size 1584x432 with 8 Axes>"
            ]
          },
          "metadata": {
            "tags": [],
            "needs_background": "light"
          }
        },
        {
          "output_type": "display_data",
          "data": {
            "image/png": "[encoded data removed]",
            "text/plain": [
              "<Figure size 1584x432 with 8 Axes>"
            ]
          },
          "metadata": {
            "tags": [],
            "needs_background": "light"
          }
        }
      ]
    },
    {
      "cell_type": "markdown",
      "metadata": {
        "id": "0lR1ZW_mn4Nh"
      },
      "source": [
        "# 데이터 전처리 함수 생성\n",
        "- 0 ~ 255 사이의 픽셀값을 - ~ 1 사이 값으로 변환한다. \n"
      ]
    },
    {
      "cell_type": "code",
      "metadata": {
        "id": "k3gE05kNGHUr"
      },
      "source": [
        "from tensorflow.keras.utils import to_categorical\n",
        "from sklearn.model_selection import train_test_split\n",
        "# 피처 정규화\n",
        "def get_preprocessed_data(images, labels):\n",
        "  images = np.array(images/255.0, dtype=np.float32)\n",
        "  labels = np.array(labels, dtype=np.float32)\n",
        "\n",
        "  return images, labels\n",
        "\n",
        "# 원-핫 인코딩\n",
        "def get_preprocessed_ohe(images, labels):\n",
        "  images, labels = get_preprocessed_data(images, labels)\n",
        "  oh_labels = to_categorical(labels)\n",
        "  return images, oh_labels\n",
        "\n",
        "# OHE 적용 뒤 반환\n",
        "def get_train_valid_test_set(train_images, train_labels, test_images, test_labels, valid_size=0.15, random_state=2021):\n",
        "  \n",
        "  train_images, train_oh_labels = get_preprocessed_ohe(train_images, train_labels)\n",
        "  test_images, test_oh_labels = get_preprocessed_ohe(test_images, test_labels)\n",
        "\n",
        "  tr_images, val_images, tr_oh_labels, val_oh_labels = train_test_split(train_images, train_oh_labels, test_size=valid_size, random_state=random_state)\n",
        "\n",
        "  return (tr_images, tr_oh_labels), (val_images, val_oh_labels), (test_images, test_oh_labels)"
      ],
      "execution_count": 26,
      "outputs": []
    },
    {
      "cell_type": "markdown",
      "metadata": {
        "id": "8rOYjW4SpSZ8"
      },
      "source": [
        "# Dense Layer를 기반으로 모델 생성"
      ]
    },
    {
      "cell_type": "code",
      "metadata": {
        "colab": {
          "base_uri": "https://localhost:8080/"
        },
        "id": "NnfQTZvAosNT",
        "outputId": "2a61c48b-811a-41c4-936b-c92a651d64d1"
      },
      "source": [
        "INPUT_SIZE = 28\n",
        "from tensorflow.keras.layers import Dense, Flatten, Input\n",
        "from tensorflow.keras.models import Model\n",
        "\n",
        "def create_model():\n",
        "  input_tensor = Input(shape=(INPUT_SIZE, INPUT_SIZE))\n",
        "  x = Flatten()(input_tensor)\n",
        "  x = Dense(100, activation='relu')(x)\n",
        "  x = Dense(30, activation='relu')(x)\n",
        "  output = Dense(10, activation='softmax')(x)\n",
        "\n",
        "  model = Model(inputs=input_tensor, outputs = output)\n",
        "  return model\n",
        "\n",
        "model = create_model()\n",
        "model.summary()"
      ],
      "execution_count": 27,
      "outputs": [
        {
          "output_type": "stream",
          "text": [
            "Model: \"model_4\"\n",
            "_________________________________________________________________\n",
            "Layer (type)                 Output Shape              Param #   \n",
            "=================================================================\n",
            "input_5 (InputLayer)         [(None, 28, 28)]          0         \n",
            "_________________________________________________________________\n",
            "flatten_4 (Flatten)          (None, 784)               0         \n",
            "_________________________________________________________________\n",
            "dense_12 (Dense)             (None, 100)               78500     \n",
            "_________________________________________________________________\n",
            "dense_13 (Dense)             (None, 30)                3030      \n",
            "_________________________________________________________________\n",
            "dense_14 (Dense)             (None, 10)                310       \n",
            "=================================================================\n",
            "Total params: 81,840\n",
            "Trainable params: 81,840\n",
            "Non-trainable params: 0\n",
            "_________________________________________________________________\n"
          ],
          "name": "stdout"
        }
      ]
    },
    {
      "cell_type": "markdown",
      "metadata": {
        "id": "D6mG_E6Kcnlv"
      },
      "source": [
        "# fashion MNIST 데이터 로딩 및 전처리 적용하여 학습/검증/데이터 세트 생성."
      ]
    },
    {
      "cell_type": "code",
      "metadata": {
        "colab": {
          "base_uri": "https://localhost:8080/"
        },
        "id": "kgcrPo6YcmbO",
        "outputId": "a899a87c-c988-4024-9435-921a949023dd"
      },
      "source": [
        "from tensorflow.keras.datasets import fashion_mnist\n",
        "(train_images, train_labels), (test_images, test_labels) = fashion_mnist.load_data()\n",
        "\n",
        "print(train_images.shape, train_labels.shape, test_images.shape, test_labels.shape)\n",
        "(tr_images, tr_oh_labels), (val_images, val_oh_labels), (test_images, test_oh_labels) = \\\n",
        "  get_train_valid_test_set(train_images, train_labels, test_images, test_labels, valid_size=0.15, random_state=2021)\n",
        "print(tr_images.shape, tr_oh_labels.shape, val_images.shape, val_oh_labels.shape, test_images.shape, test_labels.shape)"
      ],
      "execution_count": 28,
      "outputs": [
        {
          "output_type": "stream",
          "text": [
            "(60000, 28, 28) (60000,) (10000, 28, 28) (10000,)\n",
            "(51000, 28, 28) (51000, 10) (9000, 28, 28) (9000, 10) (10000, 28, 28) (10000,)\n"
          ],
          "name": "stdout"
        }
      ]
    },
    {
      "cell_type": "markdown",
      "metadata": {
        "id": "QSjYdAM1t7t4"
      },
      "source": [
        "# 모델 생성 및 optimizer, loss, metric 적용\n"
      ]
    },
    {
      "cell_type": "code",
      "metadata": {
        "id": "haerjnmHp6KX",
        "colab": {
          "base_uri": "https://localhost:8080/"
        },
        "outputId": "248852a2-fb24-4eab-ec9a-88f8f20d20ef"
      },
      "source": [
        "from tensorflow.keras.optimizers import Adam\n",
        "model = create_model()\n",
        "model.summary()\n",
        "\n",
        "model.compile(optimizer=Adam(0.001), loss = 'categorical_crossentropy', metrics=['accuracy'])"
      ],
      "execution_count": 29,
      "outputs": [
        {
          "output_type": "stream",
          "text": [
            "Model: \"model_5\"\n",
            "_________________________________________________________________\n",
            "Layer (type)                 Output Shape              Param #   \n",
            "=================================================================\n",
            "input_6 (InputLayer)         [(None, 28, 28)]          0         \n",
            "_________________________________________________________________\n",
            "flatten_5 (Flatten)          (None, 784)               0         \n",
            "_________________________________________________________________\n",
            "dense_15 (Dense)             (None, 100)               78500     \n",
            "_________________________________________________________________\n",
            "dense_16 (Dense)             (None, 30)                3030      \n",
            "_________________________________________________________________\n",
            "dense_17 (Dense)             (None, 10)                310       \n",
            "=================================================================\n",
            "Total params: 81,840\n",
            "Trainable params: 81,840\n",
            "Non-trainable params: 0\n",
            "_________________________________________________________________\n"
          ],
          "name": "stdout"
        }
      ]
    },
    {
      "cell_type": "markdown",
      "metadata": {
        "id": "NxvYzS7Zeu6B"
      },
      "source": [
        "# 학습 수행"
      ]
    },
    {
      "cell_type": "code",
      "metadata": {
        "colab": {
          "base_uri": "https://localhost:8080/"
        },
        "id": "F5hhA1U5elAN",
        "outputId": "278883e4-c83d-4c33-9025-8e178bd1cb27"
      },
      "source": [
        "history = model.fit(x=tr_images, y = tr_oh_labels, batch_size=128, epochs=20, validation_data= (val_images, val_oh_labels))"
      ],
      "execution_count": 30,
      "outputs": [
        {
          "output_type": "stream",
          "text": [
            "Epoch 1/20\n",
            "399/399 [==============================] - 2s 4ms/step - loss: 0.8640 - accuracy: 0.7116 - val_loss: 0.4507 - val_accuracy: 0.8439\n",
            "Epoch 2/20\n",
            "399/399 [==============================] - 2s 4ms/step - loss: 0.4192 - accuracy: 0.8517 - val_loss: 0.3931 - val_accuracy: 0.8547\n",
            "Epoch 3/20\n",
            "399/399 [==============================] - 2s 4ms/step - loss: 0.3667 - accuracy: 0.8695 - val_loss: 0.3953 - val_accuracy: 0.8563\n",
            "Epoch 4/20\n",
            "399/399 [==============================] - 2s 4ms/step - loss: 0.3495 - accuracy: 0.8751 - val_loss: 0.3531 - val_accuracy: 0.8737\n",
            "Epoch 5/20\n",
            "399/399 [==============================] - 2s 4ms/step - loss: 0.3230 - accuracy: 0.8840 - val_loss: 0.3418 - val_accuracy: 0.8739\n",
            "Epoch 6/20\n",
            "399/399 [==============================] - 2s 4ms/step - loss: 0.3054 - accuracy: 0.8896 - val_loss: 0.3567 - val_accuracy: 0.8733\n",
            "Epoch 7/20\n",
            "399/399 [==============================] - 2s 4ms/step - loss: 0.2930 - accuracy: 0.8935 - val_loss: 0.3406 - val_accuracy: 0.8793\n",
            "Epoch 8/20\n",
            "399/399 [==============================] - 2s 4ms/step - loss: 0.2891 - accuracy: 0.8945 - val_loss: 0.3274 - val_accuracy: 0.8822\n",
            "Epoch 9/20\n",
            "399/399 [==============================] - 2s 4ms/step - loss: 0.2754 - accuracy: 0.8999 - val_loss: 0.3325 - val_accuracy: 0.8824\n",
            "Epoch 10/20\n",
            "399/399 [==============================] - 2s 4ms/step - loss: 0.2685 - accuracy: 0.9025 - val_loss: 0.3474 - val_accuracy: 0.8754\n",
            "Epoch 11/20\n",
            "399/399 [==============================] - 2s 4ms/step - loss: 0.2661 - accuracy: 0.9028 - val_loss: 0.3219 - val_accuracy: 0.8847\n",
            "Epoch 12/20\n",
            "399/399 [==============================] - 2s 4ms/step - loss: 0.2517 - accuracy: 0.9076 - val_loss: 0.3239 - val_accuracy: 0.8843\n",
            "Epoch 13/20\n",
            "399/399 [==============================] - 2s 4ms/step - loss: 0.2456 - accuracy: 0.9094 - val_loss: 0.3183 - val_accuracy: 0.8889\n",
            "Epoch 14/20\n",
            "399/399 [==============================] - 2s 4ms/step - loss: 0.2380 - accuracy: 0.9127 - val_loss: 0.3138 - val_accuracy: 0.8892\n",
            "Epoch 15/20\n",
            "399/399 [==============================] - 2s 4ms/step - loss: 0.2358 - accuracy: 0.9135 - val_loss: 0.3223 - val_accuracy: 0.8884\n",
            "Epoch 16/20\n",
            "399/399 [==============================] - 2s 4ms/step - loss: 0.2244 - accuracy: 0.9185 - val_loss: 0.3168 - val_accuracy: 0.8881\n",
            "Epoch 17/20\n",
            "399/399 [==============================] - 2s 4ms/step - loss: 0.2186 - accuracy: 0.9192 - val_loss: 0.3186 - val_accuracy: 0.8886\n",
            "Epoch 18/20\n",
            "399/399 [==============================] - 2s 4ms/step - loss: 0.2137 - accuracy: 0.9213 - val_loss: 0.3239 - val_accuracy: 0.8878\n",
            "Epoch 19/20\n",
            "399/399 [==============================] - 2s 4ms/step - loss: 0.2085 - accuracy: 0.9234 - val_loss: 0.3145 - val_accuracy: 0.8950\n",
            "Epoch 20/20\n",
            "399/399 [==============================] - 2s 4ms/step - loss: 0.2041 - accuracy: 0.9247 - val_loss: 0.3306 - val_accuracy: 0.8862\n"
          ],
          "name": "stdout"
        }
      ]
    },
    {
      "cell_type": "code",
      "metadata": {
        "colab": {
          "base_uri": "https://localhost:8080/",
          "height": 265
        },
        "id": "g76-BDS3gGyi",
        "outputId": "ab9aacdd-f6ea-466e-e8f9-8d2f4afb9cd7"
      },
      "source": [
        "import matplotlib.pyplot as plt\n",
        "%matplotlib inline\n",
        "\n",
        "def show_history(history):\n",
        "  plt.plot(history.history['accuracy'], label='train')\n",
        "  plt.plot(history.history['val_accuracy'], label='valid')\n",
        "  plt.legend()\n",
        "\n",
        "show_history(history)"
      ],
      "execution_count": 31,
      "outputs": [
        {
          "output_type": "display_data",
          "data": {
            "image/png": "[encoded data removed]",
            "text/plain": [
              "<Figure size 432x288 with 1 Axes>"
            ]
          },
          "metadata": {
            "tags": [],
            "needs_background": "light"
          }
        }
      ]
    },
    {
      "cell_type": "markdown",
      "metadata": {
        "id": "W5b3ufN5g9A1"
      },
      "source": [
        "# 모델 성능 검증"
      ]
    },
    {
      "cell_type": "code",
      "metadata": {
        "colab": {
          "base_uri": "https://localhost:8080/"
        },
        "id": "d5hXrffZgzBM",
        "outputId": "6cdd147e-43a8-451a-dc64-b3757e2708ed"
      },
      "source": [
        "model.evaluate(test_images, test_oh_labels, batch_size=256, verbose=1)"
      ],
      "execution_count": 35,
      "outputs": [
        {
          "output_type": "stream",
          "text": [
            "40/40 [==============================] - 0s 3ms/step - loss: 0.3621 - accuracy: 0.8772\n"
          ],
          "name": "stdout"
        },
        {
          "output_type": "execute_result",
          "data": {
            "text/plain": [
              "[0.3621464967727661, 0.8772000074386597]"
            ]
          },
          "metadata": {
            "tags": []
          },
          "execution_count": 35
        }
      ]
    }
  ]
}