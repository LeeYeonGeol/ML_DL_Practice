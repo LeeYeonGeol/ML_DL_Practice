{
  "nbformat": 4,
  "nbformat_minor": 0,
  "metadata": {
    "colab": {
      "name": "_9 파이토치(PyTorch) 기초.ipynb의 사본",
      "provenance": [],
      "collapsed_sections": []
    },
    "kernelspec": {
      "name": "python3",
      "display_name": "Python 3"
    },
    "accelerator": "GPU",
    "widgets": {
      "application/vnd.jupyter.widget-state+json": {
        "c0d807de99b24197be4b5bbc8e8b2fa6": {
          "model_module": "@jupyter-widgets/controls",
          "model_name": "HBoxModel",
          "model_module_version": "1.5.0",
          "state": {
            "_view_name": "HBoxView",
            "_dom_classes": [],
            "_model_name": "HBoxModel",
            "_view_module": "@jupyter-widgets/controls",
            "_model_module_version": "1.5.0",
            "_view_count": null,
            "_view_module_version": "1.5.0",
            "box_style": "",
            "layout": "IPY_MODEL_6df322735924442dbb3b7eab9cd80b17",
            "_model_module": "@jupyter-widgets/controls",
            "children": [
              "IPY_MODEL_649ce1945d7a4b73ba8355cf8de36859",
              "IPY_MODEL_51c54d99539b4c5ca0a21f556eaf3379"
            ]
          }
        },
        "6df322735924442dbb3b7eab9cd80b17": {
          "model_module": "@jupyter-widgets/base",
          "model_name": "LayoutModel",
          "model_module_version": "1.2.0",
          "state": {
            "_view_name": "LayoutView",
            "grid_template_rows": null,
            "right": null,
            "justify_content": null,
            "_view_module": "@jupyter-widgets/base",
            "overflow": null,
            "_model_module_version": "1.2.0",
            "_view_count": null,
            "flex_flow": null,
            "width": null,
            "min_width": null,
            "border": null,
            "align_items": null,
            "bottom": null,
            "_model_module": "@jupyter-widgets/base",
            "top": null,
            "grid_column": null,
            "overflow_y": null,
            "overflow_x": null,
            "grid_auto_flow": null,
            "grid_area": null,
            "grid_template_columns": null,
            "flex": null,
            "_model_name": "LayoutModel",
            "justify_items": null,
            "grid_row": null,
            "max_height": null,
            "align_content": null,
            "visibility": null,
            "align_self": null,
            "height": null,
            "min_height": null,
            "padding": null,
            "grid_auto_rows": null,
            "grid_gap": null,
            "max_width": null,
            "order": null,
            "_view_module_version": "1.2.0",
            "grid_template_areas": null,
            "object_position": null,
            "object_fit": null,
            "grid_auto_columns": null,
            "margin": null,
            "display": null,
            "left": null
          }
        },
        "649ce1945d7a4b73ba8355cf8de36859": {
          "model_module": "@jupyter-widgets/controls",
          "model_name": "FloatProgressModel",
          "model_module_version": "1.5.0",
          "state": {
            "_view_name": "ProgressView",
            "style": "IPY_MODEL_3eaf0ecb077145cc88240b8eb5435c48",
            "_dom_classes": [],
            "description": "",
            "_model_name": "FloatProgressModel",
            "bar_style": "success",
            "max": 9912422,
            "_view_module": "@jupyter-widgets/controls",
            "_model_module_version": "1.5.0",
            "value": 9912422,
            "_view_count": null,
            "_view_module_version": "1.5.0",
            "orientation": "horizontal",
            "min": 0,
            "description_tooltip": null,
            "_model_module": "@jupyter-widgets/controls",
            "layout": "IPY_MODEL_de8e5a1b4f6149a2b5a4e1435187400f"
          }
        },
        "51c54d99539b4c5ca0a21f556eaf3379": {
          "model_module": "@jupyter-widgets/controls",
          "model_name": "HTMLModel",
          "model_module_version": "1.5.0",
          "state": {
            "_view_name": "HTMLView",
            "style": "IPY_MODEL_a4dedec03f27470490a944d67ade6678",
            "_dom_classes": [],
            "description": "",
            "_model_name": "HTMLModel",
            "placeholder": "​",
            "_view_module": "@jupyter-widgets/controls",
            "_model_module_version": "1.5.0",
            "value": " 9913344/? [00:23&lt;00:00, 429875.86it/s]",
            "_view_count": null,
            "_view_module_version": "1.5.0",
            "description_tooltip": null,
            "_model_module": "@jupyter-widgets/controls",
            "layout": "IPY_MODEL_9a1e19b4958144f191c5841b75b9e00c"
          }
        },
        "3eaf0ecb077145cc88240b8eb5435c48": {
          "model_module": "@jupyter-widgets/controls",
          "model_name": "ProgressStyleModel",
          "model_module_version": "1.5.0",
          "state": {
            "_view_name": "StyleView",
            "_model_name": "ProgressStyleModel",
            "description_width": "initial",
            "_view_module": "@jupyter-widgets/base",
            "_model_module_version": "1.5.0",
            "_view_count": null,
            "_view_module_version": "1.2.0",
            "bar_color": null,
            "_model_module": "@jupyter-widgets/controls"
          }
        },
        "de8e5a1b4f6149a2b5a4e1435187400f": {
          "model_module": "@jupyter-widgets/base",
          "model_name": "LayoutModel",
          "model_module_version": "1.2.0",
          "state": {
            "_view_name": "LayoutView",
            "grid_template_rows": null,
            "right": null,
            "justify_content": null,
            "_view_module": "@jupyter-widgets/base",
            "overflow": null,
            "_model_module_version": "1.2.0",
            "_view_count": null,
            "flex_flow": null,
            "width": null,
            "min_width": null,
            "border": null,
            "align_items": null,
            "bottom": null,
            "_model_module": "@jupyter-widgets/base",
            "top": null,
            "grid_column": null,
            "overflow_y": null,
            "overflow_x": null,
            "grid_auto_flow": null,
            "grid_area": null,
            "grid_template_columns": null,
            "flex": null,
            "_model_name": "LayoutModel",
            "justify_items": null,
            "grid_row": null,
            "max_height": null,
            "align_content": null,
            "visibility": null,
            "align_self": null,
            "height": null,
            "min_height": null,
            "padding": null,
            "grid_auto_rows": null,
            "grid_gap": null,
            "max_width": null,
            "order": null,
            "_view_module_version": "1.2.0",
            "grid_template_areas": null,
            "object_position": null,
            "object_fit": null,
            "grid_auto_columns": null,
            "margin": null,
            "display": null,
            "left": null
          }
        },
        "a4dedec03f27470490a944d67ade6678": {
          "model_module": "@jupyter-widgets/controls",
          "model_name": "DescriptionStyleModel",
          "model_module_version": "1.5.0",
          "state": {
            "_view_name": "StyleView",
            "_model_name": "DescriptionStyleModel",
            "description_width": "",
            "_view_module": "@jupyter-widgets/base",
            "_model_module_version": "1.5.0",
            "_view_count": null,
            "_view_module_version": "1.2.0",
            "_model_module": "@jupyter-widgets/controls"
          }
        },
        "9a1e19b4958144f191c5841b75b9e00c": {
          "model_module": "@jupyter-widgets/base",
          "model_name": "LayoutModel",
          "model_module_version": "1.2.0",
          "state": {
            "_view_name": "LayoutView",
            "grid_template_rows": null,
            "right": null,
            "justify_content": null,
            "_view_module": "@jupyter-widgets/base",
            "overflow": null,
            "_model_module_version": "1.2.0",
            "_view_count": null,
            "flex_flow": null,
            "width": null,
            "min_width": null,
            "border": null,
            "align_items": null,
            "bottom": null,
            "_model_module": "@jupyter-widgets/base",
            "top": null,
            "grid_column": null,
            "overflow_y": null,
            "overflow_x": null,
            "grid_auto_flow": null,
            "grid_area": null,
            "grid_template_columns": null,
            "flex": null,
            "_model_name": "LayoutModel",
            "justify_items": null,
            "grid_row": null,
            "max_height": null,
            "align_content": null,
            "visibility": null,
            "align_self": null,
            "height": null,
            "min_height": null,
            "padding": null,
            "grid_auto_rows": null,
            "grid_gap": null,
            "max_width": null,
            "order": null,
            "_view_module_version": "1.2.0",
            "grid_template_areas": null,
            "object_position": null,
            "object_fit": null,
            "grid_auto_columns": null,
            "margin": null,
            "display": null,
            "left": null
          }
        },
        "7f82b2cd663246388c15140120f24e67": {
          "model_module": "@jupyter-widgets/controls",
          "model_name": "HBoxModel",
          "model_module_version": "1.5.0",
          "state": {
            "_view_name": "HBoxView",
            "_dom_classes": [],
            "_model_name": "HBoxModel",
            "_view_module": "@jupyter-widgets/controls",
            "_model_module_version": "1.5.0",
            "_view_count": null,
            "_view_module_version": "1.5.0",
            "box_style": "",
            "layout": "IPY_MODEL_8be335865e8d41c1804e789f453cbefe",
            "_model_module": "@jupyter-widgets/controls",
            "children": [
              "IPY_MODEL_9368a273d68b4422b12cf5c7a9bc59db",
              "IPY_MODEL_e91420e3f5f648cb85d2aba4fccc1ba9"
            ]
          }
        },
        "8be335865e8d41c1804e789f453cbefe": {
          "model_module": "@jupyter-widgets/base",
          "model_name": "LayoutModel",
          "model_module_version": "1.2.0",
          "state": {
            "_view_name": "LayoutView",
            "grid_template_rows": null,
            "right": null,
            "justify_content": null,
            "_view_module": "@jupyter-widgets/base",
            "overflow": null,
            "_model_module_version": "1.2.0",
            "_view_count": null,
            "flex_flow": null,
            "width": null,
            "min_width": null,
            "border": null,
            "align_items": null,
            "bottom": null,
            "_model_module": "@jupyter-widgets/base",
            "top": null,
            "grid_column": null,
            "overflow_y": null,
            "overflow_x": null,
            "grid_auto_flow": null,
            "grid_area": null,
            "grid_template_columns": null,
            "flex": null,
            "_model_name": "LayoutModel",
            "justify_items": null,
            "grid_row": null,
            "max_height": null,
            "align_content": null,
            "visibility": null,
            "align_self": null,
            "height": null,
            "min_height": null,
            "padding": null,
            "grid_auto_rows": null,
            "grid_gap": null,
            "max_width": null,
            "order": null,
            "_view_module_version": "1.2.0",
            "grid_template_areas": null,
            "object_position": null,
            "object_fit": null,
            "grid_auto_columns": null,
            "margin": null,
            "display": null,
            "left": null
          }
        },
        "9368a273d68b4422b12cf5c7a9bc59db": {
          "model_module": "@jupyter-widgets/controls",
          "model_name": "FloatProgressModel",
          "model_module_version": "1.5.0",
          "state": {
            "_view_name": "ProgressView",
            "style": "IPY_MODEL_76c66bc0ab9444e697a102332ac10b0a",
            "_dom_classes": [],
            "description": "",
            "_model_name": "FloatProgressModel",
            "bar_style": "success",
            "max": 28881,
            "_view_module": "@jupyter-widgets/controls",
            "_model_module_version": "1.5.0",
            "value": 28881,
            "_view_count": null,
            "_view_module_version": "1.5.0",
            "orientation": "horizontal",
            "min": 0,
            "description_tooltip": null,
            "_model_module": "@jupyter-widgets/controls",
            "layout": "IPY_MODEL_02f681da34ad451d9efc766f94f1ddde"
          }
        },
        "e91420e3f5f648cb85d2aba4fccc1ba9": {
          "model_module": "@jupyter-widgets/controls",
          "model_name": "HTMLModel",
          "model_module_version": "1.5.0",
          "state": {
            "_view_name": "HTMLView",
            "style": "IPY_MODEL_48ab6be2e425488f87b68cf707970db7",
            "_dom_classes": [],
            "description": "",
            "_model_name": "HTMLModel",
            "placeholder": "​",
            "_view_module": "@jupyter-widgets/controls",
            "_model_module_version": "1.5.0",
            "value": " 29696/? [00:00&lt;00:00, 36229.16it/s]",
            "_view_count": null,
            "_view_module_version": "1.5.0",
            "description_tooltip": null,
            "_model_module": "@jupyter-widgets/controls",
            "layout": "IPY_MODEL_767373c7e24b4abeb5206242c12847b2"
          }
        },
        "76c66bc0ab9444e697a102332ac10b0a": {
          "model_module": "@jupyter-widgets/controls",
          "model_name": "ProgressStyleModel",
          "model_module_version": "1.5.0",
          "state": {
            "_view_name": "StyleView",
            "_model_name": "ProgressStyleModel",
            "description_width": "initial",
            "_view_module": "@jupyter-widgets/base",
            "_model_module_version": "1.5.0",
            "_view_count": null,
            "_view_module_version": "1.2.0",
            "bar_color": null,
            "_model_module": "@jupyter-widgets/controls"
          }
        },
        "02f681da34ad451d9efc766f94f1ddde": {
          "model_module": "@jupyter-widgets/base",
          "model_name": "LayoutModel",
          "model_module_version": "1.2.0",
          "state": {
            "_view_name": "LayoutView",
            "grid_template_rows": null,
            "right": null,
            "justify_content": null,
            "_view_module": "@jupyter-widgets/base",
            "overflow": null,
            "_model_module_version": "1.2.0",
            "_view_count": null,
            "flex_flow": null,
            "width": null,
            "min_width": null,
            "border": null,
            "align_items": null,
            "bottom": null,
            "_model_module": "@jupyter-widgets/base",
            "top": null,
            "grid_column": null,
            "overflow_y": null,
            "overflow_x": null,
            "grid_auto_flow": null,
            "grid_area": null,
            "grid_template_columns": null,
            "flex": null,
            "_model_name": "LayoutModel",
            "justify_items": null,
            "grid_row": null,
            "max_height": null,
            "align_content": null,
            "visibility": null,
            "align_self": null,
            "height": null,
            "min_height": null,
            "padding": null,
            "grid_auto_rows": null,
            "grid_gap": null,
            "max_width": null,
            "order": null,
            "_view_module_version": "1.2.0",
            "grid_template_areas": null,
            "object_position": null,
            "object_fit": null,
            "grid_auto_columns": null,
            "margin": null,
            "display": null,
            "left": null
          }
        },
        "48ab6be2e425488f87b68cf707970db7": {
          "model_module": "@jupyter-widgets/controls",
          "model_name": "DescriptionStyleModel",
          "model_module_version": "1.5.0",
          "state": {
            "_view_name": "StyleView",
            "_model_name": "DescriptionStyleModel",
            "description_width": "",
            "_view_module": "@jupyter-widgets/base",
            "_model_module_version": "1.5.0",
            "_view_count": null,
            "_view_module_version": "1.2.0",
            "_model_module": "@jupyter-widgets/controls"
          }
        },
        "767373c7e24b4abeb5206242c12847b2": {
          "model_module": "@jupyter-widgets/base",
          "model_name": "LayoutModel",
          "model_module_version": "1.2.0",
          "state": {
            "_view_name": "LayoutView",
            "grid_template_rows": null,
            "right": null,
            "justify_content": null,
            "_view_module": "@jupyter-widgets/base",
            "overflow": null,
            "_model_module_version": "1.2.0",
            "_view_count": null,
            "flex_flow": null,
            "width": null,
            "min_width": null,
            "border": null,
            "align_items": null,
            "bottom": null,
            "_model_module": "@jupyter-widgets/base",
            "top": null,
            "grid_column": null,
            "overflow_y": null,
            "overflow_x": null,
            "grid_auto_flow": null,
            "grid_area": null,
            "grid_template_columns": null,
            "flex": null,
            "_model_name": "LayoutModel",
            "justify_items": null,
            "grid_row": null,
            "max_height": null,
            "align_content": null,
            "visibility": null,
            "align_self": null,
            "height": null,
            "min_height": null,
            "padding": null,
            "grid_auto_rows": null,
            "grid_gap": null,
            "max_width": null,
            "order": null,
            "_view_module_version": "1.2.0",
            "grid_template_areas": null,
            "object_position": null,
            "object_fit": null,
            "grid_auto_columns": null,
            "margin": null,
            "display": null,
            "left": null
          }
        },
        "b51bcb60759349feb27b68f142d36ac6": {
          "model_module": "@jupyter-widgets/controls",
          "model_name": "HBoxModel",
          "model_module_version": "1.5.0",
          "state": {
            "_view_name": "HBoxView",
            "_dom_classes": [],
            "_model_name": "HBoxModel",
            "_view_module": "@jupyter-widgets/controls",
            "_model_module_version": "1.5.0",
            "_view_count": null,
            "_view_module_version": "1.5.0",
            "box_style": "",
            "layout": "IPY_MODEL_cbe2003aa899452487eedf51c9017603",
            "_model_module": "@jupyter-widgets/controls",
            "children": [
              "IPY_MODEL_4094a1611774456f8cdbb8cd254d2935",
              "IPY_MODEL_5e9d763647f7480f83b9edd28babdcaf"
            ]
          }
        },
        "cbe2003aa899452487eedf51c9017603": {
          "model_module": "@jupyter-widgets/base",
          "model_name": "LayoutModel",
          "model_module_version": "1.2.0",
          "state": {
            "_view_name": "LayoutView",
            "grid_template_rows": null,
            "right": null,
            "justify_content": null,
            "_view_module": "@jupyter-widgets/base",
            "overflow": null,
            "_model_module_version": "1.2.0",
            "_view_count": null,
            "flex_flow": null,
            "width": null,
            "min_width": null,
            "border": null,
            "align_items": null,
            "bottom": null,
            "_model_module": "@jupyter-widgets/base",
            "top": null,
            "grid_column": null,
            "overflow_y": null,
            "overflow_x": null,
            "grid_auto_flow": null,
            "grid_area": null,
            "grid_template_columns": null,
            "flex": null,
            "_model_name": "LayoutModel",
            "justify_items": null,
            "grid_row": null,
            "max_height": null,
            "align_content": null,
            "visibility": null,
            "align_self": null,
            "height": null,
            "min_height": null,
            "padding": null,
            "grid_auto_rows": null,
            "grid_gap": null,
            "max_width": null,
            "order": null,
            "_view_module_version": "1.2.0",
            "grid_template_areas": null,
            "object_position": null,
            "object_fit": null,
            "grid_auto_columns": null,
            "margin": null,
            "display": null,
            "left": null
          }
        },
        "4094a1611774456f8cdbb8cd254d2935": {
          "model_module": "@jupyter-widgets/controls",
          "model_name": "FloatProgressModel",
          "model_module_version": "1.5.0",
          "state": {
            "_view_name": "ProgressView",
            "style": "IPY_MODEL_8cd29902e5ce4d5686841115a16b14a5",
            "_dom_classes": [],
            "description": "",
            "_model_name": "FloatProgressModel",
            "bar_style": "success",
            "max": 1648877,
            "_view_module": "@jupyter-widgets/controls",
            "_model_module_version": "1.5.0",
            "value": 1648877,
            "_view_count": null,
            "_view_module_version": "1.5.0",
            "orientation": "horizontal",
            "min": 0,
            "description_tooltip": null,
            "_model_module": "@jupyter-widgets/controls",
            "layout": "IPY_MODEL_88d37e1c10d4422a9667b43bc6be079d"
          }
        },
        "5e9d763647f7480f83b9edd28babdcaf": {
          "model_module": "@jupyter-widgets/controls",
          "model_name": "HTMLModel",
          "model_module_version": "1.5.0",
          "state": {
            "_view_name": "HTMLView",
            "style": "IPY_MODEL_eaf123fe01c9420b8eb40d20df616c93",
            "_dom_classes": [],
            "description": "",
            "_model_name": "HTMLModel",
            "placeholder": "​",
            "_view_module": "@jupyter-widgets/controls",
            "_model_module_version": "1.5.0",
            "value": " 1649664/? [00:20&lt;00:00, 81109.50it/s]",
            "_view_count": null,
            "_view_module_version": "1.5.0",
            "description_tooltip": null,
            "_model_module": "@jupyter-widgets/controls",
            "layout": "IPY_MODEL_f9382d64c9bb466b921e544be703d0e9"
          }
        },
        "8cd29902e5ce4d5686841115a16b14a5": {
          "model_module": "@jupyter-widgets/controls",
          "model_name": "ProgressStyleModel",
          "model_module_version": "1.5.0",
          "state": {
            "_view_name": "StyleView",
            "_model_name": "ProgressStyleModel",
            "description_width": "initial",
            "_view_module": "@jupyter-widgets/base",
            "_model_module_version": "1.5.0",
            "_view_count": null,
            "_view_module_version": "1.2.0",
            "bar_color": null,
            "_model_module": "@jupyter-widgets/controls"
          }
        },
        "88d37e1c10d4422a9667b43bc6be079d": {
          "model_module": "@jupyter-widgets/base",
          "model_name": "LayoutModel",
          "model_module_version": "1.2.0",
          "state": {
            "_view_name": "LayoutView",
            "grid_template_rows": null,
            "right": null,
            "justify_content": null,
            "_view_module": "@jupyter-widgets/base",
            "overflow": null,
            "_model_module_version": "1.2.0",
            "_view_count": null,
            "flex_flow": null,
            "width": null,
            "min_width": null,
            "border": null,
            "align_items": null,
            "bottom": null,
            "_model_module": "@jupyter-widgets/base",
            "top": null,
            "grid_column": null,
            "overflow_y": null,
            "overflow_x": null,
            "grid_auto_flow": null,
            "grid_area": null,
            "grid_template_columns": null,
            "flex": null,
            "_model_name": "LayoutModel",
            "justify_items": null,
            "grid_row": null,
            "max_height": null,
            "align_content": null,
            "visibility": null,
            "align_self": null,
            "height": null,
            "min_height": null,
            "padding": null,
            "grid_auto_rows": null,
            "grid_gap": null,
            "max_width": null,
            "order": null,
            "_view_module_version": "1.2.0",
            "grid_template_areas": null,
            "object_position": null,
            "object_fit": null,
            "grid_auto_columns": null,
            "margin": null,
            "display": null,
            "left": null
          }
        },
        "eaf123fe01c9420b8eb40d20df616c93": {
          "model_module": "@jupyter-widgets/controls",
          "model_name": "DescriptionStyleModel",
          "model_module_version": "1.5.0",
          "state": {
            "_view_name": "StyleView",
            "_model_name": "DescriptionStyleModel",
            "description_width": "",
            "_view_module": "@jupyter-widgets/base",
            "_model_module_version": "1.5.0",
            "_view_count": null,
            "_view_module_version": "1.2.0",
            "_model_module": "@jupyter-widgets/controls"
          }
        },
        "f9382d64c9bb466b921e544be703d0e9": {
          "model_module": "@jupyter-widgets/base",
          "model_name": "LayoutModel",
          "model_module_version": "1.2.0",
          "state": {
            "_view_name": "LayoutView",
            "grid_template_rows": null,
            "right": null,
            "justify_content": null,
            "_view_module": "@jupyter-widgets/base",
            "overflow": null,
            "_model_module_version": "1.2.0",
            "_view_count": null,
            "flex_flow": null,
            "width": null,
            "min_width": null,
            "border": null,
            "align_items": null,
            "bottom": null,
            "_model_module": "@jupyter-widgets/base",
            "top": null,
            "grid_column": null,
            "overflow_y": null,
            "overflow_x": null,
            "grid_auto_flow": null,
            "grid_area": null,
            "grid_template_columns": null,
            "flex": null,
            "_model_name": "LayoutModel",
            "justify_items": null,
            "grid_row": null,
            "max_height": null,
            "align_content": null,
            "visibility": null,
            "align_self": null,
            "height": null,
            "min_height": null,
            "padding": null,
            "grid_auto_rows": null,
            "grid_gap": null,
            "max_width": null,
            "order": null,
            "_view_module_version": "1.2.0",
            "grid_template_areas": null,
            "object_position": null,
            "object_fit": null,
            "grid_auto_columns": null,
            "margin": null,
            "display": null,
            "left": null
          }
        },
        "d40c97c3c6eb4eaf98a4d64209fe20c5": {
          "model_module": "@jupyter-widgets/controls",
          "model_name": "HBoxModel",
          "model_module_version": "1.5.0",
          "state": {
            "_view_name": "HBoxView",
            "_dom_classes": [],
            "_model_name": "HBoxModel",
            "_view_module": "@jupyter-widgets/controls",
            "_model_module_version": "1.5.0",
            "_view_count": null,
            "_view_module_version": "1.5.0",
            "box_style": "",
            "layout": "IPY_MODEL_6feb0aa6389e4b34872d57200c3bcfdc",
            "_model_module": "@jupyter-widgets/controls",
            "children": [
              "IPY_MODEL_60ac83839f5843228da1d731cc017d16",
              "IPY_MODEL_6696085abbbb4300b4a109f075b2a24f"
            ]
          }
        },
        "6feb0aa6389e4b34872d57200c3bcfdc": {
          "model_module": "@jupyter-widgets/base",
          "model_name": "LayoutModel",
          "model_module_version": "1.2.0",
          "state": {
            "_view_name": "LayoutView",
            "grid_template_rows": null,
            "right": null,
            "justify_content": null,
            "_view_module": "@jupyter-widgets/base",
            "overflow": null,
            "_model_module_version": "1.2.0",
            "_view_count": null,
            "flex_flow": null,
            "width": null,
            "min_width": null,
            "border": null,
            "align_items": null,
            "bottom": null,
            "_model_module": "@jupyter-widgets/base",
            "top": null,
            "grid_column": null,
            "overflow_y": null,
            "overflow_x": null,
            "grid_auto_flow": null,
            "grid_area": null,
            "grid_template_columns": null,
            "flex": null,
            "_model_name": "LayoutModel",
            "justify_items": null,
            "grid_row": null,
            "max_height": null,
            "align_content": null,
            "visibility": null,
            "align_self": null,
            "height": null,
            "min_height": null,
            "padding": null,
            "grid_auto_rows": null,
            "grid_gap": null,
            "max_width": null,
            "order": null,
            "_view_module_version": "1.2.0",
            "grid_template_areas": null,
            "object_position": null,
            "object_fit": null,
            "grid_auto_columns": null,
            "margin": null,
            "display": null,
            "left": null
          }
        },
        "60ac83839f5843228da1d731cc017d16": {
          "model_module": "@jupyter-widgets/controls",
          "model_name": "FloatProgressModel",
          "model_module_version": "1.5.0",
          "state": {
            "_view_name": "ProgressView",
            "style": "IPY_MODEL_2be75fc3d18a4a929023f83e5cbf4c3f",
            "_dom_classes": [],
            "description": "",
            "_model_name": "FloatProgressModel",
            "bar_style": "success",
            "max": 4542,
            "_view_module": "@jupyter-widgets/controls",
            "_model_module_version": "1.5.0",
            "value": 4542,
            "_view_count": null,
            "_view_module_version": "1.5.0",
            "orientation": "horizontal",
            "min": 0,
            "description_tooltip": null,
            "_model_module": "@jupyter-widgets/controls",
            "layout": "IPY_MODEL_47c39ac084aa4fe8832eeca84a1be8b8"
          }
        },
        "6696085abbbb4300b4a109f075b2a24f": {
          "model_module": "@jupyter-widgets/controls",
          "model_name": "HTMLModel",
          "model_module_version": "1.5.0",
          "state": {
            "_view_name": "HTMLView",
            "style": "IPY_MODEL_b27a715f8b9d4adda4f28cc85ff39b09",
            "_dom_classes": [],
            "description": "",
            "_model_name": "HTMLModel",
            "placeholder": "​",
            "_view_module": "@jupyter-widgets/controls",
            "_model_module_version": "1.5.0",
            "value": " 5120/? [00:11&lt;00:00, 439.27it/s]",
            "_view_count": null,
            "_view_module_version": "1.5.0",
            "description_tooltip": null,
            "_model_module": "@jupyter-widgets/controls",
            "layout": "IPY_MODEL_43f360df37c743fc8b99e13c375173a2"
          }
        },
        "2be75fc3d18a4a929023f83e5cbf4c3f": {
          "model_module": "@jupyter-widgets/controls",
          "model_name": "ProgressStyleModel",
          "model_module_version": "1.5.0",
          "state": {
            "_view_name": "StyleView",
            "_model_name": "ProgressStyleModel",
            "description_width": "initial",
            "_view_module": "@jupyter-widgets/base",
            "_model_module_version": "1.5.0",
            "_view_count": null,
            "_view_module_version": "1.2.0",
            "bar_color": null,
            "_model_module": "@jupyter-widgets/controls"
          }
        },
        "47c39ac084aa4fe8832eeca84a1be8b8": {
          "model_module": "@jupyter-widgets/base",
          "model_name": "LayoutModel",
          "model_module_version": "1.2.0",
          "state": {
            "_view_name": "LayoutView",
            "grid_template_rows": null,
            "right": null,
            "justify_content": null,
            "_view_module": "@jupyter-widgets/base",
            "overflow": null,
            "_model_module_version": "1.2.0",
            "_view_count": null,
            "flex_flow": null,
            "width": null,
            "min_width": null,
            "border": null,
            "align_items": null,
            "bottom": null,
            "_model_module": "@jupyter-widgets/base",
            "top": null,
            "grid_column": null,
            "overflow_y": null,
            "overflow_x": null,
            "grid_auto_flow": null,
            "grid_area": null,
            "grid_template_columns": null,
            "flex": null,
            "_model_name": "LayoutModel",
            "justify_items": null,
            "grid_row": null,
            "max_height": null,
            "align_content": null,
            "visibility": null,
            "align_self": null,
            "height": null,
            "min_height": null,
            "padding": null,
            "grid_auto_rows": null,
            "grid_gap": null,
            "max_width": null,
            "order": null,
            "_view_module_version": "1.2.0",
            "grid_template_areas": null,
            "object_position": null,
            "object_fit": null,
            "grid_auto_columns": null,
            "margin": null,
            "display": null,
            "left": null
          }
        },
        "b27a715f8b9d4adda4f28cc85ff39b09": {
          "model_module": "@jupyter-widgets/controls",
          "model_name": "DescriptionStyleModel",
          "model_module_version": "1.5.0",
          "state": {
            "_view_name": "StyleView",
            "_model_name": "DescriptionStyleModel",
            "description_width": "",
            "_view_module": "@jupyter-widgets/base",
            "_model_module_version": "1.5.0",
            "_view_count": null,
            "_view_module_version": "1.2.0",
            "_model_module": "@jupyter-widgets/controls"
          }
        },
        "43f360df37c743fc8b99e13c375173a2": {
          "model_module": "@jupyter-widgets/base",
          "model_name": "LayoutModel",
          "model_module_version": "1.2.0",
          "state": {
            "_view_name": "LayoutView",
            "grid_template_rows": null,
            "right": null,
            "justify_content": null,
            "_view_module": "@jupyter-widgets/base",
            "overflow": null,
            "_model_module_version": "1.2.0",
            "_view_count": null,
            "flex_flow": null,
            "width": null,
            "min_width": null,
            "border": null,
            "align_items": null,
            "bottom": null,
            "_model_module": "@jupyter-widgets/base",
            "top": null,
            "grid_column": null,
            "overflow_y": null,
            "overflow_x": null,
            "grid_auto_flow": null,
            "grid_area": null,
            "grid_template_columns": null,
            "flex": null,
            "_model_name": "LayoutModel",
            "justify_items": null,
            "grid_row": null,
            "max_height": null,
            "align_content": null,
            "visibility": null,
            "align_self": null,
            "height": null,
            "min_height": null,
            "padding": null,
            "grid_auto_rows": null,
            "grid_gap": null,
            "max_width": null,
            "order": null,
            "_view_module_version": "1.2.0",
            "grid_template_areas": null,
            "object_position": null,
            "object_fit": null,
            "grid_auto_columns": null,
            "margin": null,
            "display": null,
            "left": null
          }
        }
      }
    }
  },
  "cells": [
    {
      "cell_type": "markdown",
      "metadata": {
        "id": "f9Xx-jP92OgP"
      },
      "source": [
        "# 파이토치(PyTorch)\n",
        "\n",
        "<img src=\"https://img1.daumcdn.net/thumb/R800x0/?scode=mtistory2&fname=https%3A%2F%2Fblog.kakaocdn.net%2Fdn%2FbuUgoV%2FbtqwWZvcHHX%2Fd6XzIFBEfiuFb0UvyV4A50%2Fimg.jpg\" width=\"300\">\n",
        "\n",
        "- 코드 출처: https://pytorch.org/tutorials/"
      ]
    },
    {
      "cell_type": "markdown",
      "metadata": {
        "id": "3cxreguz2sL0"
      },
      "source": [
        "## 파이토치의 구성요소\n",
        "\n",
        "- `torch`: 텐서를 생성하는 라이브러리\n",
        "\n",
        "- `torch.autograd`: 자동미분 기능을 제공하는 라이브러리\n",
        "\n",
        "- `torch.nn`: 신경망을 생성하는 라이브러리\n",
        "\n",
        "- `torch.multiprocessing`: 병럴처리 기능을 제공하는 라이브러리\n",
        "\n",
        "- `torch.utils`: 데이터 조작 등 유틸리티 기능 제공\n",
        "\n",
        "- `torch.legacy`(./nn/.optim): Torch로부터 포팅해온 코드\n",
        "\n",
        "- `torch.onnx`: ONNX(Open Neural Network Exchange)\n",
        "\n",
        "  - 서로 다른 프레임워크 간의 모델을 공유할 때 사용"
      ]
    },
    {
      "cell_type": "markdown",
      "metadata": {
        "id": "gb5O_aSvtHvb"
      },
      "source": [
        "## 텐서(Tensors)\n",
        "- 넘파이(NumPy)의 ndarray와 유사\n",
        "\n",
        "- GPU를 사용한 연산 가속도 가능"
      ]
    },
    {
      "cell_type": "code",
      "metadata": {
        "id": "CmKIvnx0s8G6"
      },
      "source": [
        "import torch"
      ],
      "execution_count": 1,
      "outputs": []
    },
    {
      "cell_type": "code",
      "metadata": {
        "id": "49IHV-qJE5FI",
        "colab": {
          "base_uri": "https://localhost:8080/",
          "height": 35
        },
        "outputId": "bed709f3-3dc0-4fb8-ddb3-a168bfea0291"
      },
      "source": [
        "torch.__version__"
      ],
      "execution_count": 2,
      "outputs": [
        {
          "output_type": "execute_result",
          "data": {
            "application/vnd.google.colaboratory.intrinsic+json": {
              "type": "string"
            },
            "text/plain": [
              "'1.9.0+cu102'"
            ]
          },
          "metadata": {
            "tags": []
          },
          "execution_count": 2
        }
      ]
    },
    {
      "cell_type": "markdown",
      "metadata": {
        "id": "isUHVy-gtZeT"
      },
      "source": [
        "### 초기화 되지 않은 행렬 "
      ]
    },
    {
      "cell_type": "code",
      "metadata": {
        "id": "3PqY3cZatU0D",
        "colab": {
          "base_uri": "https://localhost:8080/"
        },
        "outputId": "dd0263dc-cffe-40d4-cee8-0983596e4586"
      },
      "source": [
        "x = torch.empty(4, 2)\n",
        "print(x)"
      ],
      "execution_count": 3,
      "outputs": [
        {
          "output_type": "stream",
          "text": [
            "tensor([[-1.2996e+17,  3.0946e-41],\n",
            "        [ 3.3631e-44,  0.0000e+00],\n",
            "        [        nan,  6.4460e-44],\n",
            "        [ 1.1578e+27,  1.1362e+30]])\n"
          ],
          "name": "stdout"
        }
      ]
    },
    {
      "cell_type": "markdown",
      "metadata": {
        "id": "zPCIJ2pNteZv"
      },
      "source": [
        "### 무작위로 초기화된 행렬"
      ]
    },
    {
      "cell_type": "code",
      "metadata": {
        "id": "h6oPj2Q9tdYx",
        "colab": {
          "base_uri": "https://localhost:8080/"
        },
        "outputId": "37b8e4b2-9b52-487f-d0a0-79fc74216280"
      },
      "source": [
        "x = torch.rand(4, 2)\n",
        "print(x)"
      ],
      "execution_count": 4,
      "outputs": [
        {
          "output_type": "stream",
          "text": [
            "tensor([[0.1596, 0.7237],\n",
            "        [0.3857, 0.7900],\n",
            "        [0.0574, 0.1124],\n",
            "        [0.8430, 0.7171]])\n"
          ],
          "name": "stdout"
        }
      ]
    },
    {
      "cell_type": "markdown",
      "metadata": {
        "id": "A5aHphIHtiJk"
      },
      "source": [
        "### dtype이 long, 0으로 채워진 텐서"
      ]
    },
    {
      "cell_type": "code",
      "metadata": {
        "id": "4zykN8aMthXk",
        "colab": {
          "base_uri": "https://localhost:8080/"
        },
        "outputId": "ab739172-a67f-455b-afe9-1cce82331594"
      },
      "source": [
        "x = torch.zeros(4, 2, dtype=torch.long)\n",
        "print(x)"
      ],
      "execution_count": 5,
      "outputs": [
        {
          "output_type": "stream",
          "text": [
            "tensor([[0, 0],\n",
            "        [0, 0],\n",
            "        [0, 0],\n",
            "        [0, 0]])\n"
          ],
          "name": "stdout"
        }
      ]
    },
    {
      "cell_type": "code",
      "metadata": {
        "id": "W4VL8C_ctu8b",
        "colab": {
          "base_uri": "https://localhost:8080/"
        },
        "outputId": "da2bb58a-cb0c-4d23-d565-2b325f3912d8"
      },
      "source": [
        "x = torch.tensor([3, 2.3])\n",
        "print(x)"
      ],
      "execution_count": 7,
      "outputs": [
        {
          "output_type": "stream",
          "text": [
            "tensor([3.0000, 2.3000])\n"
          ],
          "name": "stdout"
        }
      ]
    },
    {
      "cell_type": "code",
      "metadata": {
        "id": "4RmVBVtIt46M",
        "colab": {
          "base_uri": "https://localhost:8080/"
        },
        "outputId": "7cdcc2fa-bf68-4373-cbff-b2535622f0e6"
      },
      "source": [
        "x = x.new_ones(2, 4, dtype=torch.double)\n",
        "print(x)"
      ],
      "execution_count": 8,
      "outputs": [
        {
          "output_type": "stream",
          "text": [
            "tensor([[1., 1., 1., 1.],\n",
            "        [1., 1., 1., 1.]], dtype=torch.float64)\n"
          ],
          "name": "stdout"
        }
      ]
    },
    {
      "cell_type": "code",
      "metadata": {
        "id": "xxskTUfGuPUe",
        "colab": {
          "base_uri": "https://localhost:8080/"
        },
        "outputId": "1fd74615-7da0-42d1-8d28-6c715ec7f6f9"
      },
      "source": [
        "x = torch.randn_like(x, dtype=torch.float)\n",
        "print(x)"
      ],
      "execution_count": 9,
      "outputs": [
        {
          "output_type": "stream",
          "text": [
            "tensor([[-0.2004, -0.9499, -2.1873,  0.0221],\n",
            "        [-0.4929, -0.5495,  1.1448, -1.7252]])\n"
          ],
          "name": "stdout"
        }
      ]
    },
    {
      "cell_type": "markdown",
      "metadata": {
        "id": "7j5sGxGvucpH"
      },
      "source": [
        "### 텐서의 크기"
      ]
    },
    {
      "cell_type": "code",
      "metadata": {
        "id": "yy-JbqKEuYIR",
        "colab": {
          "base_uri": "https://localhost:8080/"
        },
        "outputId": "298b60b9-57e5-45d5-86b5-c7081fef2d4f"
      },
      "source": [
        "print(x.size())"
      ],
      "execution_count": 11,
      "outputs": [
        {
          "output_type": "stream",
          "text": [
            "torch.Size([2, 4])\n"
          ],
          "name": "stdout"
        }
      ]
    },
    {
      "cell_type": "markdown",
      "metadata": {
        "id": "ehOg0eDwufru"
      },
      "source": [
        "## 텐서의 연산(operations)"
      ]
    },
    {
      "cell_type": "markdown",
      "metadata": {
        "id": "j8Doc_37uh3G"
      },
      "source": [
        "### 덧셈 1"
      ]
    },
    {
      "cell_type": "code",
      "metadata": {
        "id": "Rw4JCYkYuef9",
        "colab": {
          "base_uri": "https://localhost:8080/"
        },
        "outputId": "68c5e204-6d51-4a7c-85df-46e68bf01997"
      },
      "source": [
        "print(x)"
      ],
      "execution_count": 12,
      "outputs": [
        {
          "output_type": "stream",
          "text": [
            "tensor([[-0.2004, -0.9499, -2.1873,  0.0221],\n",
            "        [-0.4929, -0.5495,  1.1448, -1.7252]])\n"
          ],
          "name": "stdout"
        }
      ]
    },
    {
      "cell_type": "code",
      "metadata": {
        "id": "Wa44ur1Nuj5U",
        "colab": {
          "base_uri": "https://localhost:8080/"
        },
        "outputId": "86e7eb20-7efc-4495-d58d-a89e7b5ec547"
      },
      "source": [
        "y = torch.rand(2, 4)\n",
        "print(y)\n",
        "print(x + y)"
      ],
      "execution_count": 14,
      "outputs": [
        {
          "output_type": "stream",
          "text": [
            "tensor([[0.5670, 0.3334, 0.9836, 0.7847],\n",
            "        [0.4934, 0.5819, 0.6746, 0.3228]])\n",
            "tensor([[ 3.6658e-01, -6.1648e-01, -1.2038e+00,  8.0681e-01],\n",
            "        [ 5.1510e-04,  3.2422e-02,  1.8194e+00, -1.4024e+00]])\n"
          ],
          "name": "stdout"
        }
      ]
    },
    {
      "cell_type": "markdown",
      "metadata": {
        "id": "E5gcOo-Ouo9B"
      },
      "source": [
        "### 덧셈2"
      ]
    },
    {
      "cell_type": "code",
      "metadata": {
        "id": "Qx-NzJhhumZx",
        "colab": {
          "base_uri": "https://localhost:8080/"
        },
        "outputId": "38335671-59f0-49c2-ccd1-d6d1f89fdd33"
      },
      "source": [
        "print(torch.add(x, y))"
      ],
      "execution_count": 15,
      "outputs": [
        {
          "output_type": "stream",
          "text": [
            "tensor([[ 3.6658e-01, -6.1648e-01, -1.2038e+00,  8.0681e-01],\n",
            "        [ 5.1510e-04,  3.2422e-02,  1.8194e+00, -1.4024e+00]])\n"
          ],
          "name": "stdout"
        }
      ]
    },
    {
      "cell_type": "markdown",
      "metadata": {
        "id": "RlvrQhLuuuIr"
      },
      "source": [
        "### 덧셈3\n",
        "- 결과 텐서를 인자로 제공"
      ]
    },
    {
      "cell_type": "code",
      "metadata": {
        "id": "lUsLAOTcur1-",
        "colab": {
          "base_uri": "https://localhost:8080/"
        },
        "outputId": "8bf558ba-de60-4ee0-8672-a4050c03050f"
      },
      "source": [
        "result = torch.empty(2, 4)\n",
        "torch.add(x, y, out=result)\n",
        "print(result)"
      ],
      "execution_count": 17,
      "outputs": [
        {
          "output_type": "stream",
          "text": [
            "tensor([[ 3.6658e-01, -6.1648e-01, -1.2038e+00,  8.0681e-01],\n",
            "        [ 5.1510e-04,  3.2422e-02,  1.8194e+00, -1.4024e+00]])\n"
          ],
          "name": "stdout"
        }
      ]
    },
    {
      "cell_type": "markdown",
      "metadata": {
        "id": "V6BdyZFSu2Ei"
      },
      "source": [
        "### 덧셈4\n",
        "- `in-place` 방식\n",
        "\n",
        "- (참고) in-place 방식\n",
        "  - in-place방식으로 텐서의 값을 변경하는 연산 뒤에는 _''가 붙음\n",
        "  - `x.copy_(y), x.t_()`"
      ]
    },
    {
      "cell_type": "code",
      "metadata": {
        "id": "lu8rR4WVu0wQ",
        "colab": {
          "base_uri": "https://localhost:8080/"
        },
        "outputId": "32f9b35e-d005-4ca5-affc-8bab43d3f972"
      },
      "source": [
        "print(x)\n",
        "print(y)\n",
        "y.add_(x)\n",
        "print(y)"
      ],
      "execution_count": 18,
      "outputs": [
        {
          "output_type": "stream",
          "text": [
            "tensor([[-0.2004, -0.9499, -2.1873,  0.0221],\n",
            "        [-0.4929, -0.5495,  1.1448, -1.7252]])\n",
            "tensor([[0.5670, 0.3334, 0.9836, 0.7847],\n",
            "        [0.4934, 0.5819, 0.6746, 0.3228]])\n",
            "tensor([[ 3.6658e-01, -6.1648e-01, -1.2038e+00,  8.0681e-01],\n",
            "        [ 5.1510e-04,  3.2422e-02,  1.8194e+00, -1.4024e+00]])\n"
          ],
          "name": "stdout"
        }
      ]
    },
    {
      "cell_type": "markdown",
      "metadata": {
        "id": "Uo8nsrGjOw6W"
      },
      "source": [
        "### 그 외의 연산\n",
        "- `torch.sub` : 뺄셈\n",
        "\n",
        "- `torch.mul` : 곱셉\n",
        "\n",
        "- `torch.div` : 나눗셈\n",
        "\n",
        "- `torch.mm` : 내적(dot product)"
      ]
    },
    {
      "cell_type": "code",
      "metadata": {
        "id": "S51kxzPTO1ER",
        "colab": {
          "base_uri": "https://localhost:8080/"
        },
        "outputId": "84a013f9-cd34-453c-e350-cb9e0033f815"
      },
      "source": [
        "x = torch.Tensor([[1, 3],\n",
        "                  [5, 7]])\n",
        "y = torch.Tensor([[2, 4],\n",
        "                  [5, 8]])\n",
        "print(x - y)\n",
        "print(torch.sub(x, y))\n",
        "print(x.sub(y))"
      ],
      "execution_count": 19,
      "outputs": [
        {
          "output_type": "stream",
          "text": [
            "tensor([[-1., -1.],\n",
            "        [ 0., -1.]])\n",
            "tensor([[-1., -1.],\n",
            "        [ 0., -1.]])\n",
            "tensor([[-1., -1.],\n",
            "        [ 0., -1.]])\n"
          ],
          "name": "stdout"
        }
      ]
    },
    {
      "cell_type": "code",
      "metadata": {
        "id": "ou0dY8mkPR24",
        "colab": {
          "base_uri": "https://localhost:8080/"
        },
        "outputId": "3fc50729-bab4-45c5-d7a3-ec639bce10bc"
      },
      "source": [
        "x = torch.Tensor([[1, 3],\n",
        "                  [5, 7]])\n",
        "y = torch.Tensor([[2, 4],\n",
        "                  [5, 8]])\n",
        "print(x * y)\n",
        "print(torch.mul(x, y))\n",
        "print(x.mul(y))"
      ],
      "execution_count": 20,
      "outputs": [
        {
          "output_type": "stream",
          "text": [
            "tensor([[ 2., 12.],\n",
            "        [25., 56.]])\n",
            "tensor([[ 2., 12.],\n",
            "        [25., 56.]])\n",
            "tensor([[ 2., 12.],\n",
            "        [25., 56.]])\n"
          ],
          "name": "stdout"
        }
      ]
    },
    {
      "cell_type": "code",
      "metadata": {
        "id": "6RlZZBp3PbE4",
        "colab": {
          "base_uri": "https://localhost:8080/"
        },
        "outputId": "0ee62819-1237-4b90-f3cd-8b75a8e6b23c"
      },
      "source": [
        "print(x / y)\n",
        "print(torch.div(x, y))\n",
        "print(x.div(y))"
      ],
      "execution_count": 21,
      "outputs": [
        {
          "output_type": "stream",
          "text": [
            "tensor([[0.5000, 0.7500],\n",
            "        [1.0000, 0.8750]])\n",
            "tensor([[0.5000, 0.7500],\n",
            "        [1.0000, 0.8750]])\n",
            "tensor([[0.5000, 0.7500],\n",
            "        [1.0000, 0.8750]])\n"
          ],
          "name": "stdout"
        }
      ]
    },
    {
      "cell_type": "code",
      "metadata": {
        "id": "7MR-ofE5P7VC",
        "colab": {
          "base_uri": "https://localhost:8080/"
        },
        "outputId": "18bf911e-9167-46ad-e9b5-c0623f06d4a8"
      },
      "source": [
        "x = torch.Tensor([[1, 3],\n",
        "                  [5, 7]])\n",
        "y = torch.Tensor([[2, 4],\n",
        "                  [6, 8]])\n",
        "print(torch.mm(x, y))"
      ],
      "execution_count": 24,
      "outputs": [
        {
          "output_type": "stream",
          "text": [
            "tensor([[20., 28.],\n",
            "        [52., 76.]])\n"
          ],
          "name": "stdout"
        }
      ]
    },
    {
      "cell_type": "markdown",
      "metadata": {
        "id": "8URGwHE_NjDi"
      },
      "source": [
        "## 텐서의 조작(manipulations)"
      ]
    },
    {
      "cell_type": "markdown",
      "metadata": {
        "id": "uCsdZIPTvG53"
      },
      "source": [
        "### 인덱싱\n",
        "- 넘파이처럼 인덱싱 사용가능"
      ]
    },
    {
      "cell_type": "code",
      "metadata": {
        "id": "jF2DE8kzvOs3",
        "colab": {
          "base_uri": "https://localhost:8080/"
        },
        "outputId": "0271bcb5-db3d-4670-c9c3-e521ea2e62e8"
      },
      "source": [
        "print(x)"
      ],
      "execution_count": 25,
      "outputs": [
        {
          "output_type": "stream",
          "text": [
            "tensor([[1., 3.],\n",
            "        [5., 7.]])\n"
          ],
          "name": "stdout"
        }
      ]
    },
    {
      "cell_type": "code",
      "metadata": {
        "id": "GQtBH3r3u7c3",
        "colab": {
          "base_uri": "https://localhost:8080/"
        },
        "outputId": "438f8191-69e8-4ae2-80a7-a5a1937955e2"
      },
      "source": [
        "print(x[:, 1])"
      ],
      "execution_count": 26,
      "outputs": [
        {
          "output_type": "stream",
          "text": [
            "tensor([3., 7.])\n"
          ],
          "name": "stdout"
        }
      ]
    },
    {
      "cell_type": "markdown",
      "metadata": {
        "id": "jEscXddKvQ5l"
      },
      "source": [
        "### view\n",
        "- 텐서의 크기(size)나 모양(shape)을 변경"
      ]
    },
    {
      "cell_type": "code",
      "metadata": {
        "id": "xwhWeqhLvKKj",
        "colab": {
          "base_uri": "https://localhost:8080/"
        },
        "outputId": "66380676-e9ee-4d1d-a0c8-fb85c55c1bfc"
      },
      "source": [
        "x = torch.randn(4, 5)\n",
        "y = x.view(20)\n",
        "z = x.view(5, -1)\n",
        "print(x)\n",
        "print(y)\n",
        "print(z)"
      ],
      "execution_count": 29,
      "outputs": [
        {
          "output_type": "stream",
          "text": [
            "tensor([[ 8.3788e-01, -4.9183e-01,  5.0782e-01, -5.9818e-01, -2.2685e+00],\n",
            "        [-6.4230e-01, -4.0876e-01, -1.3848e+00,  6.6898e-01, -1.0343e-02],\n",
            "        [ 8.7616e-01,  1.7410e+00,  1.0780e+00,  5.8484e-01,  6.4315e-01],\n",
            "        [-1.0739e+00,  3.1269e-01,  5.5282e-01,  2.3225e+00,  9.8911e-04]])\n",
            "tensor([ 8.3788e-01, -4.9183e-01,  5.0782e-01, -5.9818e-01, -2.2685e+00,\n",
            "        -6.4230e-01, -4.0876e-01, -1.3848e+00,  6.6898e-01, -1.0343e-02,\n",
            "         8.7616e-01,  1.7410e+00,  1.0780e+00,  5.8484e-01,  6.4315e-01,\n",
            "        -1.0739e+00,  3.1269e-01,  5.5282e-01,  2.3225e+00,  9.8911e-04])\n",
            "tensor([[ 8.3788e-01, -4.9183e-01,  5.0782e-01, -5.9818e-01],\n",
            "        [-2.2685e+00, -6.4230e-01, -4.0876e-01, -1.3848e+00],\n",
            "        [ 6.6898e-01, -1.0343e-02,  8.7616e-01,  1.7410e+00],\n",
            "        [ 1.0780e+00,  5.8484e-01,  6.4315e-01, -1.0739e+00],\n",
            "        [ 3.1269e-01,  5.5282e-01,  2.3225e+00,  9.8911e-04]])\n"
          ],
          "name": "stdout"
        }
      ]
    },
    {
      "cell_type": "markdown",
      "metadata": {
        "id": "iBY_wuIRvf5j"
      },
      "source": [
        "### item\n",
        "- 텐서에 값이 단 하나라도 존재하면 숫자값을 얻을 수 있음\n"
      ]
    },
    {
      "cell_type": "code",
      "metadata": {
        "id": "E0W24QqpvcmV",
        "colab": {
          "base_uri": "https://localhost:8080/"
        },
        "outputId": "a357bdf0-302d-45d9-a38b-9b3043c46b9d"
      },
      "source": [
        "x = torch.randn(1)\n",
        "print(x)\n",
        "print(x.item())\n",
        "print(x.dtype)"
      ],
      "execution_count": 31,
      "outputs": [
        {
          "output_type": "stream",
          "text": [
            "tensor([-0.4823])\n",
            "-0.48226141929626465\n",
            "torch.float32\n"
          ],
          "name": "stdout"
        }
      ]
    },
    {
      "cell_type": "markdown",
      "metadata": {
        "id": "V1sCUVwC3Nua"
      },
      "source": [
        "- 스칼라값 하나만 존재해야함"
      ]
    },
    {
      "cell_type": "code",
      "metadata": {
        "id": "jl4_FAgd3Lt9",
        "colab": {
          "base_uri": "https://localhost:8080/",
          "height": 245
        },
        "outputId": "2a645f83-b2e6-44bf-843c-e68937108e3e"
      },
      "source": [
        "x = torch.randn(2)\n",
        "print(x)\n",
        "print(x.item())\n",
        "print(x.dtype)"
      ],
      "execution_count": 32,
      "outputs": [
        {
          "output_type": "stream",
          "text": [
            "tensor([ 0.6960, -0.4072])\n"
          ],
          "name": "stdout"
        },
        {
          "output_type": "error",
          "ename": "ValueError",
          "evalue": "ignored",
          "traceback": [
            "\u001b[0;31m---------------------------------------------------------------------------\u001b[0m",
            "\u001b[0;31mValueError\u001b[0m                                Traceback (most recent call last)",
            "\u001b[0;32m<ipython-input-32-7c023f92a1c8>\u001b[0m in \u001b[0;36m<module>\u001b[0;34m()\u001b[0m\n\u001b[1;32m      1\u001b[0m \u001b[0mx\u001b[0m \u001b[0;34m=\u001b[0m \u001b[0mtorch\u001b[0m\u001b[0;34m.\u001b[0m\u001b[0mrandn\u001b[0m\u001b[0;34m(\u001b[0m\u001b[0;36m2\u001b[0m\u001b[0;34m)\u001b[0m\u001b[0;34m\u001b[0m\u001b[0;34m\u001b[0m\u001b[0m\n\u001b[1;32m      2\u001b[0m \u001b[0mprint\u001b[0m\u001b[0;34m(\u001b[0m\u001b[0mx\u001b[0m\u001b[0;34m)\u001b[0m\u001b[0;34m\u001b[0m\u001b[0;34m\u001b[0m\u001b[0m\n\u001b[0;32m----> 3\u001b[0;31m \u001b[0mprint\u001b[0m\u001b[0;34m(\u001b[0m\u001b[0mx\u001b[0m\u001b[0;34m.\u001b[0m\u001b[0mitem\u001b[0m\u001b[0;34m(\u001b[0m\u001b[0;34m)\u001b[0m\u001b[0;34m)\u001b[0m\u001b[0;34m\u001b[0m\u001b[0;34m\u001b[0m\u001b[0m\n\u001b[0m\u001b[1;32m      4\u001b[0m \u001b[0mprint\u001b[0m\u001b[0;34m(\u001b[0m\u001b[0mx\u001b[0m\u001b[0;34m.\u001b[0m\u001b[0mdtype\u001b[0m\u001b[0;34m)\u001b[0m\u001b[0;34m\u001b[0m\u001b[0;34m\u001b[0m\u001b[0m\n",
            "\u001b[0;31mValueError\u001b[0m: only one element tensors can be converted to Python scalars"
          ]
        }
      ]
    },
    {
      "cell_type": "markdown",
      "metadata": {
        "id": "uThndsy5M6wM"
      },
      "source": [
        "### squeeze \n",
        "- 차원을 축소(제거)"
      ]
    },
    {
      "cell_type": "code",
      "metadata": {
        "id": "OF3rOavnRxgM",
        "colab": {
          "base_uri": "https://localhost:8080/"
        },
        "outputId": "27c82238-98db-488a-a0f8-8984e3090f8a"
      },
      "source": [
        "tensor = torch.rand(1, 3, 3)\n",
        "print(tensor)\n",
        "print(tensor.shape)"
      ],
      "execution_count": 38,
      "outputs": [
        {
          "output_type": "stream",
          "text": [
            "tensor([[[0.7287, 0.7172, 0.7440],\n",
            "         [0.7617, 0.7932, 0.2929],\n",
            "         [0.2505, 0.7347, 0.2615]]])\n",
            "torch.Size([1, 3, 3])\n"
          ],
          "name": "stdout"
        }
      ]
    },
    {
      "cell_type": "code",
      "metadata": {
        "id": "Y2jq0jHJR5Jw",
        "colab": {
          "base_uri": "https://localhost:8080/"
        },
        "outputId": "970f2bb6-2a10-4ed9-f055-89f992096c1f"
      },
      "source": [
        "t = tensor.squeeze()\n",
        "\n",
        "print(t)\n",
        "print(t.shape)"
      ],
      "execution_count": 39,
      "outputs": [
        {
          "output_type": "stream",
          "text": [
            "tensor([[0.7287, 0.7172, 0.7440],\n",
            "        [0.7617, 0.7932, 0.2929],\n",
            "        [0.2505, 0.7347, 0.2615]])\n",
            "torch.Size([3, 3])\n"
          ],
          "name": "stdout"
        }
      ]
    },
    {
      "cell_type": "markdown",
      "metadata": {
        "id": "COv-dnTYNJ8Z"
      },
      "source": [
        "### unsqueeze\n",
        "- 차원을 증가(생성)"
      ]
    },
    {
      "cell_type": "code",
      "metadata": {
        "id": "PFxaHGY1NOBo",
        "colab": {
          "base_uri": "https://localhost:8080/"
        },
        "outputId": "afa8c4d1-56f7-4643-e815-ac7969bd3ec7"
      },
      "source": [
        "tensor = torch.rand(1, 3, 3)\n",
        "print(tensor)\n",
        "print(tensor.shape)"
      ],
      "execution_count": 40,
      "outputs": [
        {
          "output_type": "stream",
          "text": [
            "tensor([[[0.3740, 0.3467, 0.5561],\n",
            "         [0.9301, 0.6781, 0.0521],\n",
            "         [0.1792, 0.1913, 0.6105]]])\n",
            "torch.Size([1, 3, 3])\n"
          ],
          "name": "stdout"
        }
      ]
    },
    {
      "cell_type": "code",
      "metadata": {
        "id": "b6sa4tJ7SA8G",
        "colab": {
          "base_uri": "https://localhost:8080/"
        },
        "outputId": "12a2dbfe-fe9e-4bfe-c3e7-2fee2425c688"
      },
      "source": [
        "t = tensor.unsqueeze(dim=0)\n",
        "\n",
        "print(t)\n",
        "print(t.shape)"
      ],
      "execution_count": 43,
      "outputs": [
        {
          "output_type": "stream",
          "text": [
            "tensor([[[[0.3740, 0.3467, 0.5561],\n",
            "          [0.9301, 0.6781, 0.0521],\n",
            "          [0.1792, 0.1913, 0.6105]]]])\n",
            "torch.Size([1, 1, 3, 3])\n"
          ],
          "name": "stdout"
        }
      ]
    },
    {
      "cell_type": "markdown",
      "metadata": {
        "id": "_C_oa9JANOa6"
      },
      "source": [
        "### stack\n",
        "- 텐서간 결합"
      ]
    },
    {
      "cell_type": "code",
      "metadata": {
        "id": "f3x_XaUYNOuc",
        "colab": {
          "base_uri": "https://localhost:8080/"
        },
        "outputId": "f6c39722-0485-4fe8-84cc-83772e42d344"
      },
      "source": [
        "x = torch.FloatTensor([1, 4])\n",
        "y = torch.FloatTensor([2, 5])\n",
        "z = torch.FloatTensor([3, 6])\n",
        "\n",
        "print(torch.stack([x, y, z]))"
      ],
      "execution_count": 44,
      "outputs": [
        {
          "output_type": "stream",
          "text": [
            "tensor([[1., 4.],\n",
            "        [2., 5.],\n",
            "        [3., 6.]])\n"
          ],
          "name": "stdout"
        }
      ]
    },
    {
      "cell_type": "markdown",
      "metadata": {
        "id": "XmJscbfg35-c"
      },
      "source": [
        "### cat\n",
        "- 텐서를 결합하는 메소드(concatenate)\n",
        "\n",
        "- 넘파이의 `stack`과 유사하지만, 쌓을 dim이 존재해야함\n",
        "  - 예를 들어, 해당 차원을 늘려준 후 결합\n"
      ]
    },
    {
      "cell_type": "code",
      "metadata": {
        "id": "Mv3zlaNm37P1",
        "colab": {
          "base_uri": "https://localhost:8080/"
        },
        "outputId": "a6c59df1-53a8-443c-d7a2-364ecbafecf1"
      },
      "source": [
        "a = torch.randn(1, 1, 3, 3)\n",
        "b = torch.randn(1, 1, 3, 3)\n",
        "c = torch.cat((a, b), dim=0)\n",
        "\n",
        "print(c)\n",
        "print(c.size())"
      ],
      "execution_count": 45,
      "outputs": [
        {
          "output_type": "stream",
          "text": [
            "tensor([[[[ 1.7077,  1.0862, -2.1412],\n",
            "          [-0.6215, -0.2124,  0.7665],\n",
            "          [-1.0570, -0.8782, -1.5209]]],\n",
            "\n",
            "\n",
            "        [[[-2.1647,  0.7165,  0.0747],\n",
            "          [ 0.5930,  0.8965,  0.4952],\n",
            "          [ 0.0492,  0.5121,  0.1521]]]])\n",
            "torch.Size([2, 1, 3, 3])\n"
          ],
          "name": "stdout"
        }
      ]
    },
    {
      "cell_type": "code",
      "metadata": {
        "id": "69M5jY60S7Mi",
        "colab": {
          "base_uri": "https://localhost:8080/"
        },
        "outputId": "c6225ba0-fd45-48a8-9025-760119011e06"
      },
      "source": [
        "a = torch.randn(1, 3, 3)\n",
        "b = torch.randn(1, 3, 3)\n",
        "c = torch.cat((a, b), dim=1)\n",
        "\n",
        "print(c)\n",
        "print(c.size())"
      ],
      "execution_count": 47,
      "outputs": [
        {
          "output_type": "stream",
          "text": [
            "tensor([[[-0.8356,  0.6720, -0.1957],\n",
            "         [ 1.1145, -0.1787,  0.3099],\n",
            "         [-0.4128, -0.2975, -0.0843],\n",
            "         [ 1.7971,  0.8576, -0.5578],\n",
            "         [-1.2454,  0.3948, -0.2949],\n",
            "         [ 1.3268, -0.6726, -1.3205]]])\n",
            "torch.Size([1, 6, 3])\n"
          ],
          "name": "stdout"
        }
      ]
    },
    {
      "cell_type": "markdown",
      "metadata": {
        "id": "7gGXnOAqQTmG"
      },
      "source": [
        "### chuck\n",
        "- 텐서를 여러 개로 나눌 때 사용\n",
        "\n",
        "- 몇 개의 텐서로 나눌 것이냐"
      ]
    },
    {
      "cell_type": "code",
      "metadata": {
        "id": "pNV80VzPQZgG",
        "colab": {
          "base_uri": "https://localhost:8080/"
        },
        "outputId": "9465dbb7-937b-40df-d75e-e02bacf48836"
      },
      "source": [
        "tensor = torch.rand(3, 6)\n",
        "t1, t2, t3 = torch.chunk(tensor, 3, dim=1)\n",
        "\n",
        "print(tensor)\n",
        "print(t1)\n",
        "print(t2)\n",
        "print(t3)"
      ],
      "execution_count": 48,
      "outputs": [
        {
          "output_type": "stream",
          "text": [
            "tensor([[0.7945, 0.8135, 0.0797, 0.1829, 0.8258, 0.6379],\n",
            "        [0.0010, 0.9807, 0.3776, 0.9896, 0.5090, 0.0960],\n",
            "        [0.3398, 0.8370, 0.2383, 0.1821, 0.0870, 0.8804]])\n",
            "tensor([[0.7945, 0.8135],\n",
            "        [0.0010, 0.9807],\n",
            "        [0.3398, 0.8370]])\n",
            "tensor([[0.0797, 0.1829],\n",
            "        [0.3776, 0.9896],\n",
            "        [0.2383, 0.1821]])\n",
            "tensor([[0.8258, 0.6379],\n",
            "        [0.5090, 0.0960],\n",
            "        [0.0870, 0.8804]])\n"
          ],
          "name": "stdout"
        }
      ]
    },
    {
      "cell_type": "markdown",
      "metadata": {
        "id": "7U0Qb0jWQgm-"
      },
      "source": [
        "### split\n",
        "- `chunck`와 동일한 기능이지만 조금 다름\n",
        "\n",
        "- 하나의 텐서당 크기가 얼마이냐"
      ]
    },
    {
      "cell_type": "code",
      "metadata": {
        "id": "1V6DDnLVQqxz",
        "colab": {
          "base_uri": "https://localhost:8080/"
        },
        "outputId": "09cf7eab-37fe-4e21-cc49-dbbdd13b5bb8"
      },
      "source": [
        "tensor = torch.rand(3, 6)\n",
        "t1, t2 = torch.split(tensor, 3, dim=1)\n",
        "\n",
        "print(tensor)\n",
        "print(t1)\n",
        "print(t2)"
      ],
      "execution_count": 49,
      "outputs": [
        {
          "output_type": "stream",
          "text": [
            "tensor([[0.6405, 0.7431, 0.9199, 0.8374, 0.4202, 0.7931],\n",
            "        [0.5415, 0.0606, 0.4419, 0.6282, 0.8742, 0.8282],\n",
            "        [0.4058, 0.3412, 0.3419, 0.9016, 0.1000, 0.5604]])\n",
            "tensor([[0.6405, 0.7431, 0.9199],\n",
            "        [0.5415, 0.0606, 0.4419],\n",
            "        [0.4058, 0.3412, 0.3419]])\n",
            "tensor([[0.8374, 0.4202, 0.7931],\n",
            "        [0.6282, 0.8742, 0.8282],\n",
            "        [0.9016, 0.1000, 0.5604]])\n"
          ],
          "name": "stdout"
        }
      ]
    },
    {
      "cell_type": "markdown",
      "metadata": {
        "id": "estSwhCgvta6"
      },
      "source": [
        "### torch ↔ numpy\n",
        "- Torch Tensor(텐서)를 Numpy array(배열)로 변환 가능\n",
        "\n",
        "  - `numpy()`\n",
        "  - `from_numpy()`\n",
        "\n",
        "- (참고)\n",
        "  - Tensor가 CPU상에 있다면 Numpy 배열은 메모리 공간을 공유하므로 하나가 변하면, 다른 하나도 변함"
      ]
    },
    {
      "cell_type": "code",
      "metadata": {
        "id": "VxHI7c_yvmAT",
        "colab": {
          "base_uri": "https://localhost:8080/"
        },
        "outputId": "38693937-553f-40fa-e6ff-39684575893c"
      },
      "source": [
        "a = torch.ones(7)\n",
        "print(a)"
      ],
      "execution_count": 50,
      "outputs": [
        {
          "output_type": "stream",
          "text": [
            "tensor([1., 1., 1., 1., 1., 1., 1.])\n"
          ],
          "name": "stdout"
        }
      ]
    },
    {
      "cell_type": "code",
      "metadata": {
        "id": "whbrhokHwJ3A",
        "colab": {
          "base_uri": "https://localhost:8080/"
        },
        "outputId": "0435306c-71fd-4a3d-8c9f-2bd016124573"
      },
      "source": [
        "b = a.numpy()\n",
        "print(b)"
      ],
      "execution_count": 51,
      "outputs": [
        {
          "output_type": "stream",
          "text": [
            "[1. 1. 1. 1. 1. 1. 1.]\n"
          ],
          "name": "stdout"
        }
      ]
    },
    {
      "cell_type": "code",
      "metadata": {
        "id": "5StIhUWDwQjA",
        "colab": {
          "base_uri": "https://localhost:8080/"
        },
        "outputId": "138f7901-66ae-4286-f09a-c18750a07803"
      },
      "source": [
        "a.add_(1)\n",
        "print(a)\n",
        "print(b)"
      ],
      "execution_count": 53,
      "outputs": [
        {
          "output_type": "stream",
          "text": [
            "tensor([3., 3., 3., 3., 3., 3., 3.])\n",
            "[3. 3. 3. 3. 3. 3. 3.]\n"
          ],
          "name": "stdout"
        }
      ]
    },
    {
      "cell_type": "code",
      "metadata": {
        "id": "3RNS5-cRwTt8",
        "colab": {
          "base_uri": "https://localhost:8080/"
        },
        "outputId": "cec69d27-3c64-48aa-fe8d-bc83f0d37b96"
      },
      "source": [
        "import numpy as np\n",
        "\n",
        "a = np.ones(7)\n",
        "b = torch.from_numpy(a)\n",
        "np.add(a, 1, out=a)\n",
        "print(a)\n",
        "print(b)"
      ],
      "execution_count": 54,
      "outputs": [
        {
          "output_type": "stream",
          "text": [
            "[2. 2. 2. 2. 2. 2. 2.]\n",
            "tensor([2., 2., 2., 2., 2., 2., 2.], dtype=torch.float64)\n"
          ],
          "name": "stdout"
        }
      ]
    },
    {
      "cell_type": "markdown",
      "metadata": {
        "id": "v-ZaxSvLxEej"
      },
      "source": [
        "## CUDA Tensors\n",
        "- `.to` 메소드를 사용하여 텐서를 어떠한 장치로도 옮길 수 있음\n",
        "  - 예) cpu, gpu"
      ]
    },
    {
      "cell_type": "code",
      "metadata": {
        "id": "xkaQznCRxpUj"
      },
      "source": [
        "import torch"
      ],
      "execution_count": 55,
      "outputs": []
    },
    {
      "cell_type": "code",
      "metadata": {
        "id": "SCnC0x2Rxpbk",
        "colab": {
          "base_uri": "https://localhost:8080/"
        },
        "outputId": "5b32e586-f041-4351-d151-48bd02a6b11d"
      },
      "source": [
        "x = torch.randn(1)\n",
        "print(x)\n",
        "print(x.item())\n",
        "print(x.dtype)"
      ],
      "execution_count": 57,
      "outputs": [
        {
          "output_type": "stream",
          "text": [
            "tensor([-2.0571])\n",
            "-2.0571482181549072\n",
            "torch.float32\n"
          ],
          "name": "stdout"
        }
      ]
    },
    {
      "cell_type": "code",
      "metadata": {
        "id": "GcSsFLkDw-nI",
        "colab": {
          "base_uri": "https://localhost:8080/"
        },
        "outputId": "7405d218-98fc-4d00-e279-8b9431afc6bb"
      },
      "source": [
        "device = torch.device(\"cuda\" if torch.cuda.is_available() else \"cpu\")\n",
        "\n",
        "y = torch.ones_like(x, device=device)\n",
        "x = x.to(device)\n",
        "z = x + y\n",
        "print(device)\n",
        "print(z)\n",
        "print(z.to(\"cpu\", torch.double))"
      ],
      "execution_count": 59,
      "outputs": [
        {
          "output_type": "stream",
          "text": [
            "cuda\n",
            "tensor([-1.0571], device='cuda:0')\n",
            "tensor([-1.0571], dtype=torch.float64)\n"
          ],
          "name": "stdout"
        }
      ]
    },
    {
      "cell_type": "markdown",
      "metadata": {
        "id": "NKqiGvLWx2nk"
      },
      "source": [
        "## AUTOGRAD (자동미분)\n",
        "- autograd 패키지는 Tensor의 모든 연산에 대해 **자동 미분** 제공\n",
        "\n",
        "- 이는 코드를 어떻게 작성하여 실행하느냐에 따라 역전파가 정의된다는 뜻\n",
        "\n",
        "- backprop를 위한 미분값을 자동으로 계산"
      ]
    },
    {
      "cell_type": "markdown",
      "metadata": {
        "id": "0zH41l-MyMHi"
      },
      "source": [
        "### Tensor\n",
        "\n",
        "- data: tensor형태의 데이터\n",
        "\n",
        "- grad: data가 겨쳐온 layer에 대한 미분값 저장\n",
        "\n",
        "- grad_fn: 미분값을 계산한 함수에 대한 정보 저장 (어떤 함수에 대해서 backprop 했는지)\n",
        "\n",
        "- `requires_grad` 속성을 `True`로 설정하면, 해당 텐서에서 이루어지는 모든 연산들을 추적하기 시작\n",
        "\n",
        "- 계산이 완료된 후, `.backward()`를 호출하면 자동으로 `gradient`를 계산할 수 있으며, `.grad` 속성에 누적됨\n",
        "\n",
        "- 기록을 추적하는 것을 중단하게 하려면, `.detach()`를 호출하여 연산기록으로부터 분리\n",
        "\n",
        "- 기록을 추적하는 것을 방지하기 위해 코드 블럭을 `with torch.no_grad():`로 감싸면 `gradient`는 필요없지만, `requires_grad=True`로 설정되어 학습 가능한 매개변수를 갖는 모델을 평가(evaluate)할 때 유용\n",
        "\n",
        "- Autograd 구현에서 매우 중요한 클래스 : `Function` 클래스"
      ]
    },
    {
      "cell_type": "code",
      "metadata": {
        "id": "ipdk_1jfx47I"
      },
      "source": [
        "import torch"
      ],
      "execution_count": 60,
      "outputs": []
    },
    {
      "cell_type": "code",
      "metadata": {
        "id": "ljNU-r9p0Rpo",
        "colab": {
          "base_uri": "https://localhost:8080/"
        },
        "outputId": "2331ae42-71f0-4625-eae0-2053e3ff55b3"
      },
      "source": [
        "x = torch.ones(3, 3, requires_grad=True)\n",
        "print(x)"
      ],
      "execution_count": 61,
      "outputs": [
        {
          "output_type": "stream",
          "text": [
            "tensor([[1., 1., 1.],\n",
            "        [1., 1., 1.],\n",
            "        [1., 1., 1.]], requires_grad=True)\n"
          ],
          "name": "stdout"
        }
      ]
    },
    {
      "cell_type": "code",
      "metadata": {
        "id": "or6sQ4EB0UYz",
        "colab": {
          "base_uri": "https://localhost:8080/"
        },
        "outputId": "f277afe2-e6bf-40f2-ae59-62fbb8714b22"
      },
      "source": [
        "y = x + 5\n",
        "print(y)"
      ],
      "execution_count": 62,
      "outputs": [
        {
          "output_type": "stream",
          "text": [
            "tensor([[6., 6., 6.],\n",
            "        [6., 6., 6.],\n",
            "        [6., 6., 6.]], grad_fn=<AddBackward0>)\n"
          ],
          "name": "stdout"
        }
      ]
    },
    {
      "cell_type": "code",
      "metadata": {
        "id": "PuQ7xDmu0Wpj",
        "colab": {
          "base_uri": "https://localhost:8080/"
        },
        "outputId": "d31f2c53-e60b-4dee-dfd8-d05a2ba8196c"
      },
      "source": [
        "print(y.grad_fn)"
      ],
      "execution_count": 63,
      "outputs": [
        {
          "output_type": "stream",
          "text": [
            "<AddBackward0 object at 0x7f1e0ad95950>\n"
          ],
          "name": "stdout"
        }
      ]
    },
    {
      "cell_type": "code",
      "metadata": {
        "id": "6_2iM-Zq0ZdG",
        "colab": {
          "base_uri": "https://localhost:8080/"
        },
        "outputId": "d87f864f-8444-4f05-b773-afa07afb9252"
      },
      "source": [
        "z = y * y * 2\n",
        "out = z.mean()\n",
        "\n",
        "print(z, out)"
      ],
      "execution_count": 64,
      "outputs": [
        {
          "output_type": "stream",
          "text": [
            "tensor([[72., 72., 72.],\n",
            "        [72., 72., 72.],\n",
            "        [72., 72., 72.]], grad_fn=<MulBackward0>) tensor(72., grad_fn=<MeanBackward0>)\n"
          ],
          "name": "stdout"
        }
      ]
    },
    {
      "cell_type": "markdown",
      "metadata": {
        "id": "2aZ8SWn_0nqt"
      },
      "source": [
        "- `requires_grad_(...)`는 기존 텐서의 `requires_grad`값을 바꿔치기(`in-place`)하여 변경"
      ]
    },
    {
      "cell_type": "code",
      "metadata": {
        "id": "mHGROgrM0ebO",
        "colab": {
          "base_uri": "https://localhost:8080/"
        },
        "outputId": "0291186d-228c-4c39-853e-e5831e7b2685"
      },
      "source": [
        "a = torch.randn(3, 3)\n",
        "a = ((a * 3)/ (a - 1))\n",
        "print(a.requires_grad)\n",
        "\n",
        "a.requires_grad_(True)\n",
        "print(a.requires_grad)\n",
        "\n",
        "b = (a * a).sum()\n",
        "print(b.grad_fn)"
      ],
      "execution_count": 65,
      "outputs": [
        {
          "output_type": "stream",
          "text": [
            "False\n",
            "True\n",
            "<SumBackward0 object at 0x7f1e0ae36290>\n"
          ],
          "name": "stdout"
        }
      ]
    },
    {
      "cell_type": "markdown",
      "metadata": {
        "id": "KiEn_stZ1VgU"
      },
      "source": [
        "### 기울기(Gradient)\n",
        "- 역전파: `.backward()`를 통해 역전파 계산 가능"
      ]
    },
    {
      "cell_type": "code",
      "metadata": {
        "id": "1tdoN9p-1kn4"
      },
      "source": [
        "out.backward()"
      ],
      "execution_count": 66,
      "outputs": []
    },
    {
      "cell_type": "code",
      "metadata": {
        "id": "CixGTXbV1B9p",
        "colab": {
          "base_uri": "https://localhost:8080/"
        },
        "outputId": "fd96c4e1-0170-4b4a-da23-02b869e786a7"
      },
      "source": [
        "print(x.grad)"
      ],
      "execution_count": 67,
      "outputs": [
        {
          "output_type": "stream",
          "text": [
            "tensor([[2.6667, 2.6667, 2.6667],\n",
            "        [2.6667, 2.6667, 2.6667],\n",
            "        [2.6667, 2.6667, 2.6667]])\n"
          ],
          "name": "stdout"
        }
      ]
    },
    {
      "cell_type": "code",
      "metadata": {
        "id": "SY63Mcc-1iNI",
        "colab": {
          "base_uri": "https://localhost:8080/"
        },
        "outputId": "67803709-5367-4ec7-e0c8-c1a37323c80a"
      },
      "source": [
        "x = torch.randn(3, requires_grad=True)\n",
        "\n",
        "y = x * 2\n",
        "while y.data.norm() < 1000:\n",
        "    y = y * 2\n",
        "\n",
        "print(y)"
      ],
      "execution_count": 77,
      "outputs": [
        {
          "output_type": "stream",
          "text": [
            "tensor([ 180.4535,   43.9761, -985.7208], grad_fn=<MulBackward0>)\n"
          ],
          "name": "stdout"
        }
      ]
    },
    {
      "cell_type": "code",
      "metadata": {
        "id": "YPaVAbIT3gx_",
        "colab": {
          "base_uri": "https://localhost:8080/"
        },
        "outputId": "023cd0e9-8d6c-4da7-cb97-9920b7dfbb86"
      },
      "source": [
        "v = torch.tensor([0.1, 1.0, 0.0001], dtype=torch.float)\n",
        "y.backward(v)\n",
        "\n",
        "print(x.grad)"
      ],
      "execution_count": 78,
      "outputs": [
        {
          "output_type": "stream",
          "text": [
            "tensor([2.0480e+02, 2.0480e+03, 2.0480e-01])\n"
          ],
          "name": "stdout"
        }
      ]
    },
    {
      "cell_type": "markdown",
      "metadata": {
        "id": "0b9amArPXtcX"
      },
      "source": [
        "- `with torch.no_grad()`를 사용하여 gradient의 업데이트를 하지 않음"
      ]
    },
    {
      "cell_type": "code",
      "metadata": {
        "id": "weeIe5_Z3jVe",
        "colab": {
          "base_uri": "https://localhost:8080/"
        },
        "outputId": "030704da-df8f-4937-daea-c7a143d817fc"
      },
      "source": [
        "print(x.requires_grad)\n",
        "print((x ** 2).requires_grad)\n",
        "\n",
        "with torch.no_grad():\n",
        "    print((x ** 2).requires_grad)"
      ],
      "execution_count": 79,
      "outputs": [
        {
          "output_type": "stream",
          "text": [
            "True\n",
            "True\n",
            "False\n"
          ],
          "name": "stdout"
        }
      ]
    },
    {
      "cell_type": "markdown",
      "metadata": {
        "id": "bLcTLVRSmCdH"
      },
      "source": [
        "- `detach()`: 내용물(content)은 같지만 require_grad가 다른 새로운 Tensor를 가져올 때"
      ]
    },
    {
      "cell_type": "code",
      "metadata": {
        "id": "ALcth7Ew3l7H",
        "colab": {
          "base_uri": "https://localhost:8080/"
        },
        "outputId": "b4e038e1-56d8-43e2-d0b3-c0c06a369b18"
      },
      "source": [
        "print(x.requires_grad)\n",
        "y = x.detach()\n",
        "print(y.requires_grad)\n",
        "print(x.eq(y).all())"
      ],
      "execution_count": 80,
      "outputs": [
        {
          "output_type": "stream",
          "text": [
            "True\n",
            "False\n",
            "tensor(True)\n"
          ],
          "name": "stdout"
        }
      ]
    },
    {
      "cell_type": "markdown",
      "metadata": {
        "id": "NSarysrqBh9D"
      },
      "source": [
        "### 자동 미분 흐름 다시 보기(1)\n",
        "- 계산 흐름  \n",
        "  $a \\rightarrow b  \\rightarrow c  \\rightarrow out $\n",
        "\n",
        "<br>\n",
        "\n",
        "## $\\quad \\frac{\\partial out}{\\partial a} = ?$\n",
        "- `backward()`를 통해  \n",
        "  $a \\leftarrow b  \\leftarrow c  \\leftarrow out $을 계산하면  \n",
        "    $\\frac{\\partial out}{\\partial a}$값이 `a.grad`에 채워짐\n"
      ]
    },
    {
      "cell_type": "code",
      "metadata": {
        "id": "NUAc1etP3oBc"
      },
      "source": [
        "import torch"
      ],
      "execution_count": 81,
      "outputs": []
    },
    {
      "cell_type": "code",
      "metadata": {
        "id": "tCW7dq9uB89T",
        "colab": {
          "base_uri": "https://localhost:8080/"
        },
        "outputId": "4e531077-7890-438a-c5bf-eb7fcc9d06a2"
      },
      "source": [
        "a = torch.ones(2, 2)\n",
        "print(a)"
      ],
      "execution_count": 82,
      "outputs": [
        {
          "output_type": "stream",
          "text": [
            "tensor([[1., 1.],\n",
            "        [1., 1.]])\n"
          ],
          "name": "stdout"
        }
      ]
    },
    {
      "cell_type": "code",
      "metadata": {
        "id": "-AyyGy49FLz9",
        "colab": {
          "base_uri": "https://localhost:8080/"
        },
        "outputId": "d440e9d0-2d24-42cb-f3bd-24611fc211fd"
      },
      "source": [
        "a = torch.ones(2, 2, requires_grad=True)\n",
        "print(a)"
      ],
      "execution_count": 83,
      "outputs": [
        {
          "output_type": "stream",
          "text": [
            "tensor([[1., 1.],\n",
            "        [1., 1.]], requires_grad=True)\n"
          ],
          "name": "stdout"
        }
      ]
    },
    {
      "cell_type": "code",
      "metadata": {
        "id": "SmmJa-hvFPGH",
        "colab": {
          "base_uri": "https://localhost:8080/"
        },
        "outputId": "049cb9bb-da1c-4b68-ebc4-4cecb4b557a8"
      },
      "source": [
        "print(\"a.data:\", a)\n",
        "print(\"a.grad:\", a.grad)\n",
        "print(\"a.grad_fn\", a.grad_fn)"
      ],
      "execution_count": 84,
      "outputs": [
        {
          "output_type": "stream",
          "text": [
            "a.data: tensor([[1., 1.],\n",
            "        [1., 1.]], requires_grad=True)\n",
            "a.grad: None\n",
            "a.grad_fn None\n"
          ],
          "name": "stdout"
        }
      ]
    },
    {
      "cell_type": "markdown",
      "metadata": {
        "id": "BCwhTsiHGCmG"
      },
      "source": [
        "- $b = a + 2$"
      ]
    },
    {
      "cell_type": "code",
      "metadata": {
        "id": "iUPt042iF9V1",
        "colab": {
          "base_uri": "https://localhost:8080/"
        },
        "outputId": "6a903124-7693-4b04-ab47-b8525177e90c"
      },
      "source": [
        "b = a + 2\n",
        "print(b)"
      ],
      "execution_count": 85,
      "outputs": [
        {
          "output_type": "stream",
          "text": [
            "tensor([[3., 3.],\n",
            "        [3., 3.]], grad_fn=<AddBackward0>)\n"
          ],
          "name": "stdout"
        }
      ]
    },
    {
      "cell_type": "markdown",
      "metadata": {
        "id": "6cw2zoq9GHLF"
      },
      "source": [
        "- $c = b^2$ "
      ]
    },
    {
      "cell_type": "code",
      "metadata": {
        "id": "FRDS6gP0GFZG",
        "colab": {
          "base_uri": "https://localhost:8080/"
        },
        "outputId": "e6788a7f-84c8-4629-8c9e-bf514958376b"
      },
      "source": [
        "c = b**2\n",
        "print(c)"
      ],
      "execution_count": 86,
      "outputs": [
        {
          "output_type": "stream",
          "text": [
            "tensor([[9., 9.],\n",
            "        [9., 9.]], grad_fn=<PowBackward0>)\n"
          ],
          "name": "stdout"
        }
      ]
    },
    {
      "cell_type": "code",
      "metadata": {
        "id": "VynoiUywGSwh",
        "colab": {
          "base_uri": "https://localhost:8080/"
        },
        "outputId": "91b6a89a-9416-4f50-e11a-dfb78848de21"
      },
      "source": [
        "out = c.sum()\n",
        "print(out)"
      ],
      "execution_count": 87,
      "outputs": [
        {
          "output_type": "stream",
          "text": [
            "tensor(36., grad_fn=<SumBackward0>)\n"
          ],
          "name": "stdout"
        }
      ]
    },
    {
      "cell_type": "code",
      "metadata": {
        "id": "v3ryJon9GeMn",
        "colab": {
          "base_uri": "https://localhost:8080/"
        },
        "outputId": "8f104f0f-c481-42bd-a1a6-4dad28c554b9"
      },
      "source": [
        "print(out)\n",
        "out.backward()"
      ],
      "execution_count": 88,
      "outputs": [
        {
          "output_type": "stream",
          "text": [
            "tensor(36., grad_fn=<SumBackward0>)\n"
          ],
          "name": "stdout"
        }
      ]
    },
    {
      "cell_type": "markdown",
      "metadata": {
        "id": "f0aoNsPDHsoG"
      },
      "source": [
        "- a의 `grad_fn`이 None인 이유  \n",
        "  직접적으로 계산한 부분이 없었기 때문"
      ]
    },
    {
      "cell_type": "code",
      "metadata": {
        "id": "bccI4vIWGgqj",
        "colab": {
          "base_uri": "https://localhost:8080/"
        },
        "outputId": "7d4858f9-1176-418c-e252-b1d06a936d2e"
      },
      "source": [
        "print(\"a.data:\", a.data)\n",
        "print(\"a.grad:\", a.grad)\n",
        "print(\"a.grad_fn\", a.grad_fn)"
      ],
      "execution_count": 89,
      "outputs": [
        {
          "output_type": "stream",
          "text": [
            "a.data: tensor([[1., 1.],\n",
            "        [1., 1.]], requires_grad=True)\n",
            "a.grad: tensor([[6., 6.],\n",
            "        [6., 6.]])\n",
            "a.grad_fn None\n"
          ],
          "name": "stdout"
        }
      ]
    },
    {
      "cell_type": "code",
      "metadata": {
        "id": "oka1mkadHq-N",
        "colab": {
          "base_uri": "https://localhost:8080/"
        },
        "outputId": "c0ce12f0-1cc5-4e5c-c3c5-da7b8adfd4ad"
      },
      "source": [
        "print(\"b.data:\", b.data)\n",
        "print(\"b.grad:\", b.grad)\n",
        "print(\"b.grad_fn\", b.grad_fn)"
      ],
      "execution_count": 90,
      "outputs": [
        {
          "output_type": "stream",
          "text": [
            "a.data: tensor([[3., 3.],\n",
            "        [3., 3.]])\n",
            "a.grad: None\n",
            "a.grad_fn <AddBackward0 object at 0x7f1e0ad7a2d0>\n"
          ],
          "name": "stdout"
        },
        {
          "output_type": "stream",
          "text": [
            "/usr/local/lib/python3.7/dist-packages/ipykernel_launcher.py:2: UserWarning: The .grad attribute of a Tensor that is not a leaf Tensor is being accessed. Its .grad attribute won't be populated during autograd.backward(). If you indeed want the gradient for a non-leaf Tensor, use .retain_grad() on the non-leaf Tensor. If you access the non-leaf Tensor by mistake, make sure you access the leaf Tensor instead. See github.com/pytorch/pytorch/pull/30531 for more information.\n",
            "  \n"
          ],
          "name": "stderr"
        }
      ]
    },
    {
      "cell_type": "code",
      "metadata": {
        "id": "ZiYNajdLccUF",
        "colab": {
          "base_uri": "https://localhost:8080/"
        },
        "outputId": "67d3932e-346f-456f-b2de-ead665075806"
      },
      "source": [
        "print(\"c.data:\", c.data)\n",
        "print(\"c.grad:\", c.grad)\n",
        "print(\"c.grad_fn\", c.grad_fn)"
      ],
      "execution_count": 92,
      "outputs": [
        {
          "output_type": "stream",
          "text": [
            "c.data: tensor([[9., 9.],\n",
            "        [9., 9.]])\n",
            "c.grad: None\n",
            "c.grad_fn <PowBackward0 object at 0x7f1e0ad5b990>\n"
          ],
          "name": "stdout"
        },
        {
          "output_type": "stream",
          "text": [
            "/usr/local/lib/python3.7/dist-packages/ipykernel_launcher.py:2: UserWarning: The .grad attribute of a Tensor that is not a leaf Tensor is being accessed. Its .grad attribute won't be populated during autograd.backward(). If you indeed want the gradient for a non-leaf Tensor, use .retain_grad() on the non-leaf Tensor. If you access the non-leaf Tensor by mistake, make sure you access the leaf Tensor instead. See github.com/pytorch/pytorch/pull/30531 for more information.\n",
            "  \n"
          ],
          "name": "stderr"
        }
      ]
    },
    {
      "cell_type": "code",
      "metadata": {
        "id": "BcLoMYite0vU",
        "colab": {
          "base_uri": "https://localhost:8080/"
        },
        "outputId": "dab8194f-4c4a-4164-936b-30e9549b11f7"
      },
      "source": [
        "print(\"out.data:\", out.data)\n",
        "print(\"out.grad:\", out.grad)\n",
        "print(\"out.grad_fn\", out.grad_fn)"
      ],
      "execution_count": 93,
      "outputs": [
        {
          "output_type": "stream",
          "text": [
            "out.data: tensor(36.)\n",
            "out.grad: None\n",
            "out.grad_fn <SumBackward0 object at 0x7f1e0ad99210>\n"
          ],
          "name": "stdout"
        },
        {
          "output_type": "stream",
          "text": [
            "/usr/local/lib/python3.7/dist-packages/ipykernel_launcher.py:2: UserWarning: The .grad attribute of a Tensor that is not a leaf Tensor is being accessed. Its .grad attribute won't be populated during autograd.backward(). If you indeed want the gradient for a non-leaf Tensor, use .retain_grad() on the non-leaf Tensor. If you access the non-leaf Tensor by mistake, make sure you access the leaf Tensor instead. See github.com/pytorch/pytorch/pull/30531 for more information.\n",
            "  \n"
          ],
          "name": "stderr"
        }
      ]
    },
    {
      "cell_type": "markdown",
      "metadata": {
        "id": "qZXgwviHfovj"
      },
      "source": [
        "### 자동 미분 흐름 다시 보기(2)\n",
        "- `grad`값을 넣어서 `backward`\n",
        "\n",
        "- 아래의 코드에서 `.grad`값이 None은 gradient값이 필요하지 않기 때문"
      ]
    },
    {
      "cell_type": "code",
      "metadata": {
        "id": "bB6DCYXRfcI_",
        "colab": {
          "base_uri": "https://localhost:8080/"
        },
        "outputId": "a7cb6d8f-6f17-4df4-ae55-1d5c6fb44a7b"
      },
      "source": [
        "x = torch.ones(3, requires_grad=True)\n",
        "y = (x ** 2)\n",
        "z = y ** 2 + x\n",
        "out = z.sum()\n",
        "print(out)"
      ],
      "execution_count": 95,
      "outputs": [
        {
          "output_type": "stream",
          "text": [
            "tensor(6., grad_fn=<SumBackward0>)\n"
          ],
          "name": "stdout"
        }
      ]
    },
    {
      "cell_type": "code",
      "metadata": {
        "id": "AVo-glm8fvFv"
      },
      "source": [
        "grad = torch.Tensor([0.1, 1, 100])\n",
        "z.backward(grad)"
      ],
      "execution_count": 96,
      "outputs": []
    },
    {
      "cell_type": "code",
      "metadata": {
        "id": "tdBklrepf2qq",
        "colab": {
          "base_uri": "https://localhost:8080/"
        },
        "outputId": "7415449e-9e66-4bdf-929d-64b80ecf3f5c"
      },
      "source": [
        "print(\"x.data:\", x.data)\n",
        "print(\"x.grad:\", x.grad)\n",
        "print(\"x.grad_fn\", x.grad_fn)"
      ],
      "execution_count": 98,
      "outputs": [
        {
          "output_type": "stream",
          "text": [
            "x.data: tensor([1., 1., 1.])\n",
            "x.grad: tensor([  0.5000,   5.0000, 500.0000])\n",
            "x.grad_fn None\n"
          ],
          "name": "stdout"
        }
      ]
    },
    {
      "cell_type": "code",
      "metadata": {
        "id": "HQvUGlfRf7jU",
        "colab": {
          "base_uri": "https://localhost:8080/"
        },
        "outputId": "9865d924-32d6-47f9-e055-b2a46637150e"
      },
      "source": [
        "print(\"y.data:\", y.data)\n",
        "print(\"y.grad:\", y.grad)\n",
        "print(\"y.grad_fn\", y.grad_fn)"
      ],
      "execution_count": 99,
      "outputs": [
        {
          "output_type": "stream",
          "text": [
            "y.data: tensor([1., 1., 1.])\n",
            "y.grad: None\n",
            "y.grad_fn <PowBackward0 object at 0x7f1e0ae87590>\n"
          ],
          "name": "stdout"
        },
        {
          "output_type": "stream",
          "text": [
            "/usr/local/lib/python3.7/dist-packages/ipykernel_launcher.py:2: UserWarning: The .grad attribute of a Tensor that is not a leaf Tensor is being accessed. Its .grad attribute won't be populated during autograd.backward(). If you indeed want the gradient for a non-leaf Tensor, use .retain_grad() on the non-leaf Tensor. If you access the non-leaf Tensor by mistake, make sure you access the leaf Tensor instead. See github.com/pytorch/pytorch/pull/30531 for more information.\n",
            "  \n"
          ],
          "name": "stderr"
        }
      ]
    },
    {
      "cell_type": "code",
      "metadata": {
        "id": "h7TFHdMfgxvW",
        "colab": {
          "base_uri": "https://localhost:8080/"
        },
        "outputId": "6ce76d18-1361-4878-addf-460b9064c892"
      },
      "source": [
        "print(\"z.data:\", z.data)\n",
        "print(\"z.grad:\", z.grad)\n",
        "print(\"z.grad_fn\", z.grad_fn)"
      ],
      "execution_count": 100,
      "outputs": [
        {
          "output_type": "stream",
          "text": [
            "z.data: tensor([2., 2., 2.])\n",
            "z.grad: None\n",
            "z.grad_fn <AddBackward0 object at 0x7f1e0ae37f10>\n"
          ],
          "name": "stdout"
        },
        {
          "output_type": "stream",
          "text": [
            "/usr/local/lib/python3.7/dist-packages/ipykernel_launcher.py:2: UserWarning: The .grad attribute of a Tensor that is not a leaf Tensor is being accessed. Its .grad attribute won't be populated during autograd.backward(). If you indeed want the gradient for a non-leaf Tensor, use .retain_grad() on the non-leaf Tensor. If you access the non-leaf Tensor by mistake, make sure you access the leaf Tensor instead. See github.com/pytorch/pytorch/pull/30531 for more information.\n",
            "  \n"
          ],
          "name": "stderr"
        }
      ]
    },
    {
      "cell_type": "markdown",
      "metadata": {
        "id": "DKv-osmNmWiA"
      },
      "source": [
        "## nn & nn.functional\n",
        "\n",
        "- 두 패키지가 같은 기능이지만 방식이 조금 다름\n",
        "\n",
        "- 위의 `autograd` 관련 작업들을 두 패키지를 통해 진행할 수 있음\n",
        "\n",
        "- 텐서를 직접 다룰 때 `requires_grad`와 같은 방식으로 진행할 수 있음\n",
        "\n",
        "- 결론적으로, `torch.nn`은 attribute를 활용해 state를 저장하고 활용하고,  \n",
        "  `torch.nn.functional`로 구현한 함수의 경우에는 인스턴스화 시킬 필요 없이 사용이 가능\n",
        " \n"
      ]
    },
    {
      "cell_type": "markdown",
      "metadata": {
        "id": "jk8fkKq3nWP1"
      },
      "source": [
        "### nn 패키지\n",
        "\n",
        "- 주로 가중치(weights), 편향(bias)값들이 내부에서 자동으로 생성되는 레이어들을 사용할 때  \n",
        "  - 따라서, `weight`값들을 직접 선언 안함\n",
        "\n",
        "- 예시\n",
        "  - Containers\n",
        "\n",
        "  - Convolution Layers\n",
        "\n",
        "  - Pooling layers\n",
        "\n",
        "  - Padding Layers\n",
        "\n",
        "  - Non-linear Activations (weighted sum, nonlinearity)\n",
        "\n",
        "  - Non-linear Activations (other)\n",
        "\n",
        "  - Normalization Layers\n",
        "\n",
        "  - Recurrent Layers\n",
        "\n",
        "  - Transformer Layers\n",
        "\n",
        "  - Linear Layers\n",
        "\n",
        "  - Dropout Layers\n",
        "\n",
        "  - Sparse Layers\n",
        "\n",
        "  - Distance Functions\n",
        "\n",
        "  - Loss Functions\n",
        "\n",
        "  - ..\n",
        "- https://pytorch.org/docs/stable/nn.html\n",
        "\n"
      ]
    },
    {
      "cell_type": "code",
      "metadata": {
        "id": "8tEtWHAsmZMy"
      },
      "source": [
        "import torch\n",
        "import torch.nn as nn"
      ],
      "execution_count": 1,
      "outputs": []
    },
    {
      "cell_type": "markdown",
      "metadata": {
        "id": "NcjCbeEQqPSI"
      },
      "source": [
        "- Convolution Layer 예시 (1)\n"
      ]
    },
    {
      "cell_type": "code",
      "metadata": {
        "id": "NQ7Y0tCOpkhM",
        "colab": {
          "base_uri": "https://localhost:8080/"
        },
        "outputId": "edbe361f-a7fb-4deb-c8cf-744707f736f7"
      },
      "source": [
        "m = nn.Conv2d(16, 33, 3, stride=2)\n",
        "\n",
        "m = nn.Conv2d(16, 33, (3, 5), stride=(2, 1), padding=(4, 2))\n",
        "\n",
        "m = nn.Conv2d(16, 33, (3, 5), stride=(2, 1), padding=(4, 2), dilation=(3, 1))\n",
        "\n",
        "input = torch.randn(20, 16, 50, 100)\n",
        "print(input)\n",
        "output = m(input)"
      ],
      "execution_count": 6,
      "outputs": [
        {
          "output_type": "stream",
          "text": [
            "tensor([[[[-2.5792e+00,  1.1864e+00,  1.9222e-01,  ...,  4.5384e-01,\n",
            "            1.2663e+00, -3.1979e-01],\n",
            "          [-3.4044e-01,  3.5278e-01, -1.0372e+00,  ..., -1.8943e-01,\n",
            "           -7.0642e-01, -6.3411e-01],\n",
            "          [ 1.0131e+00, -5.7299e-02, -3.4606e-01,  ...,  2.4088e+00,\n",
            "            2.0680e+00,  3.6517e-01],\n",
            "          ...,\n",
            "          [ 4.3333e-01,  1.0864e+00, -1.5621e-01,  ..., -7.9674e-01,\n",
            "            9.0683e-01,  2.0406e+00],\n",
            "          [ 1.2042e+00,  7.3018e-01,  1.4985e+00,  ...,  3.8786e-01,\n",
            "           -2.1864e-01,  1.1618e-02],\n",
            "          [ 1.2072e+00, -3.0799e-02,  3.5579e-01,  ...,  3.5678e-01,\n",
            "            1.3244e-01,  1.9658e-01]],\n",
            "\n",
            "         [[ 5.2629e-01, -8.1660e-01,  8.7501e-02,  ...,  9.1072e-01,\n",
            "            3.2334e-01, -1.5104e+00],\n",
            "          [-1.5223e-01, -7.6872e-01, -1.0974e+00,  ...,  1.2973e-01,\n",
            "            1.2782e+00,  1.2091e+00],\n",
            "          [-1.0962e-01, -1.2023e+00,  6.6030e-01,  ..., -1.1895e-01,\n",
            "            3.9077e-01, -2.6438e-01],\n",
            "          ...,\n",
            "          [ 7.2170e-01,  1.8426e+00, -1.1690e-01,  ..., -4.6572e-01,\n",
            "            1.8787e+00, -3.9737e-01],\n",
            "          [-4.7551e-01,  1.6316e-01, -1.7654e+00,  ..., -1.7571e-01,\n",
            "           -1.0700e+00, -4.0530e-01],\n",
            "          [-2.8396e-02, -1.1468e+00,  7.6667e-01,  ...,  1.0264e+00,\n",
            "           -8.2997e-01,  2.3782e-01]],\n",
            "\n",
            "         [[-5.3388e-01,  1.1675e+00,  1.8468e-01,  ...,  1.1638e+00,\n",
            "            1.5239e-02, -1.2731e+00],\n",
            "          [-8.8227e-01,  1.3102e+00,  4.6434e-02,  ...,  6.4426e-01,\n",
            "            2.2845e-01, -2.0733e-01],\n",
            "          [-1.0787e+00,  1.0740e+00, -6.7911e-01,  ..., -5.5525e-01,\n",
            "            3.0741e+00,  1.5410e+00],\n",
            "          ...,\n",
            "          [ 1.0355e-01,  1.9960e-01,  6.6236e-02,  ..., -1.9932e-01,\n",
            "           -1.9994e-01,  6.8736e-01],\n",
            "          [ 7.2270e-01, -2.6904e-01,  8.8577e-01,  ...,  5.9927e-01,\n",
            "           -2.3909e-01, -7.9273e-01],\n",
            "          [ 1.5664e+00, -3.9542e-02, -1.0570e+00,  ...,  5.2995e-01,\n",
            "            9.5107e-02,  1.4040e+00]],\n",
            "\n",
            "         ...,\n",
            "\n",
            "         [[ 1.4656e-01, -7.5885e-01,  6.2643e-01,  ...,  9.1646e-01,\n",
            "           -4.1417e-01, -6.0301e-01],\n",
            "          [-1.4862e+00,  1.4911e-01, -5.1186e-01,  ...,  8.6972e-01,\n",
            "            2.0718e-01, -4.7706e-01],\n",
            "          [-3.9816e-01, -3.5075e-01,  2.4040e+00,  ...,  5.6136e-01,\n",
            "           -3.2896e-01,  8.7707e-01],\n",
            "          ...,\n",
            "          [ 2.0185e-01,  1.4856e-01, -8.5299e-01,  ..., -1.3716e+00,\n",
            "            5.6718e-01,  6.8698e-01],\n",
            "          [ 1.0482e+00, -1.1903e+00, -1.0039e+00,  ...,  1.4774e+00,\n",
            "            8.2192e-02,  4.1721e-01],\n",
            "          [-5.4771e-01,  1.7292e-01,  2.1722e+00,  ..., -3.3675e-01,\n",
            "            1.3545e+00, -3.4352e-02]],\n",
            "\n",
            "         [[ 3.3756e-01,  1.5944e+00, -1.3844e+00,  ..., -1.2986e+00,\n",
            "           -2.4620e-01, -1.0350e+00],\n",
            "          [-1.2412e+00,  1.5436e+00,  9.6530e-02,  ...,  6.8006e-01,\n",
            "           -5.4743e-01, -1.9810e-02],\n",
            "          [ 1.3971e+00, -2.9985e-01,  1.1404e+00,  ..., -1.8499e+00,\n",
            "            4.8289e-01,  8.9435e-01],\n",
            "          ...,\n",
            "          [ 2.7404e-01, -7.8019e-01,  1.7771e-01,  ...,  2.4778e-01,\n",
            "            4.1872e-01, -2.8668e-01],\n",
            "          [-5.5220e-02,  1.1091e+00,  1.4135e+00,  ..., -1.6776e+00,\n",
            "            4.8237e-01,  4.4736e-01],\n",
            "          [ 1.5356e+00, -1.0260e+00,  9.0297e-01,  ...,  6.5524e-01,\n",
            "           -1.9773e+00, -7.1954e-01]],\n",
            "\n",
            "         [[-3.9478e-01, -5.9748e-01,  1.3881e-01,  ...,  8.2061e-01,\n",
            "           -7.5535e-01, -1.8861e-01],\n",
            "          [ 1.3445e+00,  7.1587e-01,  3.1075e-01,  ..., -1.2736e+00,\n",
            "           -1.4704e+00,  2.7212e-01],\n",
            "          [ 1.4946e-01,  1.1174e+00, -4.3053e-02,  ...,  8.8639e-01,\n",
            "           -7.2814e-01,  7.3489e-01],\n",
            "          ...,\n",
            "          [ 2.1310e+00, -2.9360e-01,  1.3265e-01,  ..., -9.5382e-01,\n",
            "           -1.0006e-02, -2.0816e-01],\n",
            "          [-8.8210e-01,  7.4478e-02,  1.5691e-01,  ..., -6.7251e-01,\n",
            "           -2.2186e-01, -7.2136e-01],\n",
            "          [-5.6920e-01,  3.9142e-01, -9.7022e-01,  ...,  8.3860e-01,\n",
            "            2.6470e-01, -9.8791e-01]]],\n",
            "\n",
            "\n",
            "        [[[ 3.1603e-01, -2.4225e-01,  3.6613e-01,  ...,  1.5418e-01,\n",
            "           -6.7867e-01,  1.5815e-01],\n",
            "          [ 9.0051e-01,  9.7759e-01,  1.5675e+00,  ...,  6.1929e-01,\n",
            "            1.4109e+00, -1.8418e+00],\n",
            "          [-6.2322e-01,  1.2297e+00,  4.9293e-01,  ..., -2.1020e+00,\n",
            "            5.0540e-01,  1.4527e-01],\n",
            "          ...,\n",
            "          [-5.5604e-01,  3.8356e-01,  1.6519e-02,  ..., -7.0014e-01,\n",
            "            2.0888e+00,  2.0713e+00],\n",
            "          [-5.3749e-01,  1.4696e-01, -5.9995e-01,  ..., -3.7523e-01,\n",
            "            1.8163e+00, -6.7246e-01],\n",
            "          [-5.4755e-01, -1.6811e+00, -1.7845e-01,  ..., -1.3938e+00,\n",
            "           -1.1114e+00,  4.3952e-02]],\n",
            "\n",
            "         [[ 1.8079e-01, -4.5320e-01, -1.4857e+00,  ..., -1.0890e+00,\n",
            "           -1.2759e+00, -9.8895e-01],\n",
            "          [-7.6811e-01,  6.2465e-01,  2.8127e-01,  ...,  5.7893e-02,\n",
            "            1.7882e+00,  4.1037e-01],\n",
            "          [-7.4329e-01,  8.4677e-01,  7.7403e-01,  ...,  5.0660e-01,\n",
            "            8.0223e-01, -2.2601e-02],\n",
            "          ...,\n",
            "          [-8.7094e-02, -6.0796e-01,  1.1132e+00,  ...,  2.7864e-02,\n",
            "           -1.0364e+00,  5.9504e-01],\n",
            "          [-3.3009e-01,  1.9073e+00,  3.3758e-01,  ...,  1.2887e+00,\n",
            "            5.0718e-01, -6.3539e-01],\n",
            "          [-1.4226e-01,  3.1640e-01, -5.1514e-01,  ..., -1.6644e+00,\n",
            "            5.4363e-01,  1.2334e+00]],\n",
            "\n",
            "         [[-2.3610e-02,  3.9057e-01,  1.8990e+00,  ...,  1.3774e-01,\n",
            "            2.0480e-01,  9.8268e-02],\n",
            "          [ 1.1491e-01, -1.4032e+00,  6.3603e-02,  ..., -5.3591e-01,\n",
            "            9.0893e-02,  1.2350e+00],\n",
            "          [-3.3016e-02, -7.9210e-01,  9.1205e-01,  ...,  6.2211e-02,\n",
            "           -1.3300e+00, -3.2807e-01],\n",
            "          ...,\n",
            "          [ 2.7539e-01, -1.2111e+00,  9.6251e-01,  ...,  5.5807e-01,\n",
            "            3.4466e-01, -2.0827e+00],\n",
            "          [ 3.0075e-01, -1.6553e-01, -5.2782e-01,  ...,  1.5523e+00,\n",
            "           -7.8825e-01, -4.1134e-01],\n",
            "          [-2.5799e+00, -6.2929e-01, -1.0689e+00,  ...,  3.3794e-01,\n",
            "            6.9434e-01, -7.0162e-01]],\n",
            "\n",
            "         ...,\n",
            "\n",
            "         [[-9.4365e-01, -7.6224e-01,  2.9008e-01,  ..., -2.5514e-01,\n",
            "            9.0354e-01, -7.8688e-01],\n",
            "          [ 7.8184e-01, -1.5780e+00, -6.9429e-01,  ..., -8.9894e-01,\n",
            "            2.9690e-01,  1.1234e+00],\n",
            "          [ 1.3419e+00,  4.5997e-01,  1.3065e+00,  ..., -2.1072e-01,\n",
            "            6.7740e-02, -1.1164e+00],\n",
            "          ...,\n",
            "          [-1.5016e+00,  4.9319e-01,  5.4470e-01,  ..., -9.6790e-01,\n",
            "           -2.4445e-01, -1.7422e+00],\n",
            "          [ 3.6574e-01, -7.4554e-01,  1.2308e+00,  ..., -1.7871e-01,\n",
            "            4.5397e-01, -9.8090e-01],\n",
            "          [-1.2560e+00,  7.7072e-01, -5.6747e-01,  ..., -1.9053e-02,\n",
            "            8.8113e-01, -4.0723e-01]],\n",
            "\n",
            "         [[ 3.0055e-02,  9.3613e-01,  6.9885e-01,  ...,  7.6488e-02,\n",
            "           -1.3044e+00, -1.1596e+00],\n",
            "          [ 1.0948e+00,  7.3194e-01,  4.9651e-01,  ..., -4.9473e-01,\n",
            "           -9.5018e-01,  4.3955e-01],\n",
            "          [ 6.5488e-01, -2.3742e-01,  6.5520e-01,  ..., -8.4517e-01,\n",
            "           -1.1690e-01,  2.4688e-01],\n",
            "          ...,\n",
            "          [-6.5426e-01,  2.3478e-01, -3.8385e-01,  ...,  9.9694e-01,\n",
            "           -1.8354e+00,  1.4622e+00],\n",
            "          [ 4.5302e-01,  8.4012e-01,  8.3477e-02,  ..., -1.8258e-01,\n",
            "           -1.3322e+00, -1.5249e+00],\n",
            "          [ 1.4176e+00, -1.5661e+00, -9.1778e-02,  ..., -4.1122e-01,\n",
            "           -1.0099e+00, -3.3753e-01]],\n",
            "\n",
            "         [[-4.4721e-01, -3.1232e-01, -4.4401e-01,  ...,  2.4248e+00,\n",
            "           -6.3827e-01, -7.7073e-01],\n",
            "          [-9.3837e-01, -2.9298e-01, -5.4593e-01,  ..., -1.5056e+00,\n",
            "            1.2021e-01, -1.1629e+00],\n",
            "          [-6.1331e-01, -2.3669e-02,  1.1215e+00,  ...,  1.7861e-01,\n",
            "            2.9788e-01, -9.6758e-02],\n",
            "          ...,\n",
            "          [-1.0462e+00, -8.1709e-01,  2.0955e+00,  ..., -4.4296e-01,\n",
            "            6.2196e-01,  1.1455e+00],\n",
            "          [-1.4329e+00,  4.3172e-01,  1.0963e+00,  ..., -4.9673e-01,\n",
            "            4.9454e-01,  1.3080e+00],\n",
            "          [ 2.6268e+00, -6.7102e-01, -1.9125e-01,  ...,  2.2262e+00,\n",
            "            1.5432e+00, -2.0472e-01]]],\n",
            "\n",
            "\n",
            "        [[[-9.3049e-02,  7.9034e-01,  9.2672e-02,  ...,  7.4425e-01,\n",
            "           -3.9656e-02, -1.8621e+00],\n",
            "          [ 1.6556e+00, -8.7996e-01, -5.3722e-01,  ..., -1.7545e+00,\n",
            "           -6.1204e-01,  6.9441e-01],\n",
            "          [ 9.1089e-01,  6.6079e-01, -4.6183e-01,  ..., -1.1133e+00,\n",
            "            4.9359e-01,  7.6193e-01],\n",
            "          ...,\n",
            "          [ 3.9006e-01,  3.2514e-01, -4.1390e-01,  ..., -1.2276e+00,\n",
            "           -4.0687e-01, -2.7963e+00],\n",
            "          [-1.6349e+00, -3.1809e-01, -6.8870e-01,  ..., -5.8702e-01,\n",
            "            2.5698e-01,  1.7201e+00],\n",
            "          [ 2.1334e+00, -9.9886e-01, -1.0959e+00,  ...,  9.5707e-01,\n",
            "            1.5179e+00, -4.5203e-01]],\n",
            "\n",
            "         [[-1.2297e+00,  1.2928e+00, -1.4641e+00,  ...,  1.2243e+00,\n",
            "            1.0760e-01, -1.2451e+00],\n",
            "          [ 1.8506e+00,  1.0199e+00,  1.5707e-01,  ...,  6.1994e-01,\n",
            "           -7.3765e-01, -5.9089e-02],\n",
            "          [ 2.1482e+00, -2.0084e+00,  7.4555e-01,  ...,  1.1918e+00,\n",
            "           -1.2154e+00,  1.7625e-01],\n",
            "          ...,\n",
            "          [ 1.6256e-01, -1.8362e+00, -2.1068e-01,  ...,  4.1099e-01,\n",
            "            8.1213e-01,  9.5750e-01],\n",
            "          [ 1.4809e+00, -1.2810e-01,  2.0616e-01,  ...,  1.2615e+00,\n",
            "           -3.7577e-01, -6.4616e-01],\n",
            "          [ 2.4735e-01,  2.3693e-01,  5.4152e-01,  ...,  1.6523e-01,\n",
            "           -1.3843e-01, -2.8659e-01]],\n",
            "\n",
            "         [[ 3.9202e-01, -6.0630e-01,  5.2900e-01,  ...,  1.4658e-01,\n",
            "           -6.9361e-01, -2.0051e+00],\n",
            "          [-9.3326e-01, -5.0366e-01,  3.2601e-01,  ..., -7.7233e-01,\n",
            "           -1.5729e+00, -1.6229e+00],\n",
            "          [-6.9605e-01, -3.6419e-01, -7.1037e-01,  ..., -1.1833e+00,\n",
            "            8.9510e-01, -1.0082e+00],\n",
            "          ...,\n",
            "          [-2.0134e+00,  1.3184e+00,  5.2838e-01,  ..., -2.3257e+00,\n",
            "            1.2341e-02, -8.3091e-01],\n",
            "          [-1.4252e+00, -7.7254e-01,  1.7973e+00,  ...,  1.0301e+00,\n",
            "            1.8301e+00, -1.8260e+00],\n",
            "          [-5.6352e-01, -3.7904e-01,  6.7856e-01,  ..., -4.3479e-01,\n",
            "            7.2425e-01, -9.5131e-02]],\n",
            "\n",
            "         ...,\n",
            "\n",
            "         [[ 5.5963e-01, -6.6241e-01, -1.8190e+00,  ...,  1.9865e+00,\n",
            "           -1.2032e+00, -1.4168e+00],\n",
            "          [-6.2495e-01, -5.9551e-01,  7.5511e-02,  ..., -1.5198e+00,\n",
            "           -4.4288e-01,  3.7852e-02],\n",
            "          [ 1.5536e+00, -1.0792e+00,  1.4672e-01,  ..., -2.6594e-01,\n",
            "           -1.2419e+00,  3.7938e-01],\n",
            "          ...,\n",
            "          [-4.6942e-01,  2.1127e+00,  1.1753e-01,  ...,  8.0176e-01,\n",
            "           -3.9618e-01,  1.0079e-01],\n",
            "          [ 4.4159e-01, -3.6800e-01,  4.8395e-02,  ..., -1.9615e+00,\n",
            "           -2.3387e-01, -1.6686e-01],\n",
            "          [-5.6652e-01, -2.5811e-01, -1.5114e+00,  ..., -1.1717e+00,\n",
            "            1.4253e+00, -1.1231e+00]],\n",
            "\n",
            "         [[-1.6835e-01, -4.6599e-01, -1.1308e+00,  ..., -3.9507e-01,\n",
            "            1.2907e+00, -1.0242e+00],\n",
            "          [-9.0476e-01, -1.7801e-01,  1.9458e+00,  ..., -9.2284e-01,\n",
            "           -5.7295e-01,  9.9967e-01],\n",
            "          [ 1.7845e+00,  9.0832e-01,  4.4657e-01,  ..., -1.2690e+00,\n",
            "           -1.1922e+00, -1.0178e+00],\n",
            "          ...,\n",
            "          [ 6.7790e-01, -1.6015e+00,  1.8868e+00,  ..., -2.4595e-01,\n",
            "            1.3413e+00,  2.5788e-02],\n",
            "          [-2.5050e+00,  1.2052e+00, -2.5357e-01,  ...,  4.8414e-01,\n",
            "            1.4380e+00, -8.0325e-01],\n",
            "          [ 1.4982e+00,  2.2757e+00,  4.2471e-01,  ...,  1.2581e+00,\n",
            "            8.3846e-01, -3.2442e-01]],\n",
            "\n",
            "         [[-2.4250e+00, -2.2366e+00, -1.4558e+00,  ..., -7.2318e-02,\n",
            "           -1.0477e+00,  5.0450e-01],\n",
            "          [-1.3569e-01, -1.6560e+00,  1.2569e+00,  ...,  1.4550e-03,\n",
            "            6.2646e-01, -1.2700e+00],\n",
            "          [-9.7300e-01,  1.0036e+00, -4.1711e-01,  ..., -1.1577e-01,\n",
            "            3.6016e-02, -3.7923e-01],\n",
            "          ...,\n",
            "          [-5.0903e-01, -1.0249e+00, -1.7715e-01,  ..., -8.2114e-01,\n",
            "           -1.0849e+00,  1.4755e+00],\n",
            "          [ 2.3024e+00, -5.5809e-01,  1.1589e+00,  ...,  2.8772e+00,\n",
            "           -6.7214e-01,  1.4993e-01],\n",
            "          [-4.1595e-01,  2.4522e+00, -2.4763e-01,  ...,  1.5445e+00,\n",
            "            8.3879e-01, -5.9622e-01]]],\n",
            "\n",
            "\n",
            "        ...,\n",
            "\n",
            "\n",
            "        [[[-6.3987e-01,  7.5694e-01, -2.0002e-01,  ...,  1.3339e-01,\n",
            "            1.9163e+00, -2.1763e+00],\n",
            "          [ 7.2986e-01,  2.0470e-01,  1.6910e+00,  ...,  1.3577e+00,\n",
            "           -1.9373e-01, -3.3966e-01],\n",
            "          [ 1.3894e+00, -2.3373e-01, -2.1907e-01,  ..., -2.2137e-01,\n",
            "           -6.0672e-01,  3.3864e-02],\n",
            "          ...,\n",
            "          [ 1.3778e-01, -6.2900e-01, -7.1871e-01,  ...,  7.4615e-01,\n",
            "           -6.4482e-01,  2.1340e-01],\n",
            "          [ 1.4741e+00, -6.8548e-01,  1.7555e-01,  ..., -8.6352e-01,\n",
            "           -5.2204e-01, -1.4667e+00],\n",
            "          [ 6.7222e-02,  7.8022e-01,  5.2674e-01,  ..., -2.8723e-01,\n",
            "           -5.0103e-02,  6.4028e-01]],\n",
            "\n",
            "         [[-2.2888e-01,  9.6355e-01,  2.4375e+00,  ...,  9.4255e-01,\n",
            "            1.0185e+00,  8.6805e-01],\n",
            "          [-6.8802e-02,  5.1487e-03, -7.9870e-01,  ..., -1.8194e+00,\n",
            "            9.8870e-01, -3.7976e-01],\n",
            "          [ 4.8728e-01,  2.1005e+00, -1.6748e+00,  ..., -1.1929e+00,\n",
            "            3.7828e-01,  6.6728e-03],\n",
            "          ...,\n",
            "          [-1.8062e+00, -1.0401e+00,  2.3173e-01,  ..., -9.3902e-01,\n",
            "            1.6493e+00,  7.1168e-01],\n",
            "          [ 7.3363e-01,  3.6097e-01, -6.4625e-01,  ..., -3.3054e-01,\n",
            "           -3.3651e-01, -3.5177e-01],\n",
            "          [ 1.6940e+00, -6.3800e-01,  2.8662e-01,  ..., -7.9039e-01,\n",
            "           -3.1655e-01,  7.6623e-01]],\n",
            "\n",
            "         [[-2.0253e+00,  4.8110e-03,  3.3476e-01,  ..., -7.2207e-01,\n",
            "           -1.6214e-01, -1.9715e-01],\n",
            "          [ 3.8645e-01, -8.4018e-01, -3.2843e-01,  ...,  1.7327e+00,\n",
            "            8.9353e-01, -5.3938e-01],\n",
            "          [ 2.2518e+00,  3.5518e-01, -8.4272e-01,  ...,  9.3326e-01,\n",
            "           -1.9111e+00,  1.4401e+00],\n",
            "          ...,\n",
            "          [ 1.1459e+00,  8.6641e-02,  2.2441e-01,  ...,  1.5172e+00,\n",
            "           -1.6247e-02,  6.1685e-01],\n",
            "          [-1.9967e+00,  7.0598e-01, -2.1663e-01,  ...,  7.6999e-01,\n",
            "            1.0250e+00,  5.8611e-01],\n",
            "          [-1.7178e+00,  7.3076e-01, -1.1838e+00,  ..., -1.2399e+00,\n",
            "            1.4271e-01,  1.1961e-02]],\n",
            "\n",
            "         ...,\n",
            "\n",
            "         [[-1.1499e-01, -1.0887e+00, -1.0455e-01,  ...,  5.0753e-01,\n",
            "           -1.0453e+00,  4.4068e-01],\n",
            "          [-2.0012e-01, -6.7667e-01,  2.8947e-01,  ...,  5.4040e-01,\n",
            "            1.9440e-01,  1.9144e+00],\n",
            "          [-8.9794e-01, -1.1407e+00,  1.2950e+00,  ...,  2.2094e-01,\n",
            "            1.3027e-01, -9.5755e-01],\n",
            "          ...,\n",
            "          [ 8.0674e-01, -7.3949e-01,  8.0545e-01,  ...,  7.6185e-01,\n",
            "            3.5524e-01, -1.7076e+00],\n",
            "          [-2.5676e+00, -8.0045e-01,  1.0035e+00,  ...,  4.9413e-01,\n",
            "           -5.8163e-01,  1.1132e+00],\n",
            "          [ 2.3420e-01, -6.1583e-01,  1.5383e+00,  ...,  1.6370e+00,\n",
            "            9.7889e-01, -1.1436e-01]],\n",
            "\n",
            "         [[ 9.6896e-02, -2.3604e-01,  7.7756e-01,  ..., -1.4323e+00,\n",
            "           -6.5545e-01,  1.6250e-01],\n",
            "          [ 6.9200e-01, -5.5344e-01, -9.3010e-01,  ...,  7.0910e-01,\n",
            "            6.0368e-01,  1.4535e-01],\n",
            "          [ 1.8682e+00,  2.0095e+00,  5.0938e-01,  ..., -3.4255e+00,\n",
            "           -9.8975e-01, -2.8666e-01],\n",
            "          ...,\n",
            "          [-6.4217e-01,  1.1045e+00, -8.2968e-01,  ...,  4.2841e-01,\n",
            "            8.1231e-01,  1.1093e+00],\n",
            "          [ 3.7352e-01, -1.7966e+00, -8.5459e-02,  ..., -3.8623e-01,\n",
            "           -1.3607e+00,  1.7996e+00],\n",
            "          [-3.5616e-01, -1.8047e-01,  2.0296e-01,  ..., -4.9959e-01,\n",
            "            3.6130e-02, -5.5909e-01]],\n",
            "\n",
            "         [[-1.2914e+00,  6.0267e-01, -3.6918e-01,  ..., -3.8390e-01,\n",
            "           -2.0124e+00,  1.0229e+00],\n",
            "          [-1.5978e+00, -3.9426e-01,  4.8301e-01,  ...,  1.1574e+00,\n",
            "            7.7614e-01, -4.1748e-01],\n",
            "          [-1.9147e+00, -9.7190e-01,  6.1124e-01,  ..., -4.6960e-01,\n",
            "            6.3575e-01,  1.2738e-01],\n",
            "          ...,\n",
            "          [-7.8140e-01, -1.1550e+00, -5.2469e-01,  ...,  3.4885e-01,\n",
            "           -7.6061e-01, -3.3027e-01],\n",
            "          [-1.0001e+00, -8.7150e-01, -1.7102e+00,  ..., -4.9858e-02,\n",
            "            4.4439e-03,  5.3775e-01],\n",
            "          [ 8.2221e-02, -2.5759e-01, -7.8372e-02,  ..., -7.6769e-01,\n",
            "           -4.3165e-02, -3.2777e-01]]],\n",
            "\n",
            "\n",
            "        [[[-2.0341e-01, -1.0966e+00, -1.7290e-01,  ...,  8.8769e-01,\n",
            "           -1.0774e+00, -9.4773e-01],\n",
            "          [-5.7148e-01,  5.2926e-01, -8.5676e-01,  ..., -8.2161e-02,\n",
            "           -2.0952e+00, -1.2301e+00],\n",
            "          [ 1.1687e+00,  6.0987e-02, -1.4802e+00,  ..., -5.5798e-01,\n",
            "           -5.2703e-01,  9.2561e-01],\n",
            "          ...,\n",
            "          [-2.3082e-01,  1.6873e+00,  1.1127e+00,  ..., -2.4409e-01,\n",
            "            6.4615e-01,  7.7667e-03],\n",
            "          [-2.5632e-01, -1.5383e+00, -1.0376e+00,  ...,  6.4887e-01,\n",
            "           -1.4462e+00,  2.6365e-01],\n",
            "          [-1.7835e-01, -9.6225e-01,  2.1792e-02,  ...,  2.0141e-01,\n",
            "            7.9609e-01, -8.6510e-01]],\n",
            "\n",
            "         [[-1.2089e+00, -2.4263e-01, -6.4739e-01,  ..., -1.4914e+00,\n",
            "           -1.4833e+00, -1.2327e+00],\n",
            "          [-1.8393e-01, -1.1740e-02,  2.0170e-03,  ...,  6.7444e-02,\n",
            "           -1.0210e+00,  5.8214e-01],\n",
            "          [ 9.5249e-01, -1.3279e+00,  4.2844e-01,  ...,  5.2614e-01,\n",
            "           -6.2088e-03, -8.1608e-02],\n",
            "          ...,\n",
            "          [ 7.8268e-01, -9.3354e-01,  9.9365e-01,  ...,  6.9941e-01,\n",
            "            6.0461e-02, -1.4724e+00],\n",
            "          [-6.2467e-01, -6.1816e-01,  1.2281e+00,  ...,  3.0440e-01,\n",
            "           -3.5673e-01,  1.2340e+00],\n",
            "          [-2.2345e-01,  8.5456e-01, -1.9273e+00,  ...,  8.4957e-01,\n",
            "           -2.7057e-01, -3.2422e-02]],\n",
            "\n",
            "         [[ 1.6066e+00, -9.1300e-01, -1.5521e+00,  ...,  2.7418e-01,\n",
            "            6.8836e-02,  7.4391e-01],\n",
            "          [ 5.3606e-01, -3.8635e-01,  4.6850e-01,  ...,  1.8993e-01,\n",
            "            1.5402e-01,  1.1608e-01],\n",
            "          [ 4.4031e-01, -1.1465e-01, -1.5579e+00,  ..., -7.4388e-01,\n",
            "           -9.8740e-01,  2.1298e+00],\n",
            "          ...,\n",
            "          [ 9.6301e-01,  9.6993e-02, -2.1411e+00,  ...,  1.3359e+00,\n",
            "           -5.7276e-01, -2.9890e-01],\n",
            "          [ 5.2813e-01, -1.2417e+00, -1.7366e+00,  ..., -8.2524e-01,\n",
            "           -1.4028e+00, -8.4493e-01],\n",
            "          [ 8.2542e-01,  2.0897e+00, -9.8044e-01,  ..., -8.6189e-01,\n",
            "            6.8200e-02, -2.7868e-01]],\n",
            "\n",
            "         ...,\n",
            "\n",
            "         [[-1.1125e+00,  5.7605e-01,  1.4537e+00,  ...,  1.8690e+00,\n",
            "           -8.1861e-01, -1.5364e+00],\n",
            "          [ 1.5827e+00, -8.0488e-01, -1.1623e-01,  ..., -4.6646e-02,\n",
            "           -7.7160e-01, -1.3379e-01],\n",
            "          [ 2.8519e-01,  3.0948e-01,  9.2496e-02,  ..., -3.8686e-01,\n",
            "            4.7921e-01, -1.5442e-01],\n",
            "          ...,\n",
            "          [ 3.7325e-02,  2.0827e-01,  2.7377e-01,  ..., -8.5442e-01,\n",
            "            4.3999e-01, -8.1865e-01],\n",
            "          [-5.3182e-01, -5.5306e-01, -1.9501e+00,  ...,  2.1588e-01,\n",
            "           -5.7458e-01, -1.7558e+00],\n",
            "          [ 6.0459e-01,  9.5987e-01,  1.9069e+00,  ...,  2.9069e-01,\n",
            "           -1.4323e-01, -1.1583e+00]],\n",
            "\n",
            "         [[ 1.3794e+00, -3.7054e-01, -1.5013e+00,  ...,  1.3493e-01,\n",
            "            1.4617e+00,  1.0141e+00],\n",
            "          [ 2.2232e+00,  7.8730e-01, -8.9126e-01,  ...,  7.6325e-01,\n",
            "           -8.3335e-01, -8.3070e-02],\n",
            "          [-1.5323e+00, -6.8295e-01, -9.1693e-01,  ...,  7.9598e-01,\n",
            "            2.6638e-01,  1.3775e+00],\n",
            "          ...,\n",
            "          [-1.7948e+00,  8.8699e-01,  9.1096e-01,  ..., -8.2080e-01,\n",
            "           -1.3792e+00, -2.6630e-01],\n",
            "          [ 3.0707e-01, -1.9662e-01, -1.7987e+00,  ...,  6.9504e-01,\n",
            "            1.8775e-01, -7.7741e-02],\n",
            "          [-5.9994e-01, -1.7568e+00,  1.5240e+00,  ...,  1.8888e+00,\n",
            "            5.3799e-01, -5.6647e-01]],\n",
            "\n",
            "         [[-7.5184e-01,  8.4757e-01,  2.8448e-01,  ..., -1.7317e+00,\n",
            "           -7.5354e-01, -3.5824e-01],\n",
            "          [ 2.9872e-01, -3.3416e-01, -5.8066e-01,  ..., -1.0120e+00,\n",
            "            1.5260e+00, -3.4129e-01],\n",
            "          [-1.4017e-01, -3.4511e-01,  5.5752e-01,  ...,  5.4032e-01,\n",
            "            3.9758e-01, -2.6813e+00],\n",
            "          ...,\n",
            "          [ 5.6863e-01,  9.5193e-01, -2.5318e-01,  ..., -4.3152e-01,\n",
            "            5.0997e-01, -2.7265e-01],\n",
            "          [-8.0158e-01, -1.5982e+00, -5.4593e-01,  ...,  3.8685e-01,\n",
            "            2.4464e+00,  1.3617e+00],\n",
            "          [-2.0844e+00,  2.0375e-01,  1.5140e-01,  ..., -2.6825e-01,\n",
            "            3.3854e-01, -1.4319e+00]]],\n",
            "\n",
            "\n",
            "        [[[ 2.8956e-01, -1.2079e-01,  8.8660e-01,  ..., -5.9247e-01,\n",
            "            1.8060e+00,  1.9604e+00],\n",
            "          [ 4.8312e-01, -1.6669e+00, -7.3783e-01,  ..., -4.5984e-01,\n",
            "            8.9348e-01, -1.4860e+00],\n",
            "          [ 1.2061e+00, -8.1224e-01, -2.8285e-01,  ...,  9.6205e-01,\n",
            "           -2.2816e-01,  7.3661e-01],\n",
            "          ...,\n",
            "          [-1.0425e+00, -4.0816e-01, -6.6726e-01,  ..., -2.2740e-01,\n",
            "           -1.0496e+00,  1.9051e+00],\n",
            "          [ 9.9616e-01, -8.8154e-01, -1.3047e+00,  ..., -1.3600e+00,\n",
            "           -4.3121e-01, -7.9349e-01],\n",
            "          [-6.6438e-01, -8.4332e-01,  4.2069e-01,  ..., -1.0320e+00,\n",
            "            1.0476e+00, -1.7776e+00]],\n",
            "\n",
            "         [[ 7.2315e-01, -5.5524e-01, -1.6670e+00,  ..., -8.6738e-01,\n",
            "            1.6741e-01, -2.3721e-02],\n",
            "          [-4.8999e-01, -1.2957e+00, -3.3335e-01,  ...,  5.9405e-01,\n",
            "            8.1868e-01,  1.1586e+00],\n",
            "          [ 1.0249e+00,  7.9266e-01,  4.0232e-01,  ...,  4.7116e-01,\n",
            "           -3.5932e-02, -2.2097e-01],\n",
            "          ...,\n",
            "          [ 1.0544e-01, -1.4759e-01, -1.7214e+00,  ..., -8.8032e-01,\n",
            "           -9.7920e-01, -1.3124e+00],\n",
            "          [ 9.4517e-02,  4.0638e-01,  1.3972e-01,  ..., -3.5624e-01,\n",
            "            6.9194e-01, -3.1621e-02],\n",
            "          [-1.9546e+00,  6.3281e-01,  5.8639e-01,  ..., -2.6279e-01,\n",
            "            8.7791e-01, -1.5087e+00]],\n",
            "\n",
            "         [[ 9.4897e-03, -3.4508e-01, -7.9635e-01,  ..., -1.3857e+00,\n",
            "            8.0809e-01, -1.6364e+00],\n",
            "          [-8.3780e-01, -1.4244e+00, -1.0472e+00,  ...,  1.0338e+00,\n",
            "           -3.6444e-01,  2.9254e-01],\n",
            "          [-1.5509e+00,  1.5180e+00,  6.8101e-02,  ..., -2.9091e-01,\n",
            "           -9.7574e-01, -2.6061e-01],\n",
            "          ...,\n",
            "          [-6.6080e-01,  7.3196e-01,  4.5127e-01,  ...,  1.5711e-01,\n",
            "           -9.1551e-01,  1.1849e+00],\n",
            "          [ 1.2172e+00, -1.0984e+00, -2.6935e-01,  ...,  2.3474e+00,\n",
            "            9.8668e-01, -9.4830e-01],\n",
            "          [ 7.1206e-01, -5.3346e-01,  1.4696e+00,  ..., -2.2001e-01,\n",
            "           -2.9823e-01,  6.7845e-01]],\n",
            "\n",
            "         ...,\n",
            "\n",
            "         [[ 9.5774e-01, -6.0493e-01,  2.7620e-02,  ..., -2.9024e-01,\n",
            "            2.4902e-01, -8.5040e-01],\n",
            "          [-1.0317e+00,  2.2713e-01,  9.9662e-01,  ..., -4.1233e-01,\n",
            "            4.0865e-01, -7.0755e-01],\n",
            "          [ 1.9291e+00,  1.9960e-01,  6.8807e-01,  ..., -6.4639e-01,\n",
            "           -9.5997e-01, -2.7123e-01],\n",
            "          ...,\n",
            "          [-1.3537e+00, -1.1369e+00,  9.3035e-01,  ..., -3.6925e-01,\n",
            "           -1.5577e+00,  1.6312e+00],\n",
            "          [-2.1563e+00,  1.6623e-01,  4.0493e-01,  ..., -1.0042e+00,\n",
            "           -1.4307e-01,  3.7638e-01],\n",
            "          [ 5.3430e-01, -7.3718e-01, -7.3802e-01,  ...,  6.5101e-01,\n",
            "           -4.2383e-02, -1.7394e+00]],\n",
            "\n",
            "         [[-4.1947e-01, -1.2968e-01, -2.8506e-01,  ..., -5.7389e-02,\n",
            "            5.7150e-01,  7.0248e-01],\n",
            "          [ 2.7125e-02, -3.8717e-02,  1.7851e+00,  ..., -2.3719e-01,\n",
            "           -1.6885e+00, -8.1830e-01],\n",
            "          [-4.2244e-01, -8.5239e-02,  4.9677e-01,  ..., -1.7043e+00,\n",
            "           -8.2847e-01,  4.3634e-01],\n",
            "          ...,\n",
            "          [-9.4732e-01, -9.8131e-01,  5.8134e-01,  ...,  5.9457e-01,\n",
            "            1.0248e+00,  1.0608e+00],\n",
            "          [-4.1097e-01, -1.2710e+00,  1.5837e+00,  ...,  3.7316e-01,\n",
            "            9.8093e-01, -1.7304e-01],\n",
            "          [-7.3374e-01,  1.0252e+00, -5.2733e-01,  ...,  7.9195e-01,\n",
            "            9.9925e-02,  1.8270e+00]],\n",
            "\n",
            "         [[ 1.6272e+00, -1.6207e+00, -2.2667e-01,  ..., -7.2107e-01,\n",
            "            1.3737e-01,  5.1873e-01],\n",
            "          [ 6.0985e-01, -6.6319e-01, -2.0566e+00,  ..., -3.4276e-01,\n",
            "            7.0288e-01, -2.2003e+00],\n",
            "          [ 1.8132e-01, -6.6343e-01,  4.7075e-01,  ...,  4.2287e-02,\n",
            "            6.0844e-01,  3.6862e-01],\n",
            "          ...,\n",
            "          [-5.3549e-01,  1.6771e-01,  1.6915e+00,  ..., -7.6008e-01,\n",
            "            1.9431e+00,  5.1005e-01],\n",
            "          [ 8.0013e-01, -4.0210e-02,  3.8078e-01,  ...,  5.1915e-01,\n",
            "            1.1773e+00, -9.8910e-01],\n",
            "          [ 2.5920e-01,  3.7911e-01,  3.2889e-01,  ...,  1.0421e-01,\n",
            "           -7.7695e-01, -4.3135e-01]]]])\n"
          ],
          "name": "stdout"
        }
      ]
    },
    {
      "cell_type": "code",
      "metadata": {
        "id": "RLqGbclbp3_N",
        "colab": {
          "base_uri": "https://localhost:8080/"
        },
        "outputId": "e3b9975f-3c13-4483-9ec1-dee42292d389"
      },
      "source": [
        "output.shape"
      ],
      "execution_count": 7,
      "outputs": [
        {
          "output_type": "execute_result",
          "data": {
            "text/plain": [
              "torch.Size([20, 33, 26, 100])"
            ]
          },
          "metadata": {
            "tags": []
          },
          "execution_count": 7
        }
      ]
    },
    {
      "cell_type": "markdown",
      "metadata": {
        "id": "CYeGAJEuneqW"
      },
      "source": [
        "### nn.functional 패키지\n",
        "\n",
        "- 가중치를 직접 선언하여 인자로 넣어줘야함\n",
        "\n",
        "- 예시)\n",
        "  - Convolution functions\n",
        "\n",
        "  - Pooling functions\n",
        "  \n",
        "  - Non-linear activation functions\n",
        "\n",
        "  - Normalization functions\n",
        "\n",
        "  - Linear functions\n",
        "\n",
        "  - Dropout functions\n",
        "  \n",
        "  - Sparse functions\n",
        "  \n",
        "  - Distance functions\n",
        "\n",
        "  - Loss functions\n",
        "  - ..\n",
        "\n",
        "- https://pytorch.org/docs/stable/nn.functional.html"
      ]
    },
    {
      "cell_type": "code",
      "metadata": {
        "id": "NpwbO9Dhpflm"
      },
      "source": [
        "import torch\n",
        "import torch.nn.functional as F"
      ],
      "execution_count": 10,
      "outputs": []
    },
    {
      "cell_type": "markdown",
      "metadata": {
        "id": "fUYaJ5aLqKed"
      },
      "source": [
        "- Convolution Layer 예시 (2)"
      ]
    },
    {
      "cell_type": "code",
      "metadata": {
        "id": "GAWLQE2GouHP"
      },
      "source": [
        "filters = torch.randn(8, 4, 3, 3)"
      ],
      "execution_count": 11,
      "outputs": []
    },
    {
      "cell_type": "code",
      "metadata": {
        "id": "lWmSlFBrpms1",
        "colab": {
          "base_uri": "https://localhost:8080/"
        },
        "outputId": "b4286ef8-b23a-47cd-89aa-f57837562aef"
      },
      "source": [
        "inputs =torch.randn(1, 4, 5, 5)\n",
        "conv = F.conv2d(inputs, filters, padding=1)\n",
        "conv.shape"
      ],
      "execution_count": 12,
      "outputs": [
        {
          "output_type": "execute_result",
          "data": {
            "text/plain": [
              "torch.Size([1, 8, 5, 5])"
            ]
          },
          "metadata": {
            "tags": []
          },
          "execution_count": 12
        }
      ]
    },
    {
      "cell_type": "markdown",
      "metadata": {
        "id": "Wah4RsmgrRDP"
      },
      "source": [
        "## Torchvision\n",
        "\n",
        "- `transforms`: 전처리할 때 사용하는 메소드\n",
        "\n",
        "- `transforms`에서 제공하는 클래스 이외에  \n",
        "  일반적으로 클래스를 따로 만들어 전처리 단계를 진행\n",
        "  \n",
        "  - 아래의 코드에서 다양한 전처리 기술 확인  \n",
        "    https://pytorch.org/docs/stable/torchvision/transforms.html\n"
      ]
    },
    {
      "cell_type": "code",
      "metadata": {
        "id": "akvq4QWmqSil"
      },
      "source": [
        "import torch\n",
        "import torchvision\n",
        "import torchvision.transforms as transforms"
      ],
      "execution_count": 13,
      "outputs": []
    },
    {
      "cell_type": "markdown",
      "metadata": {
        "id": "PKu5mzyTs-Qj"
      },
      "source": [
        "- 예시)\n",
        "  - `DataLoader`의 인자로 들어갈 `transform`을 미리 정의할 수 있음\n",
        "\n",
        "  - `Compose`를 통해 리스트 안에 순서대로 전처리 진행\n",
        "\n",
        "  - 대표적인 예로, `ToTensor`()를 하는 이유는  \n",
        "   <u>torchvision이 PIL Image형태로만 입력을 받기 때문에</u> 데이터 처리를 위해서 Tensor형으로 변환해야함"
      ]
    },
    {
      "cell_type": "code",
      "metadata": {
        "id": "y6K7FH-Rs9my"
      },
      "source": [
        "transform = transforms.Compose([transforms.ToTensor(),\n",
        "                                transforms.Normalize(mean=(0.5,), std=(0.5,))])"
      ],
      "execution_count": 14,
      "outputs": []
    },
    {
      "cell_type": "markdown",
      "metadata": {
        "id": "I4l1GvIlslKa"
      },
      "source": [
        "## utils.data\n",
        "\n",
        "- `Dataset`에는 다양한 데이터셋이 존재  \n",
        "  - MNIST, CIFAR10, ...\n",
        "\n",
        "- `DataLoader`, `Dataset`을 통해  \n",
        "  `batch_size`, `train`여부, `transform`등을 인자로 넣어 데이터를 어떻게 load할 것인지 정해줄 수 있음"
      ]
    },
    {
      "cell_type": "code",
      "metadata": {
        "id": "1wsZKY7-s2Vv"
      },
      "source": [
        "import torch\n",
        "from torch.utils.data import Dataset, DataLoader\n",
        "\n",
        "import torchvision\n",
        "import torchvision.transforms as transforms"
      ],
      "execution_count": 15,
      "outputs": []
    },
    {
      "cell_type": "code",
      "metadata": {
        "id": "lldpI2lquBu3",
        "colab": {
          "base_uri": "https://localhost:8080/",
          "height": 892,
          "referenced_widgets": [
            "c0d807de99b24197be4b5bbc8e8b2fa6",
            "6df322735924442dbb3b7eab9cd80b17",
            "649ce1945d7a4b73ba8355cf8de36859",
            "51c54d99539b4c5ca0a21f556eaf3379",
            "3eaf0ecb077145cc88240b8eb5435c48",
            "de8e5a1b4f6149a2b5a4e1435187400f",
            "a4dedec03f27470490a944d67ade6678",
            "9a1e19b4958144f191c5841b75b9e00c",
            "7f82b2cd663246388c15140120f24e67",
            "8be335865e8d41c1804e789f453cbefe",
            "9368a273d68b4422b12cf5c7a9bc59db",
            "e91420e3f5f648cb85d2aba4fccc1ba9",
            "76c66bc0ab9444e697a102332ac10b0a",
            "02f681da34ad451d9efc766f94f1ddde",
            "48ab6be2e425488f87b68cf707970db7",
            "767373c7e24b4abeb5206242c12847b2",
            "b51bcb60759349feb27b68f142d36ac6",
            "cbe2003aa899452487eedf51c9017603",
            "4094a1611774456f8cdbb8cd254d2935",
            "5e9d763647f7480f83b9edd28babdcaf",
            "8cd29902e5ce4d5686841115a16b14a5",
            "88d37e1c10d4422a9667b43bc6be079d",
            "eaf123fe01c9420b8eb40d20df616c93",
            "f9382d64c9bb466b921e544be703d0e9",
            "d40c97c3c6eb4eaf98a4d64209fe20c5",
            "6feb0aa6389e4b34872d57200c3bcfdc",
            "60ac83839f5843228da1d731cc017d16",
            "6696085abbbb4300b4a109f075b2a24f",
            "2be75fc3d18a4a929023f83e5cbf4c3f",
            "47c39ac084aa4fe8832eeca84a1be8b8",
            "b27a715f8b9d4adda4f28cc85ff39b09",
            "43f360df37c743fc8b99e13c375173a2"
          ]
        },
        "outputId": "43e6f52b-32f3-4590-d01d-ba1f8fac7d2a"
      },
      "source": [
        "trainset = torchvision.datasets.MNIST(root='./content/',\n",
        "                                      train=True,\n",
        "                                      download=True,\n",
        "                                      transform=transform)\n",
        "testset = torchvision.datasets.MNIST(root='./content/',\n",
        "                                      train=False,\n",
        "                                      download=True,\n",
        "                                      transform=transform)"
      ],
      "execution_count": 17,
      "outputs": [
        {
          "output_type": "stream",
          "text": [
            "Downloading http://yann.lecun.com/exdb/mnist/train-images-idx3-ubyte.gz\n",
            "Downloading http://yann.lecun.com/exdb/mnist/train-images-idx3-ubyte.gz to ./content/MNIST/raw/train-images-idx3-ubyte.gz\n",
            "Failed to download (trying next):\n",
            "HTTP Error 503: Service Unavailable\n",
            "\n",
            "Downloading https://ossci-datasets.s3.amazonaws.com/mnist/train-images-idx3-ubyte.gz\n",
            "Downloading https://ossci-datasets.s3.amazonaws.com/mnist/train-images-idx3-ubyte.gz to ./content/MNIST/raw/train-images-idx3-ubyte.gz\n"
          ],
          "name": "stdout"
        },
        {
          "output_type": "display_data",
          "data": {
            "application/vnd.jupyter.widget-view+json": {
              "model_id": "c0d807de99b24197be4b5bbc8e8b2fa6",
              "version_minor": 0,
              "version_major": 2
            },
            "text/plain": [
              "HBox(children=(FloatProgress(value=0.0, max=9912422.0), HTML(value='')))"
            ]
          },
          "metadata": {
            "tags": []
          }
        },
        {
          "output_type": "stream",
          "text": [
            "\n",
            "Extracting ./content/MNIST/raw/train-images-idx3-ubyte.gz to ./content/MNIST/raw\n",
            "\n",
            "Downloading http://yann.lecun.com/exdb/mnist/train-labels-idx1-ubyte.gz\n",
            "Downloading http://yann.lecun.com/exdb/mnist/train-labels-idx1-ubyte.gz to ./content/MNIST/raw/train-labels-idx1-ubyte.gz\n",
            "Failed to download (trying next):\n",
            "HTTP Error 503: Service Unavailable\n",
            "\n",
            "Downloading https://ossci-datasets.s3.amazonaws.com/mnist/train-labels-idx1-ubyte.gz\n",
            "Downloading https://ossci-datasets.s3.amazonaws.com/mnist/train-labels-idx1-ubyte.gz to ./content/MNIST/raw/train-labels-idx1-ubyte.gz\n"
          ],
          "name": "stdout"
        },
        {
          "output_type": "display_data",
          "data": {
            "application/vnd.jupyter.widget-view+json": {
              "model_id": "7f82b2cd663246388c15140120f24e67",
              "version_minor": 0,
              "version_major": 2
            },
            "text/plain": [
              "HBox(children=(FloatProgress(value=0.0, max=28881.0), HTML(value='')))"
            ]
          },
          "metadata": {
            "tags": []
          }
        },
        {
          "output_type": "stream",
          "text": [
            "\n",
            "Extracting ./content/MNIST/raw/train-labels-idx1-ubyte.gz to ./content/MNIST/raw\n",
            "\n",
            "Downloading http://yann.lecun.com/exdb/mnist/t10k-images-idx3-ubyte.gz\n",
            "Failed to download (trying next):\n",
            "HTTP Error 503: Service Unavailable\n",
            "\n",
            "Downloading https://ossci-datasets.s3.amazonaws.com/mnist/t10k-images-idx3-ubyte.gz\n",
            "Downloading https://ossci-datasets.s3.amazonaws.com/mnist/t10k-images-idx3-ubyte.gz to ./content/MNIST/raw/t10k-images-idx3-ubyte.gz\n"
          ],
          "name": "stdout"
        },
        {
          "output_type": "display_data",
          "data": {
            "application/vnd.jupyter.widget-view+json": {
              "model_id": "b51bcb60759349feb27b68f142d36ac6",
              "version_minor": 0,
              "version_major": 2
            },
            "text/plain": [
              "HBox(children=(FloatProgress(value=0.0, max=1648877.0), HTML(value='')))"
            ]
          },
          "metadata": {
            "tags": []
          }
        },
        {
          "output_type": "stream",
          "text": [
            "\n",
            "Extracting ./content/MNIST/raw/t10k-images-idx3-ubyte.gz to ./content/MNIST/raw\n",
            "\n",
            "Downloading http://yann.lecun.com/exdb/mnist/t10k-labels-idx1-ubyte.gz\n",
            "Failed to download (trying next):\n",
            "HTTP Error 503: Service Unavailable\n",
            "\n",
            "Downloading https://ossci-datasets.s3.amazonaws.com/mnist/t10k-labels-idx1-ubyte.gz\n",
            "Downloading https://ossci-datasets.s3.amazonaws.com/mnist/t10k-labels-idx1-ubyte.gz to ./content/MNIST/raw/t10k-labels-idx1-ubyte.gz\n"
          ],
          "name": "stdout"
        },
        {
          "output_type": "display_data",
          "data": {
            "application/vnd.jupyter.widget-view+json": {
              "model_id": "d40c97c3c6eb4eaf98a4d64209fe20c5",
              "version_minor": 0,
              "version_major": 2
            },
            "text/plain": [
              "HBox(children=(FloatProgress(value=0.0, max=4542.0), HTML(value='')))"
            ]
          },
          "metadata": {
            "tags": []
          }
        },
        {
          "output_type": "stream",
          "text": [
            "\n",
            "Extracting ./content/MNIST/raw/t10k-labels-idx1-ubyte.gz to ./content/MNIST/raw\n",
            "\n"
          ],
          "name": "stdout"
        },
        {
          "output_type": "stream",
          "text": [
            "/usr/local/lib/python3.7/dist-packages/torchvision/datasets/mnist.py:498: UserWarning: The given NumPy array is not writeable, and PyTorch does not support non-writeable tensors. This means you can write to the underlying (supposedly non-writeable) NumPy array using the tensor. You may want to copy the array to protect its data or make it writeable before converting it to a tensor. This type of warning will be suppressed for the rest of this program. (Triggered internally at  /pytorch/torch/csrc/utils/tensor_numpy.cpp:180.)\n",
            "  return torch.from_numpy(parsed.astype(m[2], copy=False)).view(*s)\n"
          ],
          "name": "stderr"
        }
      ]
    },
    {
      "cell_type": "code",
      "metadata": {
        "id": "fKddZnT1uQmT"
      },
      "source": [
        "train_loader = DataLoader(trainset, batch_size=8, shuffle=True, num_workers=2)\n",
        "test_loader = DataLoader(testset, batch_size=8, shuffle=False, num_workers=2)"
      ],
      "execution_count": 18,
      "outputs": []
    },
    {
      "cell_type": "markdown",
      "metadata": {
        "id": "zrxymquLxeo8"
      },
      "source": [
        "- `batch_size`만큼 데이터를 하나씩 가져옴"
      ]
    },
    {
      "cell_type": "code",
      "metadata": {
        "id": "hvgMIyF6uUuU",
        "colab": {
          "base_uri": "https://localhost:8080/"
        },
        "outputId": "069ba649-4928-4c23-c86f-508ad04207c8"
      },
      "source": [
        "dataiter = iter(train_loader)\n",
        "images, labels = dataiter.next()\n",
        "images.shape, labels.shape"
      ],
      "execution_count": 19,
      "outputs": [
        {
          "output_type": "execute_result",
          "data": {
            "text/plain": [
              "(torch.Size([8, 1, 28, 28]), torch.Size([8]))"
            ]
          },
          "metadata": {
            "tags": []
          },
          "execution_count": 19
        }
      ]
    },
    {
      "cell_type": "markdown",
      "metadata": {
        "id": "YPUC0a0aw6OM"
      },
      "source": [
        "<u>**(중요) torch에서는 channel(채널)이 앞에 옴**</u>\n",
        "\n",
        "- `channel first`\n",
        "\n",
        "- tensorflow, keras 등에서는 channel이 뒤에 옴(`channel last`)"
      ]
    },
    {
      "cell_type": "markdown",
      "metadata": {
        "id": "wuhylD3iyFYr"
      },
      "source": [
        "### 데이터 확인"
      ]
    },
    {
      "cell_type": "code",
      "metadata": {
        "id": "C9hAQmQlul8P"
      },
      "source": [
        "import matplotlib.pyplot as plt\n",
        "plt.style.use('seaborn-white')"
      ],
      "execution_count": 20,
      "outputs": []
    },
    {
      "cell_type": "code",
      "metadata": {
        "id": "zDcUY6o4xUQp",
        "colab": {
          "base_uri": "https://localhost:8080/"
        },
        "outputId": "8760fb4f-f53a-4eeb-cf8d-76a17a8db3bb"
      },
      "source": [
        "torch_image = torch.squeeze(images[0])\n",
        "torch_image.shape"
      ],
      "execution_count": 21,
      "outputs": [
        {
          "output_type": "execute_result",
          "data": {
            "text/plain": [
              "torch.Size([28, 28])"
            ]
          },
          "metadata": {
            "tags": []
          },
          "execution_count": 21
        }
      ]
    },
    {
      "cell_type": "code",
      "metadata": {
        "id": "MZmPWiGbxoiW",
        "colab": {
          "base_uri": "https://localhost:8080/"
        },
        "outputId": "33dd24fc-85c8-4170-f2dc-f69e08ec229c"
      },
      "source": [
        "image = torch_image.numpy()\n",
        "image.shape"
      ],
      "execution_count": 22,
      "outputs": [
        {
          "output_type": "execute_result",
          "data": {
            "text/plain": [
              "(28, 28)"
            ]
          },
          "metadata": {
            "tags": []
          },
          "execution_count": 22
        }
      ]
    },
    {
      "cell_type": "code",
      "metadata": {
        "id": "AUOdd4UaxaXO",
        "colab": {
          "base_uri": "https://localhost:8080/"
        },
        "outputId": "d2b62435-af94-4ef8-c6aa-9caaf018689d"
      },
      "source": [
        "label = labels[0].numpy()\n",
        "label.shape"
      ],
      "execution_count": 23,
      "outputs": [
        {
          "output_type": "execute_result",
          "data": {
            "text/plain": [
              "()"
            ]
          },
          "metadata": {
            "tags": []
          },
          "execution_count": 23
        }
      ]
    },
    {
      "cell_type": "code",
      "metadata": {
        "id": "PDQfjw4wxr1z",
        "colab": {
          "base_uri": "https://localhost:8080/"
        },
        "outputId": "41316791-9fd1-4484-c472-564f3aee156e"
      },
      "source": [
        "label"
      ],
      "execution_count": 24,
      "outputs": [
        {
          "output_type": "execute_result",
          "data": {
            "text/plain": [
              "array(3)"
            ]
          },
          "metadata": {
            "tags": []
          },
          "execution_count": 24
        }
      ]
    },
    {
      "cell_type": "code",
      "metadata": {
        "id": "JDCVw59ax3-A",
        "colab": {
          "base_uri": "https://localhost:8080/",
          "height": 277
        },
        "outputId": "c00493f7-42ff-47eb-fba9-72a8479f1f67"
      },
      "source": [
        "plt.title(label)\n",
        "plt.imshow(image, 'gray')\n",
        "plt.show()"
      ],
      "execution_count": 25,
      "outputs": [
        {
          "output_type": "display_data",
          "data": {
            "image/png": "[encoded data removed]",
            "text/plain": [
              "<Figure size 432x288 with 1 Axes>"
            ]
          },
          "metadata": {
            "tags": []
          }
        }
      ]
    },
    {
      "cell_type": "markdown",
      "metadata": {
        "id": "JVcWQlxzihtS"
      },
      "source": [
        "## 각 Layer 설명"
      ]
    },
    {
      "cell_type": "code",
      "metadata": {
        "id": "IGXn1_weif5H"
      },
      "source": [
        "import torch\n",
        "import torch.nn as nn\n",
        "import torch.nn.functional as F\n",
        "import torch.optim as optim"
      ],
      "execution_count": 26,
      "outputs": []
    },
    {
      "cell_type": "markdown",
      "metadata": {
        "id": "73kJ3heBi26y"
      },
      "source": [
        "### nn.Conv2d\n",
        "\n",
        "- `in_channels`: channel의 갯수\n",
        "\n",
        "- `out_channels`: 출력 채널의 갯수\n",
        "\n",
        "- `kernel_size`: 커널(필터) 사이즈\n",
        "\n",
        "- 텐서플로우, 케라스와 다르게 레이어의 `input`인자에도 값을 집어 넣어줘야함"
      ]
    },
    {
      "cell_type": "code",
      "metadata": {
        "id": "RcHJguyFipTl",
        "colab": {
          "base_uri": "https://localhost:8080/"
        },
        "outputId": "4113c1ef-a453-4dff-db1b-f416fa7b5d01"
      },
      "source": [
        "nn.Conv2d(in_channels=1, out_channels=20, kernel_size=5, stride=1)"
      ],
      "execution_count": 27,
      "outputs": [
        {
          "output_type": "execute_result",
          "data": {
            "text/plain": [
              "Conv2d(1, 20, kernel_size=(5, 5), stride=(1, 1))"
            ]
          },
          "metadata": {
            "tags": []
          },
          "execution_count": 27
        }
      ]
    },
    {
      "cell_type": "code",
      "metadata": {
        "id": "iWiJbViHjFG0",
        "colab": {
          "base_uri": "https://localhost:8080/"
        },
        "outputId": "f2fd8c38-8d6c-4a2d-d39d-3b67ce31d0a4"
      },
      "source": [
        "layer = nn.Conv2d(1, 20, 5, 1).to(torch.device('cpu'))\n",
        "layer"
      ],
      "execution_count": 29,
      "outputs": [
        {
          "output_type": "execute_result",
          "data": {
            "text/plain": [
              "Conv2d(1, 20, kernel_size=(5, 5), stride=(1, 1))"
            ]
          },
          "metadata": {
            "tags": []
          },
          "execution_count": 29
        }
      ]
    },
    {
      "cell_type": "markdown",
      "metadata": {
        "id": "GxWYFm2xjUeN"
      },
      "source": [
        "- `wegiht`확인"
      ]
    },
    {
      "cell_type": "code",
      "metadata": {
        "id": "za0enRbyjPzV",
        "colab": {
          "base_uri": "https://localhost:8080/"
        },
        "outputId": "0f1aa4e9-e6b0-4a64-d0e5-60dc2921d940"
      },
      "source": [
        "weight = layer.weight\n",
        "weight.shape"
      ],
      "execution_count": 30,
      "outputs": [
        {
          "output_type": "execute_result",
          "data": {
            "text/plain": [
              "torch.Size([20, 1, 5, 5])"
            ]
          },
          "metadata": {
            "tags": []
          },
          "execution_count": 30
        }
      ]
    },
    {
      "cell_type": "markdown",
      "metadata": {
        "id": "MAZcTU2gjiCX"
      },
      "source": [
        "- `weight`는 `detach()`를 통해 꺼내줘야 `numpy()`변환이 가능"
      ]
    },
    {
      "cell_type": "code",
      "metadata": {
        "id": "9eN_oUBkjT85"
      },
      "source": [
        "weight = weight.detach()"
      ],
      "execution_count": 31,
      "outputs": []
    },
    {
      "cell_type": "code",
      "metadata": {
        "id": "kwso9tsijmz8",
        "colab": {
          "base_uri": "https://localhost:8080/"
        },
        "outputId": "742c3772-8bab-48a4-f76c-1540c7bc7101"
      },
      "source": [
        "weight.shape"
      ],
      "execution_count": 40,
      "outputs": [
        {
          "output_type": "execute_result",
          "data": {
            "text/plain": [
              "(20, 1, 5, 5)"
            ]
          },
          "metadata": {
            "tags": []
          },
          "execution_count": 40
        }
      ]
    },
    {
      "cell_type": "code",
      "metadata": {
        "id": "mUegf6HPjdPl",
        "colab": {
          "base_uri": "https://localhost:8080/",
          "height": 262
        },
        "outputId": "2f5508e2-03c4-4e13-bc4d-0e7839721c91"
      },
      "source": [
        "plt.imshow(weight[0,0,:,:], 'jet')\n",
        "plt.colorbar()\n",
        "plt.show()"
      ],
      "execution_count": 41,
      "outputs": [
        {
          "output_type": "display_data",
          "data": {
            "image/png": "[encoded data removed]",
            "text/plain": [
              "<Figure size 432x288 with 2 Axes>"
            ]
          },
          "metadata": {
            "tags": []
          }
        }
      ]
    },
    {
      "cell_type": "code",
      "metadata": {
        "id": "DMeTOqVmcdWa",
        "colab": {
          "base_uri": "https://localhost:8080/"
        },
        "outputId": "6334cf7f-2b87-4aea-8ddf-e879fb4c5189"
      },
      "source": [
        "print(images.shape)"
      ],
      "execution_count": 42,
      "outputs": [
        {
          "output_type": "stream",
          "text": [
            "torch.Size([8, 1, 28, 28])\n"
          ],
          "name": "stdout"
        }
      ]
    },
    {
      "cell_type": "code",
      "metadata": {
        "id": "cvolnNsscdHs"
      },
      "source": [
        "input_image = torch.unsqueeze(images[0], dim=0)"
      ],
      "execution_count": 43,
      "outputs": []
    },
    {
      "cell_type": "code",
      "metadata": {
        "id": "NLOAfD5mjup1"
      },
      "source": [
        "output_data = layer(input_image)"
      ],
      "execution_count": 44,
      "outputs": []
    },
    {
      "cell_type": "code",
      "metadata": {
        "id": "r50wFkl6j1sY"
      },
      "source": [
        "output = output_data.data"
      ],
      "execution_count": 45,
      "outputs": []
    },
    {
      "cell_type": "code",
      "metadata": {
        "id": "ZiIp-frJj2Hl",
        "colab": {
          "base_uri": "https://localhost:8080/"
        },
        "outputId": "04a985db-ca0c-4745-bbad-d527c3435703"
      },
      "source": [
        "output_arr = output.numpy()\n",
        "output_arr.shape"
      ],
      "execution_count": 47,
      "outputs": [
        {
          "output_type": "execute_result",
          "data": {
            "text/plain": [
              "(1, 20, 24, 24)"
            ]
          },
          "metadata": {
            "tags": []
          },
          "execution_count": 47
        }
      ]
    },
    {
      "cell_type": "code",
      "metadata": {
        "id": "uOHMu-UQkW3a",
        "colab": {
          "base_uri": "https://localhost:8080/",
          "height": 306
        },
        "outputId": "1fe8c54a-adf3-433b-900a-31f20530c6cf"
      },
      "source": [
        "plt.figure(figsize=(15, 30))\n",
        "\n",
        "plt.subplot(131)\n",
        "plt.title(\"Input\")\n",
        "plt.imshow(image, 'gray')\n",
        "plt.subplot(132)\n",
        "plt.title(\"Weight\")\n",
        "plt.imshow(weight[0,0,:,:], 'jet')\n",
        "plt.subplot(133)\n",
        "plt.title(\"Output\")\n",
        "plt.imshow(output_arr[0,0,:,:], 'gray')\n",
        "plt.show()"
      ],
      "execution_count": 50,
      "outputs": [
        {
          "output_type": "display_data",
          "data": {
            "image/png": "[encoded data removed]",
            "text/plain": [
              "<Figure size 1080x2160 with 3 Axes>"
            ]
          },
          "metadata": {
            "tags": []
          }
        }
      ]
    },
    {
      "cell_type": "markdown",
      "metadata": {
        "id": "6sCqGmH_kwHm"
      },
      "source": [
        "### Pooling\n",
        "- `F.max_pool2d` \n",
        "  - `stride`\n",
        "\n",
        "  - `kernel_size`\n",
        "\n",
        "- `torch.nn.MaxPool2d` 도 많이 사용"
      ]
    },
    {
      "cell_type": "code",
      "metadata": {
        "id": "AYqPrLH1kxQl",
        "colab": {
          "base_uri": "https://localhost:8080/"
        },
        "outputId": "ffbea470-5632-4acd-ba4a-d3d4d7f62564"
      },
      "source": [
        "image.shape"
      ],
      "execution_count": 51,
      "outputs": [
        {
          "output_type": "execute_result",
          "data": {
            "text/plain": [
              "(28, 28)"
            ]
          },
          "metadata": {
            "tags": []
          },
          "execution_count": 51
        }
      ]
    },
    {
      "cell_type": "code",
      "metadata": {
        "id": "tvI8W_8Yk81S",
        "colab": {
          "base_uri": "https://localhost:8080/"
        },
        "outputId": "f932f14d-a69e-4efb-d60e-605ba3c63e70"
      },
      "source": [
        "pool = F.max_pool2d(output, 2, 2)\n",
        "pool.shape"
      ],
      "execution_count": 53,
      "outputs": [
        {
          "output_type": "execute_result",
          "data": {
            "text/plain": [
              "torch.Size([1, 20, 12, 12])"
            ]
          },
          "metadata": {
            "tags": []
          },
          "execution_count": 53
        }
      ]
    },
    {
      "cell_type": "markdown",
      "metadata": {
        "id": "aV3HK4FulCaJ"
      },
      "source": [
        "- MaxPool Layer는 weight가 없기 때문에 바로 `numpy()`변환 가능"
      ]
    },
    {
      "cell_type": "code",
      "metadata": {
        "id": "fseB_qlflBta",
        "colab": {
          "base_uri": "https://localhost:8080/"
        },
        "outputId": "6d84c424-29c7-4bd1-a27a-a12184c42c4f"
      },
      "source": [
        "pool_arr = pool.numpy()\n",
        "pool_arr.shape"
      ],
      "execution_count": 54,
      "outputs": [
        {
          "output_type": "execute_result",
          "data": {
            "text/plain": [
              "(1, 20, 12, 12)"
            ]
          },
          "metadata": {
            "tags": []
          },
          "execution_count": 54
        }
      ]
    },
    {
      "cell_type": "code",
      "metadata": {
        "id": "6w8DQnNtlNCq",
        "colab": {
          "base_uri": "https://localhost:8080/",
          "height": 313
        },
        "outputId": "7b8a86c3-759b-437f-ccbe-f33cb9e9ad4e"
      },
      "source": [
        "plt.figure(figsize=(10, 15))\n",
        "plt.subplot(121)\n",
        "plt.title(\"Input\")\n",
        "plt.imshow(image, 'gray')\n",
        "plt.subplot(122)\n",
        "plt.title(\"Output\")\n",
        "plt.imshow(pool_arr[0,0,:,:], 'gray')\n",
        "plt.show()"
      ],
      "execution_count": 55,
      "outputs": [
        {
          "output_type": "display_data",
          "data": {
            "image/png": "[encoded data removed]",
            "text/plain": [
              "<Figure size 720x1080 with 2 Axes>"
            ]
          },
          "metadata": {
            "tags": []
          }
        }
      ]
    },
    {
      "cell_type": "markdown",
      "metadata": {
        "id": "q7RVioKwlbH1"
      },
      "source": [
        "### Linear\n",
        "- 1d만 가능 `.view()`를 통해 1D로 펼쳐줘야함"
      ]
    },
    {
      "cell_type": "code",
      "metadata": {
        "id": "Kwcedadrlcbl",
        "colab": {
          "base_uri": "https://localhost:8080/"
        },
        "outputId": "4a7c1410-df11-4e33-c3b3-19dc141c8a85"
      },
      "source": [
        "image = torch.from_numpy(image)\n",
        "image.shape"
      ],
      "execution_count": 56,
      "outputs": [
        {
          "output_type": "execute_result",
          "data": {
            "text/plain": [
              "torch.Size([28, 28])"
            ]
          },
          "metadata": {
            "tags": []
          },
          "execution_count": 56
        }
      ]
    },
    {
      "cell_type": "code",
      "metadata": {
        "id": "_mYQy4I3lmAm",
        "colab": {
          "base_uri": "https://localhost:8080/"
        },
        "outputId": "6d391cec-1953-497b-ced5-8f6dfc092c03"
      },
      "source": [
        "flatten = image.view(1, 28 * 28)\n",
        "flatten.shape"
      ],
      "execution_count": 57,
      "outputs": [
        {
          "output_type": "execute_result",
          "data": {
            "text/plain": [
              "torch.Size([1, 784])"
            ]
          },
          "metadata": {
            "tags": []
          },
          "execution_count": 57
        }
      ]
    },
    {
      "cell_type": "code",
      "metadata": {
        "id": "6wgSmY0Zlofk",
        "colab": {
          "base_uri": "https://localhost:8080/"
        },
        "outputId": "82469fd2-ceeb-4fef-acc5-ada6dd436fd5"
      },
      "source": [
        "lin = nn.Linear(784, 10)(flatten)\n",
        "lin.shape"
      ],
      "execution_count": 59,
      "outputs": [
        {
          "output_type": "execute_result",
          "data": {
            "text/plain": [
              "torch.Size([1, 10])"
            ]
          },
          "metadata": {
            "tags": []
          },
          "execution_count": 59
        }
      ]
    },
    {
      "cell_type": "code",
      "metadata": {
        "id": "LcJFqf0alsxr",
        "colab": {
          "base_uri": "https://localhost:8080/"
        },
        "outputId": "7501b20e-9d85-4bfa-bfcf-e85d5bcdf987"
      },
      "source": [
        "lin"
      ],
      "execution_count": 60,
      "outputs": [
        {
          "output_type": "execute_result",
          "data": {
            "text/plain": [
              "tensor([[-0.1368, -0.3519, -0.1919,  0.5661,  0.4974, -0.1362,  0.7743,  0.0522,\n",
              "         -0.1289, -0.0814]], grad_fn=<AddmmBackward>)"
            ]
          },
          "metadata": {
            "tags": []
          },
          "execution_count": 60
        }
      ]
    },
    {
      "cell_type": "code",
      "metadata": {
        "id": "ewEpebSVluHz",
        "colab": {
          "base_uri": "https://localhost:8080/",
          "height": 248
        },
        "outputId": "04c07329-913c-415e-8e73-40615c1536ae"
      },
      "source": [
        "plt.imshow(lin.detach().numpy(), 'jet')\n",
        "plt.colorbar()\n",
        "plt.show()"
      ],
      "execution_count": 61,
      "outputs": [
        {
          "output_type": "display_data",
          "data": {
            "image/png": "[encoded data removed]",
            "text/plain": [
              "<Figure size 432x288 with 2 Axes>"
            ]
          },
          "metadata": {
            "tags": []
          }
        }
      ]
    },
    {
      "cell_type": "markdown",
      "metadata": {
        "id": "0IjPKDKRl3CV"
      },
      "source": [
        "### Softmax"
      ]
    },
    {
      "cell_type": "code",
      "metadata": {
        "id": "obhBb3O-lzbs"
      },
      "source": [
        "with torch.no_grad():\n",
        "    flatten = image.view(1, 28*28)\n",
        "    lin = nn.Linear(784, 10)(flatten)\n",
        "    softmax = F.softmax(lin, dim=1)"
      ],
      "execution_count": 62,
      "outputs": []
    },
    {
      "cell_type": "code",
      "metadata": {
        "id": "ljgOEyNMmBEE",
        "colab": {
          "base_uri": "https://localhost:8080/"
        },
        "outputId": "5131ab7e-2310-4d9c-8e09-0b37999e7726"
      },
      "source": [
        "softmax"
      ],
      "execution_count": 63,
      "outputs": [
        {
          "output_type": "execute_result",
          "data": {
            "text/plain": [
              "tensor([[0.0676, 0.0341, 0.0700, 0.0373, 0.1777, 0.1145, 0.1482, 0.2336, 0.0588,\n",
              "         0.0583]])"
            ]
          },
          "metadata": {
            "tags": []
          },
          "execution_count": 63
        }
      ]
    },
    {
      "cell_type": "code",
      "metadata": {
        "id": "18ymFSRAmBo7",
        "colab": {
          "base_uri": "https://localhost:8080/"
        },
        "outputId": "5e80e5cd-8c5c-48c9-8c4e-89a41004023d"
      },
      "source": [
        "import numpy as np\n",
        "np.sum(softmax.numpy())"
      ],
      "execution_count": 65,
      "outputs": [
        {
          "output_type": "execute_result",
          "data": {
            "text/plain": [
              "0.99999994"
            ]
          },
          "metadata": {
            "tags": []
          },
          "execution_count": 65
        }
      ]
    },
    {
      "cell_type": "markdown",
      "metadata": {
        "id": "bYh13Bnj5wEN"
      },
      "source": [
        "### F.relu\n",
        "\n",
        "- ReLU 함수를 적용하는 레이어\n",
        "\n",
        "- `nn.ReLU`로도 사용 가능"
      ]
    },
    {
      "cell_type": "code",
      "metadata": {
        "id": "D4VFePpR9_Ak",
        "colab": {
          "base_uri": "https://localhost:8080/"
        },
        "outputId": "5f2b03c0-6a0a-460c-95f1-ddb599dbe784"
      },
      "source": [
        "inputs = torch.randn(4, 3, 28, 28).to(\"cuda\")\n",
        "inputs.shape"
      ],
      "execution_count": 67,
      "outputs": [
        {
          "output_type": "execute_result",
          "data": {
            "text/plain": [
              "torch.Size([4, 3, 28, 28])"
            ]
          },
          "metadata": {
            "tags": []
          },
          "execution_count": 67
        }
      ]
    },
    {
      "cell_type": "code",
      "metadata": {
        "id": "1lKlSiaY5wZW",
        "colab": {
          "base_uri": "https://localhost:8080/"
        },
        "outputId": "d98b6cea-ec9c-4d40-bf6e-22300b6aeef0"
      },
      "source": [
        "layer = nn.Conv2d(3, 20, 5, 1).to(\"cuda\")\n",
        "output = F.relu(layer(inputs))\n",
        "output.shape"
      ],
      "execution_count": 70,
      "outputs": [
        {
          "output_type": "execute_result",
          "data": {
            "text/plain": [
              "torch.Size([4, 20, 24, 24])"
            ]
          },
          "metadata": {
            "tags": []
          },
          "execution_count": 70
        }
      ]
    },
    {
      "cell_type": "markdown",
      "metadata": {
        "id": "0yuABl4h-yye"
      },
      "source": [
        "## Optimizer\n",
        "\n",
        "- `import torch.optim as optim`\n",
        "\n",
        "- `model`의 파라미터를 업데이트\n",
        "\n",
        "- 예시)\n",
        "  ```python\n",
        "  optimizer = torch.optim.Adam(model.parameters(), lr=1e-4, weight_decay=1e-5)\n",
        "  optimizer = optim.SGD(model.parameters(), lr=0.001)\n",
        "  ```\n",
        "\n",
        "- `.zero_grad()`로 초기화\n",
        "- `.step()`으로 업데이트\n",
        "\n"
      ]
    }
  ]
}