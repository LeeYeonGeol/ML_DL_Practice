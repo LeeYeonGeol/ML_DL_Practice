{
  "nbformat": 4,
  "nbformat_minor": 0,
  "metadata": {
    "colab": {
      "name": "CIFAR10(사전학습 모델).ipynb",
      "provenance": [],
      "collapsed_sections": [],
      "toc_visible": true,
      "authorship_tag": "ABX9TyMu6Gy6sWAyZBdmKox8QFPN",
      "include_colab_link": true
    },
    "kernelspec": {
      "name": "python3",
      "display_name": "Python 3"
    },
    "language_info": {
      "name": "python"
    },
    "accelerator": "GPU"
  },
  "cells": [
    {
      "cell_type": "markdown",
      "metadata": {
        "id": "view-in-github",
        "colab_type": "text"
      },
      "source": [
        "<a href=\"https://colab.research.google.com/github/LeeYeonGeol/ML_DL_Practice/blob/main/CIFAR10%20%EC%97%B0%EC%8A%B5%20(%EC%82%AC%EC%A0%84%ED%95%99%EC%8A%B5_%EB%AA%A8%EB%8D%B8).ipynb\" target=\"_parent\"><img src=\"https://colab.research.google.com/assets/colab-badge.svg\" alt=\"Open In Colab\"/></a>"
      ]
    },
    {
      "cell_type": "markdown",
      "metadata": {
        "id": "rFi5CVQwce12"
      },
      "source": [
        "# VGG 모델"
      ]
    },
    {
      "cell_type": "code",
      "metadata": {
        "id": "9HxP0OYG51WT"
      },
      "source": [
        "import numpy as np\n",
        "import pandas as pd\n",
        "import os"
      ],
      "execution_count": 1,
      "outputs": []
    },
    {
      "cell_type": "code",
      "metadata": {
        "id": "tLHAavdtEjCM"
      },
      "source": [
        "from tensorflow.keras.applications import VGG16, ResNet50, ResNet50V2, Xception"
      ],
      "execution_count": 2,
      "outputs": []
    },
    {
      "cell_type": "markdown",
      "metadata": {
        "id": "-bMzb8zTN6T9"
      },
      "source": [
        "## 데이터 전처리"
      ]
    },
    {
      "cell_type": "code",
      "metadata": {
        "id": "tepJdATkV8yM"
      },
      "source": [
        "IMAGE_SIZE = 32\n",
        "BATCH_SIZE = 64"
      ],
      "execution_count": 3,
      "outputs": []
    },
    {
      "cell_type": "code",
      "metadata": {
        "colab": {
          "base_uri": "https://localhost:8080/"
        },
        "id": "52BruUB3NZHx",
        "outputId": "fd427a4b-2a7e-4840-f111-23fbe5b3f985"
      },
      "source": [
        "import tensorflow as tf\n",
        "import numpy as np\n",
        "import pandas as pd\n",
        "\n",
        "import random as python_random\n",
        "from tensorflow.keras.utils import to_categorical\n",
        "from sklearn.model_selection import train_test_split\n",
        "from tensorflow.keras.datasets import cifar10\n",
        "\n",
        "def set_random_seed(seed_value):\n",
        "  np.random.seed(seed_value)\n",
        "  python_random.seed(seed_value)\n",
        "  tf.random.set_seed(seed_value)\n",
        "\n",
        "def get_preprocessed_data(images, labels, scaling=True):\n",
        "  if scaling:\n",
        "    images = np.array(images/255.0, dtype=np.float32)\n",
        "  else:\n",
        "    images = np.array(images, dtype=np.float32)\n",
        "  \n",
        "  labels = np.array(labels, dtype=np.float32)\n",
        "\n",
        "  return images, labels\n",
        "\n",
        "def get_preprocessed_ohe(images, labels):\n",
        "  images, labels = get_preprocessed_data(images, labels, scaling=False)\n",
        "\n",
        "  oh_labels = to_categorical(labels)\n",
        "  return images, oh_labels\n",
        "\n",
        "def get_train_valid_test_set(train_images, train_labels, test_images, test_labels, valid_size=0.15, random_state=2021):\n",
        "  train_images, train_oh_labels = get_preprocessed_ohe(train_images, train_labels)\n",
        "  test_images, test_oh_labels = get_preprocessed_ohe(test_images, test_labels)\n",
        "\n",
        "  tr_images, val_images, tr_oh_labels, val_oh_labels = train_test_split(train_images, train_oh_labels, test_size=valid_size, random_state=random_state)\n",
        "\n",
        "  return (tr_images, tr_oh_labels), (val_images, val_oh_labels), (test_images, test_oh_labels)\n",
        "\n",
        "set_random_seed(2021)\n",
        "\n",
        "(train_images, train_labels), (test_images, test_labels) = cifar10.load_data()\n",
        "print(train_images.shape, train_labels.shape, test_images.shape, test_labels.shape)\n",
        "\n",
        "(tr_images, tr_oh_labels), (val_images, val_oh_labels), (test_images, test_oh_labels) =  \\\n",
        "get_train_valid_test_set(train_images, train_labels, test_images, test_labels, valid_size=0.15, random_state=2021)\n",
        "\n",
        "print(tr_images.shape, tr_oh_labels.shape, val_images.shape, val_oh_labels.shape, test_images.shape, test_oh_labels.shape)"
      ],
      "execution_count": 13,
      "outputs": [
        {
          "output_type": "stream",
          "text": [
            "(50000, 32, 32, 3) (50000, 1) (10000, 32, 32, 3) (10000, 1)\n",
            "(42500, 32, 32, 3) (42500, 10) (7500, 32, 32, 3) (7500, 10) (10000, 32, 32, 3) (10000, 10)\n"
          ],
          "name": "stdout"
        }
      ]
    },
    {
      "cell_type": "code",
      "metadata": {
        "id": "dj-4vXPDQdZU"
      },
      "source": [
        "from tensorflow.keras.preprocessing.image import ImageDataGenerator\n",
        "\n",
        "train_generator = ImageDataGenerator(\n",
        "    horizontal_flip = True,\n",
        "    rescale = 1/255.0\n",
        ")\n",
        "\n",
        "valid_generator = ImageDataGenerator(rescale=1/255.0)\n",
        "\n",
        "flow_tr_gen = train_generator.flow(tr_images, tr_oh_labels, batch_size=BATCH_SIZE, shuffle=True)\n",
        "flow_val_gen = valid_generator.flow(val_images, val_oh_labels, batch_size=BATCH_SIZE, shuffle=False)"
      ],
      "execution_count": 14,
      "outputs": []
    },
    {
      "cell_type": "markdown",
      "metadata": {
        "id": "E5JmVCULRZ8Q"
      },
      "source": [
        "## Keras CNN 모델 생성 함수"
      ]
    },
    {
      "cell_type": "code",
      "metadata": {
        "id": "LY80N5L_RmH4"
      },
      "source": [
        "from tensorflow.keras.models import Sequential, Model\n",
        "from tensorflow.keras.layers import Input, Dense, Conv2D, Dropout, Flatten, Activation, MaxPooling2D, GlobalAveragePooling2D\n",
        "from tensorflow.keras.optimizers import Adam, RMSprop\n",
        "from tensorflow.keras.layers import BatchNormalization\n",
        "from tensorflow.keras.callbacks import ReduceLROnPlateau, EarlyStopping, ModelCheckpoint, LearningRateScheduler\n",
        "\n",
        "def create_model(verbose=False):\n",
        "  input_tensor = Input(shape=(IMAGE_SIZE, IMAGE_SIZE, 3))\n",
        "  base_model = VGG16(input_tensor=input_tensor, include_top=False, weights='imagenet')\n",
        "  bm_output = base_model.output\n",
        "\n",
        "  x = GlobalAveragePooling2D()(bm_output)\n",
        "  # x = Dropout(rate=0.5)(x)\n",
        "  x = Dense(50, activation='relu', name = 'fc1')(x)\n",
        "  # x = Dropout(rate=0.5)(x)\n",
        "  output = Dense(10, activation='softmax', name='output')(x)\n",
        "\n",
        "  model = Model(inputs=input_tensor, outputs= output)\n",
        "  if verbose:\n",
        "    model.summary()\n",
        "  \n",
        "  return model"
      ],
      "execution_count": 15,
      "outputs": []
    },
    {
      "cell_type": "code",
      "metadata": {
        "colab": {
          "base_uri": "https://localhost:8080/"
        },
        "id": "TFJoaoDGSETr",
        "outputId": "b7fbae89-70b7-43cd-f946-1ffa5cab0302"
      },
      "source": [
        "vgg_model = create_model(verbose=True)\n",
        "vgg_model.compile(optimizer=Adam(lr=0.001), loss='categorical_crossentropy', metrics=['accuracy'])\n",
        "\n",
        "rlr_cb = ReduceLROnPlateau(monitor='val_loss', factor=0.2, patience=5, mode='min', verbose=1)\n",
        "ely_cb = EarlyStopping(monitor='val_loss', patience=10, mode='min', verbose=1)"
      ],
      "execution_count": 16,
      "outputs": [
        {
          "output_type": "stream",
          "text": [
            "Model: \"model_1\"\n",
            "_________________________________________________________________\n",
            "Layer (type)                 Output Shape              Param #   \n",
            "=================================================================\n",
            "input_3 (InputLayer)         [(None, 32, 32, 3)]       0         \n",
            "_________________________________________________________________\n",
            "block1_conv1 (Conv2D)        (None, 32, 32, 64)        1792      \n",
            "_________________________________________________________________\n",
            "block1_conv2 (Conv2D)        (None, 32, 32, 64)        36928     \n",
            "_________________________________________________________________\n",
            "block1_pool (MaxPooling2D)   (None, 16, 16, 64)        0         \n",
            "_________________________________________________________________\n",
            "block2_conv1 (Conv2D)        (None, 16, 16, 128)       73856     \n",
            "_________________________________________________________________\n",
            "block2_conv2 (Conv2D)        (None, 16, 16, 128)       147584    \n",
            "_________________________________________________________________\n",
            "block2_pool (MaxPooling2D)   (None, 8, 8, 128)         0         \n",
            "_________________________________________________________________\n",
            "block3_conv1 (Conv2D)        (None, 8, 8, 256)         295168    \n",
            "_________________________________________________________________\n",
            "block3_conv2 (Conv2D)        (None, 8, 8, 256)         590080    \n",
            "_________________________________________________________________\n",
            "block3_conv3 (Conv2D)        (None, 8, 8, 256)         590080    \n",
            "_________________________________________________________________\n",
            "block3_pool (MaxPooling2D)   (None, 4, 4, 256)         0         \n",
            "_________________________________________________________________\n",
            "block4_conv1 (Conv2D)        (None, 4, 4, 512)         1180160   \n",
            "_________________________________________________________________\n",
            "block4_conv2 (Conv2D)        (None, 4, 4, 512)         2359808   \n",
            "_________________________________________________________________\n",
            "block4_conv3 (Conv2D)        (None, 4, 4, 512)         2359808   \n",
            "_________________________________________________________________\n",
            "block4_pool (MaxPooling2D)   (None, 2, 2, 512)         0         \n",
            "_________________________________________________________________\n",
            "block5_conv1 (Conv2D)        (None, 2, 2, 512)         2359808   \n",
            "_________________________________________________________________\n",
            "block5_conv2 (Conv2D)        (None, 2, 2, 512)         2359808   \n",
            "_________________________________________________________________\n",
            "block5_conv3 (Conv2D)        (None, 2, 2, 512)         2359808   \n",
            "_________________________________________________________________\n",
            "block5_pool (MaxPooling2D)   (None, 1, 1, 512)         0         \n",
            "_________________________________________________________________\n",
            "global_average_pooling2d_2 ( (None, 512)               0         \n",
            "_________________________________________________________________\n",
            "fc1 (Dense)                  (None, 50)                25650     \n",
            "_________________________________________________________________\n",
            "output (Dense)               (None, 10)                510       \n",
            "=================================================================\n",
            "Total params: 14,740,848\n",
            "Trainable params: 14,740,848\n",
            "Non-trainable params: 0\n",
            "_________________________________________________________________\n"
          ],
          "name": "stdout"
        }
      ]
    },
    {
      "cell_type": "code",
      "metadata": {
        "colab": {
          "base_uri": "https://localhost:8080/"
        },
        "id": "-d5_hcoJSo2F",
        "outputId": "68a38f72-d073-4fa2-e024-e03902b6fd90"
      },
      "source": [
        "history = vgg_model.fit(flow_tr_gen, epochs=40,\n",
        "                        validation_data=flow_val_gen,\n",
        "                        callbacks=[rlr_cb, ely_cb])"
      ],
      "execution_count": 17,
      "outputs": [
        {
          "output_type": "stream",
          "text": [
            "Epoch 1/40\n",
            "665/665 [==============================] - 26s 37ms/step - loss: 2.1534 - accuracy: 0.1740 - val_loss: 1.5988 - val_accuracy: 0.3409\n",
            "Epoch 2/40\n",
            "665/665 [==============================] - 25s 37ms/step - loss: 1.4721 - accuracy: 0.4175 - val_loss: 1.1206 - val_accuracy: 0.6013\n",
            "Epoch 3/40\n",
            "665/665 [==============================] - 25s 37ms/step - loss: 1.0274 - accuracy: 0.6410 - val_loss: 0.8830 - val_accuracy: 0.7004\n",
            "Epoch 4/40\n",
            "665/665 [==============================] - 25s 37ms/step - loss: 0.8235 - accuracy: 0.7213 - val_loss: 0.8107 - val_accuracy: 0.7345\n",
            "Epoch 5/40\n",
            "665/665 [==============================] - 25s 37ms/step - loss: 0.7292 - accuracy: 0.7564 - val_loss: 0.7349 - val_accuracy: 0.7621\n",
            "Epoch 6/40\n",
            "665/665 [==============================] - 25s 37ms/step - loss: 0.6408 - accuracy: 0.7883 - val_loss: 0.6775 - val_accuracy: 0.7807\n",
            "Epoch 7/40\n",
            "665/665 [==============================] - 25s 37ms/step - loss: 0.5781 - accuracy: 0.8073 - val_loss: 0.6573 - val_accuracy: 0.7880\n",
            "Epoch 8/40\n",
            "665/665 [==============================] - 25s 37ms/step - loss: 0.5458 - accuracy: 0.8212 - val_loss: 0.6660 - val_accuracy: 0.7947\n",
            "Epoch 9/40\n",
            "665/665 [==============================] - 25s 37ms/step - loss: 0.4916 - accuracy: 0.8377 - val_loss: 0.6282 - val_accuracy: 0.8059\n",
            "Epoch 10/40\n",
            "665/665 [==============================] - 25s 37ms/step - loss: 0.4764 - accuracy: 0.8447 - val_loss: 0.6146 - val_accuracy: 0.8077\n",
            "Epoch 11/40\n",
            "665/665 [==============================] - 25s 37ms/step - loss: 0.4330 - accuracy: 0.8575 - val_loss: 0.6011 - val_accuracy: 0.8180\n",
            "Epoch 12/40\n",
            "665/665 [==============================] - 25s 37ms/step - loss: 0.4049 - accuracy: 0.8675 - val_loss: 0.5581 - val_accuracy: 0.8241\n",
            "Epoch 13/40\n",
            "665/665 [==============================] - 25s 37ms/step - loss: 0.3855 - accuracy: 0.8729 - val_loss: 0.5876 - val_accuracy: 0.8240\n",
            "Epoch 14/40\n",
            "665/665 [==============================] - 25s 37ms/step - loss: 0.3668 - accuracy: 0.8816 - val_loss: 0.5484 - val_accuracy: 0.8259\n",
            "Epoch 15/40\n",
            "665/665 [==============================] - 25s 37ms/step - loss: 0.3416 - accuracy: 0.8912 - val_loss: 0.6479 - val_accuracy: 0.8163\n",
            "Epoch 16/40\n",
            "665/665 [==============================] - 25s 37ms/step - loss: 0.3181 - accuracy: 0.8957 - val_loss: 0.5835 - val_accuracy: 0.8284\n",
            "Epoch 17/40\n",
            "665/665 [==============================] - 25s 37ms/step - loss: 0.2972 - accuracy: 0.9023 - val_loss: 0.6187 - val_accuracy: 0.8201\n",
            "Epoch 18/40\n",
            "665/665 [==============================] - 25s 37ms/step - loss: 0.3001 - accuracy: 0.9054 - val_loss: 0.5433 - val_accuracy: 0.8313\n",
            "Epoch 19/40\n",
            "665/665 [==============================] - 25s 37ms/step - loss: 0.2753 - accuracy: 0.9128 - val_loss: 0.5881 - val_accuracy: 0.8313\n",
            "Epoch 20/40\n",
            "665/665 [==============================] - 25s 37ms/step - loss: 0.2606 - accuracy: 0.9177 - val_loss: 0.5961 - val_accuracy: 0.8367\n",
            "Epoch 21/40\n",
            "665/665 [==============================] - 25s 37ms/step - loss: 0.2757 - accuracy: 0.9121 - val_loss: 0.5832 - val_accuracy: 0.8335\n",
            "Epoch 22/40\n",
            "665/665 [==============================] - 25s 37ms/step - loss: 0.2500 - accuracy: 0.9213 - val_loss: 0.5943 - val_accuracy: 0.8357\n",
            "Epoch 23/40\n",
            "665/665 [==============================] - 25s 37ms/step - loss: 0.2270 - accuracy: 0.9280 - val_loss: 0.6363 - val_accuracy: 0.8351\n",
            "\n",
            "Epoch 00023: ReduceLROnPlateau reducing learning rate to 0.00020000000949949026.\n",
            "Epoch 24/40\n",
            "665/665 [==============================] - 25s 37ms/step - loss: 0.1475 - accuracy: 0.9516 - val_loss: 0.5704 - val_accuracy: 0.8603\n",
            "Epoch 25/40\n",
            "665/665 [==============================] - 25s 37ms/step - loss: 0.0887 - accuracy: 0.9726 - val_loss: 0.6499 - val_accuracy: 0.8615\n",
            "Epoch 26/40\n",
            "665/665 [==============================] - 25s 37ms/step - loss: 0.0653 - accuracy: 0.9807 - val_loss: 0.6780 - val_accuracy: 0.8583\n",
            "Epoch 27/40\n",
            "665/665 [==============================] - 25s 37ms/step - loss: 0.0579 - accuracy: 0.9837 - val_loss: 0.7501 - val_accuracy: 0.8603\n",
            "Epoch 28/40\n",
            "665/665 [==============================] - 25s 37ms/step - loss: 0.0397 - accuracy: 0.9880 - val_loss: 0.7983 - val_accuracy: 0.8585\n",
            "\n",
            "Epoch 00028: ReduceLROnPlateau reducing learning rate to 4.0000001899898055e-05.\n",
            "Epoch 00028: early stopping\n"
          ],
          "name": "stdout"
        }
      ]
    },
    {
      "cell_type": "code",
      "metadata": {
        "colab": {
          "base_uri": "https://localhost:8080/",
          "height": 265
        },
        "id": "Cg5zpOptTJjE",
        "outputId": "ca9245df-7be9-4eba-b33a-6a25da1f62ba"
      },
      "source": [
        "import matplotlib.pyplot as plt\n",
        "%matplotlib inline\n",
        "\n",
        "def show_history(history):\n",
        "  plt.figure(figsize=(8, 4))\n",
        "  plt.yticks(np.arange(0, 1, 0.05))\n",
        "  plt.xticks(np.arange(0, 30, 2))\n",
        "  plt.plot(history.history['accuracy'], label='train')\n",
        "  plt.plot(history.history['val_accuracy'], label='valid')\n",
        "  plt.legend()\n",
        "\n",
        "show_history(history)"
      ],
      "execution_count": 18,
      "outputs": [
        {
          "output_type": "display_data",
          "data": {
            "image/png": "[encoded data removed]",
            "text/plain": [
              "<Figure size 576x288 with 1 Axes>"
            ]
          },
          "metadata": {
            "tags": [],
            "needs_background": "light"
          }
        }
      ]
    },
    {
      "cell_type": "markdown",
      "metadata": {
        "id": "99T2hhAlcmNT"
      },
      "source": [
        "# Xception 모델"
      ]
    },
    {
      "cell_type": "markdown",
      "metadata": {
        "id": "N7WH8h4xiUly"
      },
      "source": [
        "## 지금까지의 로직들을 함수화"
      ]
    },
    {
      "cell_type": "code",
      "metadata": {
        "id": "cioMkFVgcl7G"
      },
      "source": [
        "from tensorflow.keras.models import Sequential, Model\n",
        "from tensorflow.keras.layers import Input, Dense, Conv2D, Dropout, Flatten, Activation, MaxPooling2D, GlobalAveragePooling2D\n",
        "from tensorflow.keras.optimizers import Adam, RMSprop\n",
        "from tensorflow.keras.callbacks import ReduceLROnPlateau, EarlyStopping, ModelCheckpoint, LearningRateScheduler\n",
        "from tensorflow.keras.preprocessing.image import ImageDataGenerator\n",
        "\n",
        "import tensorflow as tf\n",
        "import numpy as np\n",
        "import pandas as pd\n",
        "import cv2\n",
        "import random as python_random\n",
        "from tensorflow.keras.utils import to_categorical\n",
        "from sklearn.model_selection import train_test_split\n",
        "from tensorflow.keras.datasets import cifar10\n",
        "\n",
        "from tensorflow.keras.applications.vgg16 import VGG16\n",
        "from tensorflow.keras.applications import ResNet50V2\n",
        "from tensorflow.keras.applications import Xception\n",
        "\n",
        "def set_random_seed(seed_value):\n",
        "  np.random.seed(seed_value)\n",
        "  python_random.seed(seed_value)\n",
        "  tf.random.set_seed(seed_value)\n",
        "\n",
        "def get_preprocessed_data(images, labels, scaling=True):\n",
        "  if scaling:\n",
        "    images = np.array(images/255.0, dtype=np.float32)\n",
        "  else:\n",
        "    images = np.array(images, dtype=np.float32)\n",
        "  \n",
        "  labels = np.array(labels, dtype=np.float32)\n",
        "\n",
        "  return images, labels\n",
        "\n",
        "def get_preprocessed_ohe(images, labels):\n",
        "  images, labels = get_preprocessed_data(images, labels, scaling=False)\n",
        "  oh_labels = to_categorical(labels)\n",
        "\n",
        "  return images, oh_labels\n",
        "\n",
        "def get_train_valid_test_set(train_images, train_labels, test_images, test_labels, valid_size=0.15, random_state=2021):\n",
        "  train_images, train_oh_labels = get_preprocessed_ohe(train_images, train_labels)\n",
        "  test_images, test_oh_labels = get_preprocessed_ohe(test_images, test_labels)\n",
        "\n",
        "  tr_images, val_images, tr_oh_labels, val_oh_labels = train_test_split(train_images, train_oh_labels, test_size=valid_size, random_state=random_state)\n",
        "\n",
        "  return (tr_images, tr_oh_labels), (val_images, val_oh_labels), (test_images, test_oh_labels)\n",
        "\n",
        "def get_resized_images(images, resize=64):\n",
        "  image_cnt = images.shape[0]\n",
        "  resized_images = np.zeros((images.shape[0], resize, resize, 3))\n",
        "  for i in range(image_cnt):\n",
        "    resized_image = cv2.resize(images[i], (resize, resize))\n",
        "    resized_images[i] = resized_image\n",
        "\n",
        "  return resized_images\n",
        "\n",
        "def create_model(model_name='vgg16', verbose=False):\n",
        "  input_tensor = Input(shape=(IMAGE_SIZE, IMAGE_SIZE, 3))\n",
        "  if model_name == 'vgg16':\n",
        "    base_model = VGG16(input_tenser=input_tensor, include_top=False, weights='imagesnet')\n",
        "  elif model_name == 'resnet50':\n",
        "    base_model = ResNet50V2(input_tensor=input_tensor, include_top=False, weighs='imagenet')\n",
        "  elif model_name == 'xception':\n",
        "    base_model = Xception(input_tensor=input_tensor, include_top=False, weights='imagenet')\n",
        "\n",
        "  bm_output = base_model.output\n",
        "\n",
        "  x = GlobalAveragePooling2D()(bm_output)\n",
        "  if model_name != 'vgg16':\n",
        "    x = Dropout(rate=0.5)(x)\n",
        "  x = Dense(50, activation='relu', name='fc1')(x)\n",
        "  output = Dense(10, activation='softmax', name='output')(x)\n",
        "\n",
        "  model = Model(inputs=input_tensor, outputs=output)\n",
        "  model.summary()\n",
        "\n",
        "  return model"
      ],
      "execution_count": 1,
      "outputs": []
    },
    {
      "cell_type": "code",
      "metadata": {
        "id": "Y6rC__T0nbVn"
      },
      "source": [
        "IMAGE_SIZE = 32\n",
        "BATCH_SIZE = 64\n",
        "\n",
        "def do_cifar10_train_evaluation(image_size=IMAGE_SIZE, model_name='vgg16'):\n",
        "  set_random_seed(2021)\n",
        "  (train_images, train_labels), (test_images, test_labels) = cifar10.load_data()\n",
        "  (tr_images, tr_oh_labels), (val_images, val_oh_labels), (test_images, test_oh_labels) = \\\n",
        "      get_train_valid_test_set(train_images, train_labels, test_images, test_labels, valid_size=0.15, random_state=2021)\n",
        "  print('데이터 세트 shape:', tr_images.shape, tr_oh_labels.shape, val_images.shape, val_oh_labels.shape, test_images.shape, test_oh_labels.shape)\n",
        "\n",
        "  if image_size > 32:\n",
        "    tr_images = get_resized_images(tr_images)\n",
        "    val_images = get_resized_images(val_images)\n",
        "    test_images = get_resized_images(test_images)\n",
        "  \n",
        "  train_generator = ImageDataGenerator(\n",
        "      horizontal_flip = True,\n",
        "      rescale = 1/255.0\n",
        "  )\n",
        "\n",
        "  valid_generator = ImageDataGenerator(rescale=1/255.0)\n",
        "  test_generator = ImageDataGenerator(rescale=1/255.0)\n",
        "\n",
        "  flow_tr_gen = train_generator.flow(tr_images, tr_oh_labels, batch_size=BATCH_SIZE, shuffle=True)\n",
        "  flow_val_gen = valid_generator.flow(val_images, val_oh_labels, batch_size=BATCH_SIZE, shuffle=False)\n",
        "  flow_test_gen = train_generator.flow(test_images, test_oh_labels, batch_size=BATCH_SIZE ,shuffle=False)\n",
        "\n",
        "  model = create_model(model_name=model_name, verbose=True)\n",
        "  model.compile(optimizer=Adam(lr=0.001), loss='categorical_crossentropy', metrics=['accuracy'])\n",
        "\n",
        "  rlr_cb = ReduceLROnPlateau(monitor='val_loss', factor=0.2, patience=5, mode='min', verbose=1)\n",
        "  ely_cb = EarlyStopping(monitor='val_loss', patience=10, mode='min', verbose=1)\n",
        "\n",
        "  tr_data_len = tr_images.shape[0]\n",
        "  val_data_len = val_images.shape[0]\n",
        "  history = model.fit(flow_tr_gen, epochs=40,\n",
        "                      steps_per_epoch=int(np.ceil(tr_data_len/BATCH_SIZE)),\n",
        "                      validation_data=flow_val_gen, validation_steps=int(np.ceil(val_data_len/BATCH_SIZE)),\n",
        "                      callbacks=[rlr_cb, ely_cb])\n",
        "  \n",
        "  evaluation_result = model.evaluate(flow_test_gen)\n",
        "  print('테스트 데이터 세트 evaluation 결과:', evaluation_result)\n",
        "  return history, evaluation_result"
      ],
      "execution_count": 2,
      "outputs": []
    },
    {
      "cell_type": "code",
      "metadata": {
        "colab": {
          "base_uri": "https://localhost:8080/"
        },
        "id": "xLaHnbR8raYl",
        "outputId": "f9ea214e-d645-459b-8b23-c1c2ff2dee5a"
      },
      "source": [
        "import gc\n",
        "gc.collect()"
      ],
      "execution_count": 3,
      "outputs": [
        {
          "output_type": "execute_result",
          "data": {
            "text/plain": [
              "99"
            ]
          },
          "metadata": {
            "tags": []
          },
          "execution_count": 3
        }
      ]
    },
    {
      "cell_type": "code",
      "metadata": {
        "colab": {
          "base_uri": "https://localhost:8080/"
        },
        "id": "ly_p5mFEsMEO",
        "outputId": "aadbd91d-dfa9-478d-f946-51e2ea7db30a"
      },
      "source": [
        "history, evaluation_result = do_cifar10_train_evaluation(image_size=64, model_name='xception')"
      ],
      "execution_count": 4,
      "outputs": [
        {
          "output_type": "stream",
          "text": [
            "Downloading data from https://www.cs.toronto.edu/~kriz/cifar-10-python.tar.gz\n",
            "170500096/170498071 [==============================] - 4s 0us/step\n",
            "데이터 세트 shape: (42500, 32, 32, 3) (42500, 10) (7500, 32, 32, 3) (7500, 10) (10000, 32, 32, 3) (10000, 10)\n",
            "Downloading data from https://storage.googleapis.com/tensorflow/keras-applications/xception/xception_weights_tf_dim_ordering_tf_kernels_notop.h5\n",
            "83689472/83683744 [==============================] - 1s 0us/step\n",
            "Model: \"model\"\n",
            "__________________________________________________________________________________________________\n",
            "Layer (type)                    Output Shape         Param #     Connected to                     \n",
            "==================================================================================================\n",
            "input_1 (InputLayer)            [(None, 32, 32, 3)]  0                                            \n",
            "__________________________________________________________________________________________________\n",
            "block1_conv1 (Conv2D)           (None, 15, 15, 32)   864         input_1[0][0]                    \n",
            "__________________________________________________________________________________________________\n",
            "block1_conv1_bn (BatchNormaliza (None, 15, 15, 32)   128         block1_conv1[0][0]               \n",
            "__________________________________________________________________________________________________\n",
            "block1_conv1_act (Activation)   (None, 15, 15, 32)   0           block1_conv1_bn[0][0]            \n",
            "__________________________________________________________________________________________________\n",
            "block1_conv2 (Conv2D)           (None, 13, 13, 64)   18432       block1_conv1_act[0][0]           \n",
            "__________________________________________________________________________________________________\n",
            "block1_conv2_bn (BatchNormaliza (None, 13, 13, 64)   256         block1_conv2[0][0]               \n",
            "__________________________________________________________________________________________________\n",
            "block1_conv2_act (Activation)   (None, 13, 13, 64)   0           block1_conv2_bn[0][0]            \n",
            "__________________________________________________________________________________________________\n",
            "block2_sepconv1 (SeparableConv2 (None, 13, 13, 128)  8768        block1_conv2_act[0][0]           \n",
            "__________________________________________________________________________________________________\n",
            "block2_sepconv1_bn (BatchNormal (None, 13, 13, 128)  512         block2_sepconv1[0][0]            \n",
            "__________________________________________________________________________________________________\n",
            "block2_sepconv2_act (Activation (None, 13, 13, 128)  0           block2_sepconv1_bn[0][0]         \n",
            "__________________________________________________________________________________________________\n",
            "block2_sepconv2 (SeparableConv2 (None, 13, 13, 128)  17536       block2_sepconv2_act[0][0]        \n",
            "__________________________________________________________________________________________________\n",
            "block2_sepconv2_bn (BatchNormal (None, 13, 13, 128)  512         block2_sepconv2[0][0]            \n",
            "__________________________________________________________________________________________________\n",
            "conv2d (Conv2D)                 (None, 7, 7, 128)    8192        block1_conv2_act[0][0]           \n",
            "__________________________________________________________________________________________________\n",
            "block2_pool (MaxPooling2D)      (None, 7, 7, 128)    0           block2_sepconv2_bn[0][0]         \n",
            "__________________________________________________________________________________________________\n",
            "batch_normalization (BatchNorma (None, 7, 7, 128)    512         conv2d[0][0]                     \n",
            "__________________________________________________________________________________________________\n",
            "add (Add)                       (None, 7, 7, 128)    0           block2_pool[0][0]                \n",
            "                                                                 batch_normalization[0][0]        \n",
            "__________________________________________________________________________________________________\n",
            "block3_sepconv1_act (Activation (None, 7, 7, 128)    0           add[0][0]                        \n",
            "__________________________________________________________________________________________________\n",
            "block3_sepconv1 (SeparableConv2 (None, 7, 7, 256)    33920       block3_sepconv1_act[0][0]        \n",
            "__________________________________________________________________________________________________\n",
            "block3_sepconv1_bn (BatchNormal (None, 7, 7, 256)    1024        block3_sepconv1[0][0]            \n",
            "__________________________________________________________________________________________________\n",
            "block3_sepconv2_act (Activation (None, 7, 7, 256)    0           block3_sepconv1_bn[0][0]         \n",
            "__________________________________________________________________________________________________\n",
            "block3_sepconv2 (SeparableConv2 (None, 7, 7, 256)    67840       block3_sepconv2_act[0][0]        \n",
            "__________________________________________________________________________________________________\n",
            "block3_sepconv2_bn (BatchNormal (None, 7, 7, 256)    1024        block3_sepconv2[0][0]            \n",
            "__________________________________________________________________________________________________\n",
            "conv2d_1 (Conv2D)               (None, 4, 4, 256)    32768       add[0][0]                        \n",
            "__________________________________________________________________________________________________\n",
            "block3_pool (MaxPooling2D)      (None, 4, 4, 256)    0           block3_sepconv2_bn[0][0]         \n",
            "__________________________________________________________________________________________________\n",
            "batch_normalization_1 (BatchNor (None, 4, 4, 256)    1024        conv2d_1[0][0]                   \n",
            "__________________________________________________________________________________________________\n",
            "add_1 (Add)                     (None, 4, 4, 256)    0           block3_pool[0][0]                \n",
            "                                                                 batch_normalization_1[0][0]      \n",
            "__________________________________________________________________________________________________\n",
            "block4_sepconv1_act (Activation (None, 4, 4, 256)    0           add_1[0][0]                      \n",
            "__________________________________________________________________________________________________\n",
            "block4_sepconv1 (SeparableConv2 (None, 4, 4, 728)    188672      block4_sepconv1_act[0][0]        \n",
            "__________________________________________________________________________________________________\n",
            "block4_sepconv1_bn (BatchNormal (None, 4, 4, 728)    2912        block4_sepconv1[0][0]            \n",
            "__________________________________________________________________________________________________\n",
            "block4_sepconv2_act (Activation (None, 4, 4, 728)    0           block4_sepconv1_bn[0][0]         \n",
            "__________________________________________________________________________________________________\n",
            "block4_sepconv2 (SeparableConv2 (None, 4, 4, 728)    536536      block4_sepconv2_act[0][0]        \n",
            "__________________________________________________________________________________________________\n",
            "block4_sepconv2_bn (BatchNormal (None, 4, 4, 728)    2912        block4_sepconv2[0][0]            \n",
            "__________________________________________________________________________________________________\n",
            "conv2d_2 (Conv2D)               (None, 2, 2, 728)    186368      add_1[0][0]                      \n",
            "__________________________________________________________________________________________________\n",
            "block4_pool (MaxPooling2D)      (None, 2, 2, 728)    0           block4_sepconv2_bn[0][0]         \n",
            "__________________________________________________________________________________________________\n",
            "batch_normalization_2 (BatchNor (None, 2, 2, 728)    2912        conv2d_2[0][0]                   \n",
            "__________________________________________________________________________________________________\n",
            "add_2 (Add)                     (None, 2, 2, 728)    0           block4_pool[0][0]                \n",
            "                                                                 batch_normalization_2[0][0]      \n",
            "__________________________________________________________________________________________________\n",
            "block5_sepconv1_act (Activation (None, 2, 2, 728)    0           add_2[0][0]                      \n",
            "__________________________________________________________________________________________________\n",
            "block5_sepconv1 (SeparableConv2 (None, 2, 2, 728)    536536      block5_sepconv1_act[0][0]        \n",
            "__________________________________________________________________________________________________\n",
            "block5_sepconv1_bn (BatchNormal (None, 2, 2, 728)    2912        block5_sepconv1[0][0]            \n",
            "__________________________________________________________________________________________________\n",
            "block5_sepconv2_act (Activation (None, 2, 2, 728)    0           block5_sepconv1_bn[0][0]         \n",
            "__________________________________________________________________________________________________\n",
            "block5_sepconv2 (SeparableConv2 (None, 2, 2, 728)    536536      block5_sepconv2_act[0][0]        \n",
            "__________________________________________________________________________________________________\n",
            "block5_sepconv2_bn (BatchNormal (None, 2, 2, 728)    2912        block5_sepconv2[0][0]            \n",
            "__________________________________________________________________________________________________\n",
            "block5_sepconv3_act (Activation (None, 2, 2, 728)    0           block5_sepconv2_bn[0][0]         \n",
            "__________________________________________________________________________________________________\n",
            "block5_sepconv3 (SeparableConv2 (None, 2, 2, 728)    536536      block5_sepconv3_act[0][0]        \n",
            "__________________________________________________________________________________________________\n",
            "block5_sepconv3_bn (BatchNormal (None, 2, 2, 728)    2912        block5_sepconv3[0][0]            \n",
            "__________________________________________________________________________________________________\n",
            "add_3 (Add)                     (None, 2, 2, 728)    0           block5_sepconv3_bn[0][0]         \n",
            "                                                                 add_2[0][0]                      \n",
            "__________________________________________________________________________________________________\n",
            "block6_sepconv1_act (Activation (None, 2, 2, 728)    0           add_3[0][0]                      \n",
            "__________________________________________________________________________________________________\n",
            "block6_sepconv1 (SeparableConv2 (None, 2, 2, 728)    536536      block6_sepconv1_act[0][0]        \n",
            "__________________________________________________________________________________________________\n",
            "block6_sepconv1_bn (BatchNormal (None, 2, 2, 728)    2912        block6_sepconv1[0][0]            \n",
            "__________________________________________________________________________________________________\n",
            "block6_sepconv2_act (Activation (None, 2, 2, 728)    0           block6_sepconv1_bn[0][0]         \n",
            "__________________________________________________________________________________________________\n",
            "block6_sepconv2 (SeparableConv2 (None, 2, 2, 728)    536536      block6_sepconv2_act[0][0]        \n",
            "__________________________________________________________________________________________________\n",
            "block6_sepconv2_bn (BatchNormal (None, 2, 2, 728)    2912        block6_sepconv2[0][0]            \n",
            "__________________________________________________________________________________________________\n",
            "block6_sepconv3_act (Activation (None, 2, 2, 728)    0           block6_sepconv2_bn[0][0]         \n",
            "__________________________________________________________________________________________________\n",
            "block6_sepconv3 (SeparableConv2 (None, 2, 2, 728)    536536      block6_sepconv3_act[0][0]        \n",
            "__________________________________________________________________________________________________\n",
            "block6_sepconv3_bn (BatchNormal (None, 2, 2, 728)    2912        block6_sepconv3[0][0]            \n",
            "__________________________________________________________________________________________________\n",
            "add_4 (Add)                     (None, 2, 2, 728)    0           block6_sepconv3_bn[0][0]         \n",
            "                                                                 add_3[0][0]                      \n",
            "__________________________________________________________________________________________________\n",
            "block7_sepconv1_act (Activation (None, 2, 2, 728)    0           add_4[0][0]                      \n",
            "__________________________________________________________________________________________________\n",
            "block7_sepconv1 (SeparableConv2 (None, 2, 2, 728)    536536      block7_sepconv1_act[0][0]        \n",
            "__________________________________________________________________________________________________\n",
            "block7_sepconv1_bn (BatchNormal (None, 2, 2, 728)    2912        block7_sepconv1[0][0]            \n",
            "__________________________________________________________________________________________________\n",
            "block7_sepconv2_act (Activation (None, 2, 2, 728)    0           block7_sepconv1_bn[0][0]         \n",
            "__________________________________________________________________________________________________\n",
            "block7_sepconv2 (SeparableConv2 (None, 2, 2, 728)    536536      block7_sepconv2_act[0][0]        \n",
            "__________________________________________________________________________________________________\n",
            "block7_sepconv2_bn (BatchNormal (None, 2, 2, 728)    2912        block7_sepconv2[0][0]            \n",
            "__________________________________________________________________________________________________\n",
            "block7_sepconv3_act (Activation (None, 2, 2, 728)    0           block7_sepconv2_bn[0][0]         \n",
            "__________________________________________________________________________________________________\n",
            "block7_sepconv3 (SeparableConv2 (None, 2, 2, 728)    536536      block7_sepconv3_act[0][0]        \n",
            "__________________________________________________________________________________________________\n",
            "block7_sepconv3_bn (BatchNormal (None, 2, 2, 728)    2912        block7_sepconv3[0][0]            \n",
            "__________________________________________________________________________________________________\n",
            "add_5 (Add)                     (None, 2, 2, 728)    0           block7_sepconv3_bn[0][0]         \n",
            "                                                                 add_4[0][0]                      \n",
            "__________________________________________________________________________________________________\n",
            "block8_sepconv1_act (Activation (None, 2, 2, 728)    0           add_5[0][0]                      \n",
            "__________________________________________________________________________________________________\n",
            "block8_sepconv1 (SeparableConv2 (None, 2, 2, 728)    536536      block8_sepconv1_act[0][0]        \n",
            "__________________________________________________________________________________________________\n",
            "block8_sepconv1_bn (BatchNormal (None, 2, 2, 728)    2912        block8_sepconv1[0][0]            \n",
            "__________________________________________________________________________________________________\n",
            "block8_sepconv2_act (Activation (None, 2, 2, 728)    0           block8_sepconv1_bn[0][0]         \n",
            "__________________________________________________________________________________________________\n",
            "block8_sepconv2 (SeparableConv2 (None, 2, 2, 728)    536536      block8_sepconv2_act[0][0]        \n",
            "__________________________________________________________________________________________________\n",
            "block8_sepconv2_bn (BatchNormal (None, 2, 2, 728)    2912        block8_sepconv2[0][0]            \n",
            "__________________________________________________________________________________________________\n",
            "block8_sepconv3_act (Activation (None, 2, 2, 728)    0           block8_sepconv2_bn[0][0]         \n",
            "__________________________________________________________________________________________________\n",
            "block8_sepconv3 (SeparableConv2 (None, 2, 2, 728)    536536      block8_sepconv3_act[0][0]        \n",
            "__________________________________________________________________________________________________\n",
            "block8_sepconv3_bn (BatchNormal (None, 2, 2, 728)    2912        block8_sepconv3[0][0]            \n",
            "__________________________________________________________________________________________________\n",
            "add_6 (Add)                     (None, 2, 2, 728)    0           block8_sepconv3_bn[0][0]         \n",
            "                                                                 add_5[0][0]                      \n",
            "__________________________________________________________________________________________________\n",
            "block9_sepconv1_act (Activation (None, 2, 2, 728)    0           add_6[0][0]                      \n",
            "__________________________________________________________________________________________________\n",
            "block9_sepconv1 (SeparableConv2 (None, 2, 2, 728)    536536      block9_sepconv1_act[0][0]        \n",
            "__________________________________________________________________________________________________\n",
            "block9_sepconv1_bn (BatchNormal (None, 2, 2, 728)    2912        block9_sepconv1[0][0]            \n",
            "__________________________________________________________________________________________________\n",
            "block9_sepconv2_act (Activation (None, 2, 2, 728)    0           block9_sepconv1_bn[0][0]         \n",
            "__________________________________________________________________________________________________\n",
            "block9_sepconv2 (SeparableConv2 (None, 2, 2, 728)    536536      block9_sepconv2_act[0][0]        \n",
            "__________________________________________________________________________________________________\n",
            "block9_sepconv2_bn (BatchNormal (None, 2, 2, 728)    2912        block9_sepconv2[0][0]            \n",
            "__________________________________________________________________________________________________\n",
            "block9_sepconv3_act (Activation (None, 2, 2, 728)    0           block9_sepconv2_bn[0][0]         \n",
            "__________________________________________________________________________________________________\n",
            "block9_sepconv3 (SeparableConv2 (None, 2, 2, 728)    536536      block9_sepconv3_act[0][0]        \n",
            "__________________________________________________________________________________________________\n",
            "block9_sepconv3_bn (BatchNormal (None, 2, 2, 728)    2912        block9_sepconv3[0][0]            \n",
            "__________________________________________________________________________________________________\n",
            "add_7 (Add)                     (None, 2, 2, 728)    0           block9_sepconv3_bn[0][0]         \n",
            "                                                                 add_6[0][0]                      \n",
            "__________________________________________________________________________________________________\n",
            "block10_sepconv1_act (Activatio (None, 2, 2, 728)    0           add_7[0][0]                      \n",
            "__________________________________________________________________________________________________\n",
            "block10_sepconv1 (SeparableConv (None, 2, 2, 728)    536536      block10_sepconv1_act[0][0]       \n",
            "__________________________________________________________________________________________________\n",
            "block10_sepconv1_bn (BatchNorma (None, 2, 2, 728)    2912        block10_sepconv1[0][0]           \n",
            "__________________________________________________________________________________________________\n",
            "block10_sepconv2_act (Activatio (None, 2, 2, 728)    0           block10_sepconv1_bn[0][0]        \n",
            "__________________________________________________________________________________________________\n",
            "block10_sepconv2 (SeparableConv (None, 2, 2, 728)    536536      block10_sepconv2_act[0][0]       \n",
            "__________________________________________________________________________________________________\n",
            "block10_sepconv2_bn (BatchNorma (None, 2, 2, 728)    2912        block10_sepconv2[0][0]           \n",
            "__________________________________________________________________________________________________\n",
            "block10_sepconv3_act (Activatio (None, 2, 2, 728)    0           block10_sepconv2_bn[0][0]        \n",
            "__________________________________________________________________________________________________\n",
            "block10_sepconv3 (SeparableConv (None, 2, 2, 728)    536536      block10_sepconv3_act[0][0]       \n",
            "__________________________________________________________________________________________________\n",
            "block10_sepconv3_bn (BatchNorma (None, 2, 2, 728)    2912        block10_sepconv3[0][0]           \n",
            "__________________________________________________________________________________________________\n",
            "add_8 (Add)                     (None, 2, 2, 728)    0           block10_sepconv3_bn[0][0]        \n",
            "                                                                 add_7[0][0]                      \n",
            "__________________________________________________________________________________________________\n",
            "block11_sepconv1_act (Activatio (None, 2, 2, 728)    0           add_8[0][0]                      \n",
            "__________________________________________________________________________________________________\n",
            "block11_sepconv1 (SeparableConv (None, 2, 2, 728)    536536      block11_sepconv1_act[0][0]       \n",
            "__________________________________________________________________________________________________\n",
            "block11_sepconv1_bn (BatchNorma (None, 2, 2, 728)    2912        block11_sepconv1[0][0]           \n",
            "__________________________________________________________________________________________________\n",
            "block11_sepconv2_act (Activatio (None, 2, 2, 728)    0           block11_sepconv1_bn[0][0]        \n",
            "__________________________________________________________________________________________________\n",
            "block11_sepconv2 (SeparableConv (None, 2, 2, 728)    536536      block11_sepconv2_act[0][0]       \n",
            "__________________________________________________________________________________________________\n",
            "block11_sepconv2_bn (BatchNorma (None, 2, 2, 728)    2912        block11_sepconv2[0][0]           \n",
            "__________________________________________________________________________________________________\n",
            "block11_sepconv3_act (Activatio (None, 2, 2, 728)    0           block11_sepconv2_bn[0][0]        \n",
            "__________________________________________________________________________________________________\n",
            "block11_sepconv3 (SeparableConv (None, 2, 2, 728)    536536      block11_sepconv3_act[0][0]       \n",
            "__________________________________________________________________________________________________\n",
            "block11_sepconv3_bn (BatchNorma (None, 2, 2, 728)    2912        block11_sepconv3[0][0]           \n",
            "__________________________________________________________________________________________________\n",
            "add_9 (Add)                     (None, 2, 2, 728)    0           block11_sepconv3_bn[0][0]        \n",
            "                                                                 add_8[0][0]                      \n",
            "__________________________________________________________________________________________________\n",
            "block12_sepconv1_act (Activatio (None, 2, 2, 728)    0           add_9[0][0]                      \n",
            "__________________________________________________________________________________________________\n",
            "block12_sepconv1 (SeparableConv (None, 2, 2, 728)    536536      block12_sepconv1_act[0][0]       \n",
            "__________________________________________________________________________________________________\n",
            "block12_sepconv1_bn (BatchNorma (None, 2, 2, 728)    2912        block12_sepconv1[0][0]           \n",
            "__________________________________________________________________________________________________\n",
            "block12_sepconv2_act (Activatio (None, 2, 2, 728)    0           block12_sepconv1_bn[0][0]        \n",
            "__________________________________________________________________________________________________\n",
            "block12_sepconv2 (SeparableConv (None, 2, 2, 728)    536536      block12_sepconv2_act[0][0]       \n",
            "__________________________________________________________________________________________________\n",
            "block12_sepconv2_bn (BatchNorma (None, 2, 2, 728)    2912        block12_sepconv2[0][0]           \n",
            "__________________________________________________________________________________________________\n",
            "block12_sepconv3_act (Activatio (None, 2, 2, 728)    0           block12_sepconv2_bn[0][0]        \n",
            "__________________________________________________________________________________________________\n",
            "block12_sepconv3 (SeparableConv (None, 2, 2, 728)    536536      block12_sepconv3_act[0][0]       \n",
            "__________________________________________________________________________________________________\n",
            "block12_sepconv3_bn (BatchNorma (None, 2, 2, 728)    2912        block12_sepconv3[0][0]           \n",
            "__________________________________________________________________________________________________\n",
            "add_10 (Add)                    (None, 2, 2, 728)    0           block12_sepconv3_bn[0][0]        \n",
            "                                                                 add_9[0][0]                      \n",
            "__________________________________________________________________________________________________\n",
            "block13_sepconv1_act (Activatio (None, 2, 2, 728)    0           add_10[0][0]                     \n",
            "__________________________________________________________________________________________________\n",
            "block13_sepconv1 (SeparableConv (None, 2, 2, 728)    536536      block13_sepconv1_act[0][0]       \n",
            "__________________________________________________________________________________________________\n",
            "block13_sepconv1_bn (BatchNorma (None, 2, 2, 728)    2912        block13_sepconv1[0][0]           \n",
            "__________________________________________________________________________________________________\n",
            "block13_sepconv2_act (Activatio (None, 2, 2, 728)    0           block13_sepconv1_bn[0][0]        \n",
            "__________________________________________________________________________________________________\n",
            "block13_sepconv2 (SeparableConv (None, 2, 2, 1024)   752024      block13_sepconv2_act[0][0]       \n",
            "__________________________________________________________________________________________________\n",
            "block13_sepconv2_bn (BatchNorma (None, 2, 2, 1024)   4096        block13_sepconv2[0][0]           \n",
            "__________________________________________________________________________________________________\n",
            "conv2d_3 (Conv2D)               (None, 1, 1, 1024)   745472      add_10[0][0]                     \n",
            "__________________________________________________________________________________________________\n",
            "block13_pool (MaxPooling2D)     (None, 1, 1, 1024)   0           block13_sepconv2_bn[0][0]        \n",
            "__________________________________________________________________________________________________\n",
            "batch_normalization_3 (BatchNor (None, 1, 1, 1024)   4096        conv2d_3[0][0]                   \n",
            "__________________________________________________________________________________________________\n",
            "add_11 (Add)                    (None, 1, 1, 1024)   0           block13_pool[0][0]               \n",
            "                                                                 batch_normalization_3[0][0]      \n",
            "__________________________________________________________________________________________________\n",
            "block14_sepconv1 (SeparableConv (None, 1, 1, 1536)   1582080     add_11[0][0]                     \n",
            "__________________________________________________________________________________________________\n",
            "block14_sepconv1_bn (BatchNorma (None, 1, 1, 1536)   6144        block14_sepconv1[0][0]           \n",
            "__________________________________________________________________________________________________\n",
            "block14_sepconv1_act (Activatio (None, 1, 1, 1536)   0           block14_sepconv1_bn[0][0]        \n",
            "__________________________________________________________________________________________________\n",
            "block14_sepconv2 (SeparableConv (None, 1, 1, 2048)   3159552     block14_sepconv1_act[0][0]       \n",
            "__________________________________________________________________________________________________\n",
            "block14_sepconv2_bn (BatchNorma (None, 1, 1, 2048)   8192        block14_sepconv2[0][0]           \n",
            "__________________________________________________________________________________________________\n",
            "block14_sepconv2_act (Activatio (None, 1, 1, 2048)   0           block14_sepconv2_bn[0][0]        \n",
            "__________________________________________________________________________________________________\n",
            "global_average_pooling2d (Globa (None, 2048)         0           block14_sepconv2_act[0][0]       \n",
            "__________________________________________________________________________________________________\n",
            "dropout (Dropout)               (None, 2048)         0           global_average_pooling2d[0][0]   \n",
            "__________________________________________________________________________________________________\n",
            "fc1 (Dense)                     (None, 50)           102450      dropout[0][0]                    \n",
            "__________________________________________________________________________________________________\n",
            "output (Dense)                  (None, 10)           510         fc1[0][0]                        \n",
            "==================================================================================================\n",
            "Total params: 20,964,440\n",
            "Trainable params: 20,909,912\n",
            "Non-trainable params: 54,528\n",
            "__________________________________________________________________________________________________\n",
            "Epoch 1/40\n",
            "665/665 [==============================] - 114s 114ms/step - loss: 1.0901 - accuracy: 0.6311 - val_loss: 0.5434 - val_accuracy: 0.8396\n",
            "Epoch 2/40\n",
            "665/665 [==============================] - 73s 110ms/step - loss: 0.4059 - accuracy: 0.8673 - val_loss: 0.6069 - val_accuracy: 0.8169\n",
            "Epoch 3/40\n",
            "665/665 [==============================] - 73s 110ms/step - loss: 0.2958 - accuracy: 0.9037 - val_loss: 0.4227 - val_accuracy: 0.8680\n",
            "Epoch 4/40\n",
            "665/665 [==============================] - 73s 110ms/step - loss: 0.2343 - accuracy: 0.9238 - val_loss: 0.4697 - val_accuracy: 0.8597\n",
            "Epoch 5/40\n",
            "665/665 [==============================] - 74s 111ms/step - loss: 0.2233 - accuracy: 0.9287 - val_loss: 0.4284 - val_accuracy: 0.8743\n",
            "Epoch 6/40\n",
            "665/665 [==============================] - 74s 111ms/step - loss: 0.1622 - accuracy: 0.9472 - val_loss: 0.3186 - val_accuracy: 0.8955\n",
            "Epoch 7/40\n",
            "665/665 [==============================] - 74s 111ms/step - loss: 0.1488 - accuracy: 0.9525 - val_loss: 0.3700 - val_accuracy: 0.8908\n",
            "Epoch 8/40\n",
            "665/665 [==============================] - 74s 111ms/step - loss: 0.1204 - accuracy: 0.9611 - val_loss: 0.6342 - val_accuracy: 0.8357\n",
            "Epoch 9/40\n",
            "665/665 [==============================] - 74s 111ms/step - loss: 0.1336 - accuracy: 0.9567 - val_loss: 0.3306 - val_accuracy: 0.8993\n",
            "Epoch 10/40\n",
            "665/665 [==============================] - 74s 111ms/step - loss: 0.1023 - accuracy: 0.9667 - val_loss: 0.3534 - val_accuracy: 0.8971\n",
            "Epoch 11/40\n",
            "665/665 [==============================] - 74s 111ms/step - loss: 0.0994 - accuracy: 0.9662 - val_loss: 0.3587 - val_accuracy: 0.9023\n",
            "\n",
            "Epoch 00011: ReduceLROnPlateau reducing learning rate to 0.00020000000949949026.\n",
            "Epoch 12/40\n",
            "665/665 [==============================] - 74s 111ms/step - loss: 0.0537 - accuracy: 0.9825 - val_loss: 0.2655 - val_accuracy: 0.9341\n",
            "Epoch 13/40\n",
            "665/665 [==============================] - 74s 111ms/step - loss: 0.0180 - accuracy: 0.9944 - val_loss: 0.2836 - val_accuracy: 0.9321\n",
            "Epoch 14/40\n",
            "665/665 [==============================] - 74s 111ms/step - loss: 0.0107 - accuracy: 0.9963 - val_loss: 0.3127 - val_accuracy: 0.9336\n",
            "Epoch 15/40\n",
            "665/665 [==============================] - 74s 111ms/step - loss: 0.0118 - accuracy: 0.9968 - val_loss: 0.3484 - val_accuracy: 0.9299\n",
            "Epoch 16/40\n",
            "665/665 [==============================] - 73s 110ms/step - loss: 0.0090 - accuracy: 0.9973 - val_loss: 0.3840 - val_accuracy: 0.9228\n",
            "Epoch 17/40\n",
            "665/665 [==============================] - 74s 111ms/step - loss: 0.0125 - accuracy: 0.9960 - val_loss: 0.3311 - val_accuracy: 0.9347\n",
            "\n",
            "Epoch 00017: ReduceLROnPlateau reducing learning rate to 4.0000001899898055e-05.\n",
            "Epoch 18/40\n",
            "665/665 [==============================] - 73s 110ms/step - loss: 0.0052 - accuracy: 0.9983 - val_loss: 0.3130 - val_accuracy: 0.9375\n",
            "Epoch 19/40\n",
            "665/665 [==============================] - 73s 110ms/step - loss: 0.0038 - accuracy: 0.9990 - val_loss: 0.3171 - val_accuracy: 0.9368\n",
            "Epoch 20/40\n",
            "665/665 [==============================] - 73s 110ms/step - loss: 0.0025 - accuracy: 0.9993 - val_loss: 0.3246 - val_accuracy: 0.9369\n",
            "Epoch 21/40\n",
            "665/665 [==============================] - 73s 110ms/step - loss: 0.0021 - accuracy: 0.9994 - val_loss: 0.3309 - val_accuracy: 0.9375\n",
            "Epoch 22/40\n",
            "665/665 [==============================] - 73s 110ms/step - loss: 0.0015 - accuracy: 0.9996 - val_loss: 0.3403 - val_accuracy: 0.9380\n",
            "\n",
            "Epoch 00022: ReduceLROnPlateau reducing learning rate to 8.000000525498762e-06.\n",
            "Epoch 00022: early stopping\n",
            "157/157 [==============================] - 5s 31ms/step - loss: 0.3647 - accuracy: 0.9338\n",
            "테스트 데이터 세트 evaluation 결과: [0.364653617143631, 0.9337999820709229]\n"
          ],
          "name": "stdout"
        }
      ]
    },
    {
      "cell_type": "code",
      "metadata": {
        "colab": {
          "base_uri": "https://localhost:8080/"
        },
        "id": "4RYEn_SusTSZ",
        "outputId": "44e2dfe0-be97-447b-c7b6-6cc8c82e1360"
      },
      "source": [
        "print('테스트 데이터세트 검증결과:', evaluation_result)"
      ],
      "execution_count": 5,
      "outputs": [
        {
          "output_type": "stream",
          "text": [
            "테스트 데이터세트 검증결과: [0.364653617143631, 0.9337999820709229]\n"
          ],
          "name": "stdout"
        }
      ]
    },
    {
      "cell_type": "code",
      "metadata": {
        "colab": {
          "base_uri": "https://localhost:8080/",
          "height": 265
        },
        "id": "kmfsjBFd0OkY",
        "outputId": "f20a6158-0a50-4276-f8b5-40d8f7d22867"
      },
      "source": [
        "import matplotlib.pyplot as plt\n",
        "%matplotlib inline\n",
        "\n",
        "def show_history(history):\n",
        "  plt.figure(figsize=(8, 4))\n",
        "  plt.yticks(np.arange(0, 1, 0.05))\n",
        "  plt.xticks(np.arange(0, 30, 2))\n",
        "  plt.plot(history.history['accuracy'], label='train')\n",
        "  plt.plot(history.history['val_accuracy'], label='valid')\n",
        "  plt.legend()\n",
        "\n",
        "show_history(history)"
      ],
      "execution_count": 7,
      "outputs": [
        {
          "output_type": "display_data",
          "data": {
            "image/png": "[encoded data removed]",
            "text/plain": [
              "<Figure size 576x288 with 1 Axes>"
            ]
          },
          "metadata": {
            "tags": [],
            "needs_background": "light"
          }
        }
      ]
    }
  ]
}